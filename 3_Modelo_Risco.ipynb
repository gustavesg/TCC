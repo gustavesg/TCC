{
  "nbformat": 4,
  "nbformat_minor": 0,
  "metadata": {
    "colab": {
      "provenance": [],
      "mount_file_id": "1rXdpE-_zWP6P2oEfzj0JhpxCwq1AD95d",
      "authorship_tag": "ABX9TyMQZwPn0zZThcqlk3baxaRo",
      "include_colab_link": true
    },
    "kernelspec": {
      "name": "python3",
      "display_name": "Python 3"
    },
    "language_info": {
      "name": "python"
    }
  },
  "cells": [
    {
      "cell_type": "markdown",
      "metadata": {
        "id": "view-in-github",
        "colab_type": "text"
      },
      "source": [
        "<a href=\"https://colab.research.google.com/github/gustavesg/TCC/blob/main/3_Modelo_Risco.ipynb\" target=\"_parent\"><img src=\"https://colab.research.google.com/assets/colab-badge.svg\" alt=\"Open In Colab\"/></a>"
      ]
    },
    {
      "cell_type": "markdown",
      "source": [
        "###**Importações bibliotecas e base**\n",
        "\n",
        "\n"
      ],
      "metadata": {
        "id": "gOMDljYB1ZQT"
      }
    },
    {
      "cell_type": "code",
      "source": [
        "# Importar bibliotecas necessárias + drive\n",
        "\n",
        "import pandas as pd\n",
        "from sklearn.model_selection import train_test_split\n",
        "from sklearn.linear_model import LogisticRegression\n",
        "from sklearn.preprocessing import StandardScaler\n",
        "from sklearn.ensemble import RandomForestClassifier\n",
        "from scipy.stats import kstest\n",
        "from scipy.stats import mannwhitneyu\n",
        "from sklearn.metrics import f1_score\n",
        "from sklearn.svm import SVC\n",
        "from sklearn.metrics import accuracy_score, confusion_matrix, classification_report,precision_score,recall_score,log_loss\n",
        "from sklearn.metrics import confusion_matrix, roc_curve, auc\n",
        "import matplotlib.pyplot as plt\n",
        "import seaborn as sns\n",
        "import numpy as np\n",
        "\n",
        "\n",
        "from google.colab import drive\n",
        "drive.mount('/content/drive')\n"
      ],
      "metadata": {
        "id": "LrdLxQed1nuK",
        "colab": {
          "base_uri": "https://localhost:8080/"
        },
        "outputId": "b4a36be9-78c4-469c-cc0e-6ccb80564fb3"
      },
      "execution_count": null,
      "outputs": [
        {
          "output_type": "stream",
          "name": "stdout",
          "text": [
            "Drive already mounted at /content/drive; to attempt to forcibly remount, call drive.mount(\"/content/drive\", force_remount=True).\n"
          ]
        }
      ]
    },
    {
      "cell_type": "code",
      "source": [
        "#importação base de treino e teste\n",
        "df_treino = pd.read_csv('/content/drive/MyDrive/TCC/1. Base de Dados/dados_finais_treino/base_no_normalizada_treino')\n",
        "df_teste = pd.read_csv('/content/drive/MyDrive/TCC/1. Base de Dados/dados_finais_teste/base_no_normalizada_teste')"
      ],
      "metadata": {
        "id": "07YArTwzwpX4"
      },
      "execution_count": null,
      "outputs": []
    },
    {
      "cell_type": "markdown",
      "source": [
        "### **Nova variável: Comprometimento Renda**"
      ],
      "metadata": {
        "id": "wlf9A2nU1uTH"
      }
    },
    {
      "cell_type": "code",
      "source": [
        "############################################# BASE TREINO ########################################################\n",
        "\n",
        "#variável de renda mensal média\n",
        "df_treino['renda_mensal'] = df_treino['annual_inc']/12\n",
        "\n",
        "\n",
        "#renda futura (inflação média dos EUA no período considerado)\n",
        "renda_futura = df_treino['annual_inc']\n",
        "\n",
        "#indicador de capacidade de pagamento do empréstimo\n",
        "comprometimento = ((1 + 0.01*df_treino['int_rate'])**60)*df_treino['loan_amnt']/60\n",
        "\n",
        "#index\n",
        "df_treino['index'] = comprometimento/renda_futura\n",
        "\n",
        "############################################# BASE TESTE ########################################################\n",
        "\n",
        "#variável de renda mensal média\n",
        "df_teste['renda_mensal'] = df_teste['annual_inc']/12\n",
        "\n",
        "\n",
        "#renda futura (inflação média dos EUA no período considerado)\n",
        "renda_futura = df_teste['annual_inc']\n",
        "\n",
        "#indicador de capacidade de pagamento do empréstimo\n",
        "comprometimento = ((1 + 0.01*df_teste['int_rate'])**60)*df_teste['loan_amnt']/60\n",
        "\n",
        "#index\n",
        "df_teste['index'] = comprometimento/renda_futura\n",
        "\n",
        "#################################################################################################################\n"
      ],
      "metadata": {
        "id": "TA8AKVGV3ACQ"
      },
      "execution_count": null,
      "outputs": []
    },
    {
      "cell_type": "markdown",
      "source": [
        "### **Hipótese de igualdade de média entre bons e maus pagadores**"
      ],
      "metadata": {
        "id": "tJt0RG_wCFD3"
      }
    },
    {
      "cell_type": "code",
      "source": [
        "#Aplicamos o teste de Mann-Whitney U para verificar a hipótese de que a média das taxas pra cada grupo são iguais\n",
        "\n",
        "#nivel de significancia\n",
        "alpha = 0.05\n",
        "\n",
        "for column in df_treino.columns:\n",
        "\n",
        "    #taxas para bons e maus pagadores\n",
        "    values_good = df_treino[df_treino['loan_status'] == 1][column].dropna().to_numpy()\n",
        "    values_bad = df_treino[df_treino['loan_status'] == 0][column].dropna().to_numpy()\n",
        "\n",
        "\n",
        "    # Realizando o teste de Mann-Whitney U\n",
        "    stat, p_value = mannwhitneyu(values_good, values_bad)\n",
        "\n",
        "    print(104*'=')\n",
        "    print(f'Análise pra coluna : {column}')\n",
        "    print(104*'=')\n",
        "\n",
        "\n",
        "    print('Estatística do teste:', stat)\n",
        "    print('Valor-p:', p_value)\n",
        "\n",
        "    # Interpretação do resultado\n",
        "    if p_value < alpha:\n",
        "        print('Rejeita a hipótese nula: as populações têm médias diferentes')\n",
        "    else:\n",
        "        print('Falha em rejeitar a hipótese nula: não há evidências suficientes para dizer que as populações têm médias diferentes')\n",
        "\n",
        "    print(104*'=')\n"
      ],
      "metadata": {
        "colab": {
          "base_uri": "https://localhost:8080/"
        },
        "id": "06BMfcMfpk4h",
        "outputId": "7d13869c-4f32-4809-b27a-1bf85e814e4c"
      },
      "execution_count": null,
      "outputs": [
        {
          "output_type": "stream",
          "name": "stdout",
          "text": [
            "========================================================================================================\n",
            "Análise pra coluna : Unnamed: 0\n",
            "========================================================================================================\n",
            "Estatística do teste: 0.0\n",
            "Valor-p: 0.0\n",
            "Rejeita a hipótese nula: as populações têm médias diferentes\n",
            "========================================================================================================\n",
            "========================================================================================================\n",
            "Análise pra coluna : int_rate\n",
            "========================================================================================================\n",
            "Estatística do teste: 8157330778.5\n",
            "Valor-p: 0.0\n",
            "Rejeita a hipótese nula: as populações têm médias diferentes\n",
            "========================================================================================================\n",
            "========================================================================================================\n",
            "Análise pra coluna : dti\n",
            "========================================================================================================\n",
            "Estatística do teste: 10706836515.0\n",
            "Valor-p: 0.0\n",
            "Rejeita a hipótese nula: as populações têm médias diferentes\n",
            "========================================================================================================\n",
            "========================================================================================================\n",
            "Análise pra coluna : bc_open_to_buy\n",
            "========================================================================================================\n",
            "Estatística do teste: 13906000951.5\n",
            "Valor-p: 0.0\n",
            "Rejeita a hipótese nula: as populações têm médias diferentes\n",
            "========================================================================================================\n",
            "========================================================================================================\n",
            "Análise pra coluna : avg_cur_bal\n",
            "========================================================================================================\n",
            "Estatística do teste: 13778693230.5\n",
            "Valor-p: 0.0\n",
            "Rejeita a hipótese nula: as populações têm médias diferentes\n",
            "========================================================================================================\n",
            "========================================================================================================\n",
            "Análise pra coluna : revol_bal\n",
            "========================================================================================================\n",
            "Estatística do teste: 12494689859.5\n",
            "Valor-p: 4.982102550326744e-05\n",
            "Rejeita a hipótese nula: as populações têm médias diferentes\n",
            "========================================================================================================\n",
            "========================================================================================================\n",
            "Análise pra coluna : annual_inc\n",
            "========================================================================================================\n",
            "Estatística do teste: 13552492352.0\n",
            "Valor-p: 3.038504356932678e-298\n",
            "Rejeita a hipótese nula: as populações têm médias diferentes\n",
            "========================================================================================================\n",
            "========================================================================================================\n",
            "Análise pra coluna : loan_amnt\n",
            "========================================================================================================\n",
            "Estatística do teste: 11099293260.5\n",
            "Valor-p: 0.0\n",
            "Rejeita a hipótese nula: as populações têm médias diferentes\n",
            "========================================================================================================\n",
            "========================================================================================================\n",
            "Análise pra coluna : tot_cur_bal\n",
            "========================================================================================================\n",
            "Estatística do teste: 13474077259.5\n",
            "Valor-p: 1.79245210774409e-251\n",
            "Rejeita a hipótese nula: as populações têm médias diferentes\n",
            "========================================================================================================\n",
            "========================================================================================================\n",
            "Análise pra coluna : bc_util\n",
            "========================================================================================================\n",
            "Estatística do teste: 11604584912.5\n",
            "Valor-p: 0.0\n",
            "Rejeita a hipótese nula: as populações têm médias diferentes\n",
            "========================================================================================================\n",
            "========================================================================================================\n",
            "Análise pra coluna : total_bc_limit\n",
            "========================================================================================================\n",
            "Estatística do teste: 13589150174.5\n",
            "Valor-p: 0.0\n",
            "Rejeita a hipótese nula: as populações têm médias diferentes\n",
            "========================================================================================================\n",
            "========================================================================================================\n",
            "Análise pra coluna : loan_status\n",
            "========================================================================================================\n",
            "Estatística do teste: 25198889859.0\n",
            "Valor-p: 0.0\n",
            "Rejeita a hipótese nula: as populações têm médias diferentes\n",
            "========================================================================================================\n",
            "========================================================================================================\n",
            "Análise pra coluna : renda_mensal\n",
            "========================================================================================================\n",
            "Estatística do teste: 13552492352.0\n",
            "Valor-p: 3.038504356932678e-298\n",
            "Rejeita a hipótese nula: as populações têm médias diferentes\n",
            "========================================================================================================\n",
            "========================================================================================================\n",
            "Análise pra coluna : index\n",
            "========================================================================================================\n",
            "Estatística do teste: 7995925458.0\n",
            "Valor-p: 0.0\n",
            "Rejeita a hipótese nula: as populações têm médias diferentes\n",
            "========================================================================================================\n"
          ]
        }
      ]
    },
    {
      "cell_type": "code",
      "source": [
        "df_treino[(df_treino['loan_status'] == 0)]['index'].median()"
      ],
      "metadata": {
        "colab": {
          "base_uri": "https://localhost:8080/"
        },
        "id": "EFvLCHAQIqKm",
        "outputId": "9ba68aac-2401-4454-94dc-9174bf912eaf"
      },
      "execution_count": null,
      "outputs": [
        {
          "output_type": "execute_result",
          "data": {
            "text/plain": [
              "17.811056565230267"
            ]
          },
          "metadata": {},
          "execution_count": 45
        }
      ]
    },
    {
      "cell_type": "code",
      "source": [
        "df_treino[(df_treino['loan_status'] == 1)]['index'].median()"
      ],
      "metadata": {
        "colab": {
          "base_uri": "https://localhost:8080/"
        },
        "id": "ddM2lKqHSqKv",
        "outputId": "308936ba-dd2c-4875-af04-b516b048a2f2"
      },
      "execution_count": null,
      "outputs": [
        {
          "output_type": "execute_result",
          "data": {
            "text/plain": [
              "3.343824052604956"
            ]
          },
          "metadata": {},
          "execution_count": 46
        }
      ]
    },
    {
      "cell_type": "markdown",
      "source": [
        "### **Parâmetro de Permissividade**"
      ],
      "metadata": {
        "id": "Yhv0mQD8fm-a"
      }
    },
    {
      "cell_type": "code",
      "source": [
        "permissividade = 0.50"
      ],
      "metadata": {
        "id": "ppbzsMJOfmsi"
      },
      "execution_count": null,
      "outputs": []
    },
    {
      "cell_type": "markdown",
      "source": [
        "### **Ponto de corte : Index**"
      ],
      "metadata": {
        "id": "SjfZ_8OpIRI8"
      }
    },
    {
      "cell_type": "code",
      "source": [
        "soma_index = 0\n",
        "\n",
        "for j in range(1,1000):\n",
        "\n",
        "  amostra_maus_pagadores = df_treino[(df_treino['loan_status'] == 0)].sample(n = 1000, random_state = 62349605)\n",
        "  amostra_bons_pagadores = df_treino[(df_treino['loan_status'] == 1)].sample(n = 1000, random_state = 62349605)\n",
        "\n",
        "\n",
        "  #define o corte inicial 15\n",
        "  index = 100\n",
        "\n",
        "  contagem_erro_tipo_1 = 1\n",
        "  contagem_erro_tipo_2 = 0\n",
        "\n",
        "\n",
        "\n",
        "\n",
        "  while contagem_erro_tipo_1/(contagem_erro_tipo_1 + contagem_erro_tipo_2)  > permissividade:\n",
        "\n",
        "    contagem_erro_tipo_1 = amostra_maus_pagadores[amostra_maus_pagadores['index'] < index].shape[0]\n",
        "    contagem_erro_tipo_2 = amostra_bons_pagadores[amostra_bons_pagadores['index'] >= index].shape[0]\n",
        "\n",
        "\n",
        "    index = index - 0.5\n",
        "\n",
        "\n",
        "  soma_index += index\n",
        "\n",
        "\n",
        "print('index_medio = ', soma_index/1000)"
      ],
      "metadata": {
        "id": "8oBiJ-gqIZuj",
        "colab": {
          "base_uri": "https://localhost:8080/"
        },
        "outputId": "fd3fa82e-2586-4380-ce31-f855ab5e6372"
      },
      "execution_count": null,
      "outputs": [
        {
          "output_type": "stream",
          "name": "stdout",
          "text": [
            "index_medio =  6.993\n"
          ]
        }
      ]
    },
    {
      "cell_type": "code",
      "source": [
        "ponto_corte_index =  soma_index/1000"
      ],
      "metadata": {
        "id": "NkuszsaOUprD"
      },
      "execution_count": null,
      "outputs": []
    },
    {
      "cell_type": "markdown",
      "source": [
        "### **Modelo: fase I**"
      ],
      "metadata": {
        "id": "e1FZjblLLHgg"
      }
    },
    {
      "cell_type": "code",
      "source": [
        "#verdadeiros positivos\n",
        "VP =  df_teste[(df_teste['loan_status'] == 1) & (df_teste['index'] < ponto_corte_index)].shape[0]\n",
        "\n",
        "#verdadeiros negativos\n",
        "VN =  df_teste[(df_teste['loan_status'] == 0) & (df_teste['index'] >= ponto_corte_index)].shape[0]\n",
        "\n",
        "#falsos positivos\n",
        "FP = df_teste[(df_teste['loan_status'] == 0) & (df_teste['index'] < ponto_corte_index)].shape[0]\n",
        "\n",
        "#falsos negativos\n",
        "FN = df_teste[(df_teste['loan_status'] == 1) & (df_teste['index'] >= ponto_corte_index)].shape[0]\n",
        "\n",
        "#total previsões\n",
        "T = VP+VN+FP+FN\n",
        "\n",
        "#print acurácia\n",
        "print(f'Acurácia = {(VP+VN)/T}')\n",
        "\n",
        "#print especificidade\n",
        "print(f'Especificidade = {VN/(VN+FP)}')\n",
        "\n",
        "#print precisão\n",
        "print(f'Precisão = {VP/(VP+FP)}')\n"
      ],
      "metadata": {
        "id": "2LXa0JQOo82p",
        "colab": {
          "base_uri": "https://localhost:8080/"
        },
        "outputId": "2c17bb19-9cbf-4cfe-ee27-915a3c12965e"
      },
      "execution_count": null,
      "outputs": [
        {
          "output_type": "stream",
          "name": "stdout",
          "text": [
            "Acurácia = 0.6333033693933852\n",
            "Especificidade = 0.6483412606718982\n",
            "Precisão = 0.6216848799857952\n"
          ]
        }
      ]
    },
    {
      "cell_type": "markdown",
      "source": [
        "### **Ponto de Corte: DTI**"
      ],
      "metadata": {
        "id": "ExsUunqBLRYP"
      }
    },
    {
      "cell_type": "code",
      "source": [
        "sub_df = df_treino[df_treino['index'] < ponto_corte_index]\n",
        "\n",
        "soma_corte_dti = 0\n",
        "\n",
        "for j in range(1,1000):\n",
        "\n",
        "  amostra_maus_pagadores = sub_df[(sub_df['loan_status'] == 0)].sample(n = 1000, random_state = 62349605)\n",
        "  amostra_bons_pagadores = sub_df[(sub_df['loan_status'] == 1)].sample(n = 1000, random_state = 62349605)\n",
        "\n",
        "\n",
        "  #define o corte inicial 15\n",
        "  dti = 0\n",
        "\n",
        "  contagem_erro_tipo_1 = 1\n",
        "  contagem_erro_tipo_2 = 0\n",
        "\n",
        "  while contagem_erro_tipo_1/(contagem_erro_tipo_1 + contagem_erro_tipo_2)  > permissividade:\n",
        "\n",
        "    contagem_erro_tipo_1 = amostra_maus_pagadores[amostra_maus_pagadores['dti'] > dti].shape[0]\n",
        "    contagem_erro_tipo_2 = amostra_bons_pagadores[amostra_bons_pagadores['dti'] <= dti].shape[0]\n",
        "\n",
        "    dti = dti + 0.5\n",
        "\n",
        "    #print(soma_corte_dti/j,contagem_erro_tipo_1,contagem_erro_tipo_2)\n",
        "\n",
        "\n",
        "  soma_corte_dti += dti\n",
        "\n",
        "\n",
        "print('dti_medio = ', soma_corte_dti/1000)"
      ],
      "metadata": {
        "id": "oDaKyZKG2D02",
        "colab": {
          "base_uri": "https://localhost:8080/"
        },
        "outputId": "3341eb97-d86d-485c-fbb4-b61a327720fd"
      },
      "execution_count": null,
      "outputs": [
        {
          "output_type": "stream",
          "name": "stdout",
          "text": [
            "dti_medio =  17.982\n"
          ]
        }
      ]
    },
    {
      "cell_type": "code",
      "source": [
        "ponto_corte_dti = soma_corte_dti/1000"
      ],
      "metadata": {
        "id": "ID1K95ZcU99p"
      },
      "execution_count": null,
      "outputs": []
    },
    {
      "cell_type": "markdown",
      "source": [
        "### **Modelo: fase II**"
      ],
      "metadata": {
        "id": "qnbph_HFLyf8"
      }
    },
    {
      "cell_type": "code",
      "source": [
        "#verdadeiros positivos\n",
        "VP =  df_teste[(df_teste['loan_status'] == 1) & (df_teste['index'] < ponto_corte_index) & (df_teste['dti'] < 20.979)].shape[0]\n",
        "\n",
        "#verdadeiros negativos\n",
        "VN =  df_teste[(df_teste['loan_status'] == 0) & (df_teste['index'] >= ponto_corte_index)].shape[0] + df_teste[(df_teste['loan_status'] == 0) & (df_teste['index'] < ponto_corte_index) & (df_teste['dti'] >= ponto_corte_dti)].shape[0]\n",
        "\n",
        "#falsos positivos\n",
        "FP = df_teste[(df_teste['loan_status'] == 0) & (df_teste['index'] < ponto_corte_index) & (df_teste['dti'] < 20.979)].shape[0]\n",
        "\n",
        "#falsos negativos\n",
        "FN = df_teste[(df_teste['loan_status'] == 1) & (df_teste['index'] >= ponto_corte_index)].shape[0] + df_teste[(df_teste['loan_status'] == 1) & (df_teste['index'] < ponto_corte_index) & (df_teste['dti'] >= ponto_corte_dti)].shape[0]\n",
        "\n",
        "#total previsões\n",
        "T = VP + VN + FP + FN\n",
        "\n",
        "\n",
        "#print acurácia\n",
        "print(f'Acurácia = {(VP+VN)/T}')\n",
        "\n",
        "#print especificidade\n",
        "print(f'Especificidade = {VN/(VN+FP)}')\n",
        "\n",
        "#print precisão\n",
        "print(f'Precisão = {VP/(VP+FP)}')\n",
        "\n"
      ],
      "metadata": {
        "id": "Wj795XA-rr4p",
        "colab": {
          "base_uri": "https://localhost:8080/"
        },
        "outputId": "241caaae-aeeb-411d-c818-ee1a44dd893c"
      },
      "execution_count": null,
      "outputs": [
        {
          "output_type": "stream",
          "name": "stdout",
          "text": [
            "Acurácia = 0.5989080064905639\n",
            "Especificidade = 0.7909543699493319\n",
            "Precisão = 0.6481955650031402\n"
          ]
        }
      ]
    },
    {
      "cell_type": "markdown",
      "source": [
        "### **Ponto de Corte : avg_cur_bal**"
      ],
      "metadata": {
        "id": "SGV2jcy9OjKL"
      }
    },
    {
      "cell_type": "code",
      "source": [
        "sub_sub_df = sub_df[sub_df['dti'] < ponto_corte_dti]\n",
        "\n",
        "soma_corte_avg_cur_bal = 0\n",
        "\n",
        "for j in range(1,1000):\n",
        "\n",
        "  amostra_maus_pagadores = sub_sub_df[(sub_sub_df['loan_status'] == 0)].sample(n = 1000, random_state = 62349605)\n",
        "  amostra_bons_pagadores = sub_sub_df[(sub_sub_df['loan_status'] == 1)].sample(n = 1000, random_state = 62349605)\n",
        "\n",
        "\n",
        "  #define o corte inicial 8000\n",
        "  avg_cur_bal  = 0\n",
        "\n",
        "  contagem_erro_tipo_1 = 1\n",
        "  contagem_erro_tipo_2 = 0\n",
        "\n",
        "  while contagem_erro_tipo_1/(contagem_erro_tipo_1 + contagem_erro_tipo_2)  > permissividade:\n",
        "\n",
        "\n",
        "    contagem_erro_tipo_1 = amostra_maus_pagadores[amostra_maus_pagadores['avg_cur_bal'] >  avg_cur_bal].shape[0]\n",
        "    contagem_erro_tipo_2 = amostra_bons_pagadores[amostra_bons_pagadores['avg_cur_bal'] <= avg_cur_bal].shape[0]\n",
        "\n",
        "    avg_cur_bal = avg_cur_bal + 500\n",
        "\n",
        "    #print(contagem_erro_tipo_1,contagem_erro_tipo_2)\n",
        "\n",
        "\n",
        "  soma_corte_avg_cur_bal += avg_cur_bal\n",
        "\n",
        "\n",
        "print('avg_cur_bal_medio = ', soma_corte_avg_cur_bal/1000)"
      ],
      "metadata": {
        "id": "V3AH6WigOq2z",
        "colab": {
          "base_uri": "https://localhost:8080/"
        },
        "outputId": "c54b0195-02fc-423f-bc11-380ab5fcce54"
      },
      "execution_count": null,
      "outputs": [
        {
          "output_type": "stream",
          "name": "stdout",
          "text": [
            "avg_cur_bal_medio =  7492.5\n"
          ]
        }
      ]
    },
    {
      "cell_type": "code",
      "source": [
        "ponto_corte_avg_cur_bal = soma_corte_avg_cur_bal/1000"
      ],
      "metadata": {
        "id": "6xvDBCilWT1a"
      },
      "execution_count": null,
      "outputs": []
    },
    {
      "cell_type": "markdown",
      "source": [
        "### **Modelo : fase III**"
      ],
      "metadata": {
        "id": "1xTkuyI20kfB"
      }
    },
    {
      "cell_type": "code",
      "source": [
        "#verdadeiros positivos\n",
        "VP =  df_teste[(df_teste['loan_status'] == 1) & (df_teste['index'] < ponto_corte_index) & (df_teste['dti'] < ponto_corte_dti) & (df_teste['avg_cur_bal'] > ponto_corte_avg_cur_bal)].shape[0]\n",
        "\n",
        "#verdadeiros negativos\n",
        "VN =  df_teste[(df_teste['loan_status'] == 0) & (df_teste['index'] >= ponto_corte_index)].shape[0] + df_teste[(df_teste['loan_status'] == 0) & (df_teste['index'] < ponto_corte_index) & (df_teste['dti'] >= ponto_corte_dti)].shape[0] + df_teste[(df_teste['loan_status'] == 0) & (df_teste['index'] < ponto_corte_index) & (df_teste['dti'] < ponto_corte_dti) & (df_teste['avg_cur_bal'] <= ponto_corte_avg_cur_bal)].shape[0]\n",
        "\n",
        "#falsos positivos\n",
        "FP = df_teste[(df_teste['loan_status'] == 0) & (df_teste['index'] < ponto_corte_index) & (df_teste['dti'] < ponto_corte_dti) & (df_teste['avg_cur_bal'] > ponto_corte_avg_cur_bal)].shape[0]\n",
        "\n",
        "#falsos negativos\n",
        "FN = df_teste[(df_teste['loan_status'] == 1) & (df_teste['index'] >= ponto_corte_index)].shape[0] + df_teste[(df_teste['loan_status'] == 1) & (df_teste['index'] < ponto_corte_index) & (df_teste['dti'] >= ponto_corte_dti)].shape[0] + df_teste[(df_teste['loan_status'] == 1) & (df_teste['index'] < ponto_corte_index) & (df_teste['dti'] < ponto_corte_dti) & (df_teste['avg_cur_bal'] <= ponto_corte_avg_cur_bal)].shape[0]\n",
        "\n",
        "#total previsões\n",
        "T = VP + VN + FP + FN\n",
        "\n",
        "#acurácia\n",
        "acuracia = (VP+VN)/T\n",
        "\n",
        "#precisão\n",
        "precisao = VP/(VP+FP)\n",
        "\n",
        "#sensibilidade\n",
        "recall = VP/(FN + VP)\n",
        "\n"
      ],
      "metadata": {
        "id": "kXHOnAcLzlQF"
      },
      "execution_count": null,
      "outputs": []
    },
    {
      "cell_type": "markdown",
      "source": [
        "### **Função de classificação do mutuário**"
      ],
      "metadata": {
        "id": "UtFo0TEoTm4I"
      }
    },
    {
      "cell_type": "code",
      "source": [
        "def classifica_modelo(df: pd.DataFrame):\n",
        "\n",
        "  if df['index'] >= ponto_corte_index: return 0\n",
        "\n",
        "  else:\n",
        "\n",
        "      if df['dti'] >= ponto_corte_dti: return 0\n",
        "\n",
        "      else:\n",
        "\n",
        "          if df['avg_cur_bal'] <= ponto_corte_avg_cur_bal: return 0\n",
        "\n",
        "          else: return 1\n",
        "\n",
        "df_teste['y_pred'] = df_teste.apply(classifica_modelo, axis=1)"
      ],
      "metadata": {
        "id": "pYuQTXJWT6qs"
      },
      "execution_count": null,
      "outputs": []
    },
    {
      "cell_type": "code",
      "source": [
        "#calcula f1 score ponderado\n",
        "\n",
        "#defina os pesos para cada classe\n",
        "pesos = {0: 1- alpha, 1: alpha}\n",
        "\n",
        "# Calcule o F1 Score para cada classe\n",
        "f1_class_0 = f1_score(df_teste['loan_status'], df_teste['y_pred'], pos_label=0, average='binary')\n",
        "f1_class_1 = f1_score(df_teste['loan_status'], df_teste['y_pred'], pos_label=1, average='binary')\n",
        "\n",
        "# Calcule o F1 Score ponderado manualmente\n",
        "f1_ponderado = (f1_class_0 * pesos[0] + f1_class_1 * pesos[1]) / sum(pesos.values())\n",
        "\n",
        "print(\"F1 Score Ponderado: \", f1_ponderado)\n",
        "print(\"Acurácia: \", acuracia)\n",
        "print(\"Precisão: \", precisao)\n",
        "print(\"Sensibilidade: \", recall)"
      ],
      "metadata": {
        "id": "u2pMFSinYjr7",
        "colab": {
          "base_uri": "https://localhost:8080/"
        },
        "outputId": "bd02cc6f-a052-41ea-de82-76bfe5885abe"
      },
      "execution_count": null,
      "outputs": [
        {
          "output_type": "stream",
          "name": "stdout",
          "text": [
            "F1 Score Ponderado:  0.6673175475141693\n",
            "Acurácia:  0.563559716065838\n",
            "Precisão:  0.7003891050583657\n",
            "Sensibilidade:  0.1702004904081927\n"
          ]
        }
      ]
    },
    {
      "cell_type": "code",
      "source": [
        "round(100*(VP+FP)/T,2)"
      ],
      "metadata": {
        "id": "Lu9iF2AxxCtA",
        "colab": {
          "base_uri": "https://localhost:8080/"
        },
        "outputId": "ef872abf-aa9a-4778-ad91-354f3c149246"
      },
      "execution_count": null,
      "outputs": [
        {
          "output_type": "execute_result",
          "data": {
            "text/plain": [
              "11.75"
            ]
          },
          "metadata": {},
          "execution_count": 59
        }
      ]
    },
    {
      "cell_type": "code",
      "source": [
        "sum(df_teste['y_pred'])/df_teste['y_pred'].shape[0]"
      ],
      "metadata": {
        "id": "E91-e7Z7NcOv",
        "colab": {
          "base_uri": "https://localhost:8080/"
        },
        "outputId": "7c1da3c7-6ebb-47f0-c690-c7e7cd0e5ea7"
      },
      "execution_count": null,
      "outputs": [
        {
          "output_type": "execute_result",
          "data": {
            "text/plain": [
              "0.11750255726728867"
            ]
          },
          "metadata": {},
          "execution_count": 60
        }
      ]
    }
  ]
}