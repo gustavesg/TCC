{
  "cells": [
    {
      "cell_type": "markdown",
      "metadata": {
        "id": "view-in-github",
        "colab_type": "text"
      },
      "source": [
        "<a href=\"https://colab.research.google.com/github/gustavesg/TCC/blob/main/1_Tratamento_Dados_TCC.ipynb\" target=\"_parent\"><img src=\"https://colab.research.google.com/assets/colab-badge.svg\" alt=\"Open In Colab\"/></a>"
      ]
    },
    {
      "cell_type": "code",
      "execution_count": null,
      "metadata": {
        "id": "ZSkiXDIcS1Ij"
      },
      "outputs": [],
      "source": [
        "#import necessary libraries\n",
        "#importa bibliotecas necessárias\n",
        "\n",
        "import pandas as pd\n",
        "import warnings\n",
        "from sklearn import decomposition\n",
        "import numpy as np\n",
        "from datetime import datetime\n",
        "import seaborn as sns\n",
        "\n",
        "#ignore warnings\n",
        "#ignora alertas\n",
        "warnings.filterwarnings('ignore')\n"
      ]
    },
    {
      "cell_type": "code",
      "execution_count": null,
      "metadata": {
        "id": "-hQAunyzDHcd"
      },
      "outputs": [],
      "source": [
        "#imports database\n",
        "#importa base\n",
        "\n",
        "df_treino = pd.read_csv(\"/content/drive/MyDrive/TCC/1. Base de Dados/dados_refinados/loan_refinada_treino.csv\")\n",
        "df_teste  = pd.read_csv(\"/content/drive/MyDrive/TCC/1. Base de Dados/dados_refinados/loan_refinada_teste.csv\")"
      ]
    },
    {
      "cell_type": "markdown",
      "metadata": {
        "id": "tGPEezux8gcc"
      },
      "source": [
        "##Tratamento colunas tipo string (String variables treatment)"
      ]
    },
    {
      "cell_type": "code",
      "execution_count": null,
      "metadata": {
        "id": "mo7YRzrqFY6q"
      },
      "outputs": [],
      "source": [
        "#get a copy of orignals datasets to treat variables\n",
        "#vamos usar uma cópia do df original pra criar o df pro modelo\n",
        "\n",
        "df_treino_models = df_treino.copy()\n",
        "df_teste_models = df_teste.copy()"
      ]
    },
    {
      "cell_type": "markdown",
      "source": [
        "**### id & member_id & url**"
      ],
      "metadata": {
        "id": "RHXN5CoQFEIH"
      }
    },
    {
      "cell_type": "code",
      "source": [
        "#this columns aren't important to the model, then we will drop them from database\n",
        "#essas colunas não são importantes para o modelo, portanto podem ser excluidas\n",
        "\n",
        "df_treino_models = df_treino_models.drop(['id','member_id','url'], axis = 1)\n",
        "df_teste_models = df_teste_models.drop(['id','member_id','url'], axis = 1)"
      ],
      "metadata": {
        "id": "0bTuq8hOFDzS"
      },
      "execution_count": null,
      "outputs": []
    },
    {
      "cell_type": "markdown",
      "metadata": {
        "id": "L35oT4A28a6_"
      },
      "source": [
        "### **term**"
      ]
    },
    {
      "cell_type": "code",
      "execution_count": null,
      "metadata": {
        "id": "ZXlqOW3q_u27",
        "colab": {
          "base_uri": "https://localhost:8080/"
        },
        "outputId": "98213ff9-b053-4a83-f2dd-390e96ce242c"
      },
      "outputs": [
        {
          "output_type": "stream",
          "name": "stdout",
          "text": [
            "0.0\n",
            "0.0\n"
          ]
        }
      ],
      "source": [
        "#null proportion\n",
        "#proporção de nulos\n",
        "\n",
        "print(df_treino_models['term'].isnull().sum()/df_treino_models.shape[0])\n",
        "print(df_teste_models['term'].isnull().sum()/df_teste_models.shape[0])\n"
      ]
    },
    {
      "cell_type": "code",
      "execution_count": null,
      "metadata": {
        "id": "QLTTSON19__m",
        "colab": {
          "base_uri": "https://localhost:8080/",
          "height": 340
        },
        "outputId": "eef1853e-08fd-40f7-c477-f2c662d830d3"
      },
      "outputs": [
        {
          "output_type": "display_data",
          "data": {
            "text/plain": [
              "term\n",
              "36 months    0.70244\n",
              "60 months    0.29756\n",
              "Name: proportion, dtype: float64"
            ],
            "text/html": [
              "<div>\n",
              "<style scoped>\n",
              "    .dataframe tbody tr th:only-of-type {\n",
              "        vertical-align: middle;\n",
              "    }\n",
              "\n",
              "    .dataframe tbody tr th {\n",
              "        vertical-align: top;\n",
              "    }\n",
              "\n",
              "    .dataframe thead th {\n",
              "        text-align: right;\n",
              "    }\n",
              "</style>\n",
              "<table border=\"1\" class=\"dataframe\">\n",
              "  <thead>\n",
              "    <tr style=\"text-align: right;\">\n",
              "      <th></th>\n",
              "      <th>proportion</th>\n",
              "    </tr>\n",
              "    <tr>\n",
              "      <th>term</th>\n",
              "      <th></th>\n",
              "    </tr>\n",
              "  </thead>\n",
              "  <tbody>\n",
              "    <tr>\n",
              "      <th>36 months</th>\n",
              "      <td>0.70244</td>\n",
              "    </tr>\n",
              "    <tr>\n",
              "      <th>60 months</th>\n",
              "      <td>0.29756</td>\n",
              "    </tr>\n",
              "  </tbody>\n",
              "</table>\n",
              "</div><br><label><b>dtype:</b> float64</label>"
            ]
          },
          "metadata": {}
        },
        {
          "output_type": "display_data",
          "data": {
            "text/plain": [
              "term\n",
              "36 months    0.700587\n",
              "60 months    0.299413\n",
              "Name: proportion, dtype: float64"
            ],
            "text/html": [
              "<div>\n",
              "<style scoped>\n",
              "    .dataframe tbody tr th:only-of-type {\n",
              "        vertical-align: middle;\n",
              "    }\n",
              "\n",
              "    .dataframe tbody tr th {\n",
              "        vertical-align: top;\n",
              "    }\n",
              "\n",
              "    .dataframe thead th {\n",
              "        text-align: right;\n",
              "    }\n",
              "</style>\n",
              "<table border=\"1\" class=\"dataframe\">\n",
              "  <thead>\n",
              "    <tr style=\"text-align: right;\">\n",
              "      <th></th>\n",
              "      <th>proportion</th>\n",
              "    </tr>\n",
              "    <tr>\n",
              "      <th>term</th>\n",
              "      <th></th>\n",
              "    </tr>\n",
              "  </thead>\n",
              "  <tbody>\n",
              "    <tr>\n",
              "      <th>36 months</th>\n",
              "      <td>0.700587</td>\n",
              "    </tr>\n",
              "    <tr>\n",
              "      <th>60 months</th>\n",
              "      <td>0.299413</td>\n",
              "    </tr>\n",
              "  </tbody>\n",
              "</table>\n",
              "</div><br><label><b>dtype:</b> float64</label>"
            ]
          },
          "metadata": {}
        }
      ],
      "source": [
        "#element proportion\n",
        "#proporção de elementos\n",
        "\n",
        "display(df_treino_models['term'].value_counts(normalize = True))\n",
        "display(df_teste_models['term'].value_counts(normalize = True))\n"
      ]
    },
    {
      "cell_type": "code",
      "execution_count": null,
      "metadata": {
        "id": "iNUriGQq9H3c"
      },
      "outputs": [],
      "source": [
        "#this variable has value 1 if term is 60 months and 0 if term is 30 months\n",
        "#variável possui valor 1 se a duração do empréstimo é 60 meses e 0 se for de 30 meses\n",
        "\n",
        "df_treino_models['term'] = df_treino_models['term'].apply(lambda x: 0 if x == ' 36 months' else 1)\n",
        "df_teste_models['term'] = df_teste_models['term'].apply(lambda x: 0 if x == ' 36 months' else 1)"
      ]
    },
    {
      "cell_type": "markdown",
      "metadata": {
        "id": "_uuyHbmF-bm4"
      },
      "source": [
        "### **grade**"
      ]
    },
    {
      "cell_type": "code",
      "execution_count": null,
      "metadata": {
        "id": "WP3AXk0XABM4",
        "colab": {
          "base_uri": "https://localhost:8080/"
        },
        "outputId": "29333bc9-76ea-4687-aaec-d1be41b1aab7"
      },
      "outputs": [
        {
          "output_type": "stream",
          "name": "stdout",
          "text": [
            "0.0\n",
            "0.0\n"
          ]
        }
      ],
      "source": [
        "#null proportion\n",
        "#proporção de nulos\n",
        "\n",
        "print(df_treino_models['grade'].isnull().sum()/df_treino_models.shape[0])\n",
        "print(df_teste_models['grade'].isnull().sum()/df_teste_models.shape[0])\n",
        "\n"
      ]
    },
    {
      "cell_type": "code",
      "execution_count": null,
      "metadata": {
        "id": "i8xCBx3r_B9z",
        "colab": {
          "base_uri": "https://localhost:8080/",
          "height": 653
        },
        "outputId": "b560e1b8-c861-4433-f73e-ac9a8adb8321"
      },
      "outputs": [
        {
          "output_type": "display_data",
          "data": {
            "text/plain": [
              "grade\n",
              "C    0.296677\n",
              "B    0.254840\n",
              "D    0.179403\n",
              "A    0.128634\n",
              "E    0.094191\n",
              "F    0.035434\n",
              "G    0.010820\n",
              "Name: proportion, dtype: float64"
            ],
            "text/html": [
              "<div>\n",
              "<style scoped>\n",
              "    .dataframe tbody tr th:only-of-type {\n",
              "        vertical-align: middle;\n",
              "    }\n",
              "\n",
              "    .dataframe tbody tr th {\n",
              "        vertical-align: top;\n",
              "    }\n",
              "\n",
              "    .dataframe thead th {\n",
              "        text-align: right;\n",
              "    }\n",
              "</style>\n",
              "<table border=\"1\" class=\"dataframe\">\n",
              "  <thead>\n",
              "    <tr style=\"text-align: right;\">\n",
              "      <th></th>\n",
              "      <th>proportion</th>\n",
              "    </tr>\n",
              "    <tr>\n",
              "      <th>grade</th>\n",
              "      <th></th>\n",
              "    </tr>\n",
              "  </thead>\n",
              "  <tbody>\n",
              "    <tr>\n",
              "      <th>C</th>\n",
              "      <td>0.296677</td>\n",
              "    </tr>\n",
              "    <tr>\n",
              "      <th>B</th>\n",
              "      <td>0.254840</td>\n",
              "    </tr>\n",
              "    <tr>\n",
              "      <th>D</th>\n",
              "      <td>0.179403</td>\n",
              "    </tr>\n",
              "    <tr>\n",
              "      <th>A</th>\n",
              "      <td>0.128634</td>\n",
              "    </tr>\n",
              "    <tr>\n",
              "      <th>E</th>\n",
              "      <td>0.094191</td>\n",
              "    </tr>\n",
              "    <tr>\n",
              "      <th>F</th>\n",
              "      <td>0.035434</td>\n",
              "    </tr>\n",
              "    <tr>\n",
              "      <th>G</th>\n",
              "      <td>0.010820</td>\n",
              "    </tr>\n",
              "  </tbody>\n",
              "</table>\n",
              "</div><br><label><b>dtype:</b> float64</label>"
            ]
          },
          "metadata": {}
        },
        {
          "output_type": "display_data",
          "data": {
            "text/plain": [
              "grade\n",
              "C    0.297560\n",
              "B    0.254533\n",
              "D    0.178847\n",
              "A    0.127013\n",
              "E    0.095133\n",
              "F    0.036527\n",
              "G    0.010387\n",
              "Name: proportion, dtype: float64"
            ],
            "text/html": [
              "<div>\n",
              "<style scoped>\n",
              "    .dataframe tbody tr th:only-of-type {\n",
              "        vertical-align: middle;\n",
              "    }\n",
              "\n",
              "    .dataframe tbody tr th {\n",
              "        vertical-align: top;\n",
              "    }\n",
              "\n",
              "    .dataframe thead th {\n",
              "        text-align: right;\n",
              "    }\n",
              "</style>\n",
              "<table border=\"1\" class=\"dataframe\">\n",
              "  <thead>\n",
              "    <tr style=\"text-align: right;\">\n",
              "      <th></th>\n",
              "      <th>proportion</th>\n",
              "    </tr>\n",
              "    <tr>\n",
              "      <th>grade</th>\n",
              "      <th></th>\n",
              "    </tr>\n",
              "  </thead>\n",
              "  <tbody>\n",
              "    <tr>\n",
              "      <th>C</th>\n",
              "      <td>0.297560</td>\n",
              "    </tr>\n",
              "    <tr>\n",
              "      <th>B</th>\n",
              "      <td>0.254533</td>\n",
              "    </tr>\n",
              "    <tr>\n",
              "      <th>D</th>\n",
              "      <td>0.178847</td>\n",
              "    </tr>\n",
              "    <tr>\n",
              "      <th>A</th>\n",
              "      <td>0.127013</td>\n",
              "    </tr>\n",
              "    <tr>\n",
              "      <th>E</th>\n",
              "      <td>0.095133</td>\n",
              "    </tr>\n",
              "    <tr>\n",
              "      <th>F</th>\n",
              "      <td>0.036527</td>\n",
              "    </tr>\n",
              "    <tr>\n",
              "      <th>G</th>\n",
              "      <td>0.010387</td>\n",
              "    </tr>\n",
              "  </tbody>\n",
              "</table>\n",
              "</div><br><label><b>dtype:</b> float64</label>"
            ]
          },
          "metadata": {}
        }
      ],
      "source": [
        "#this variables display client risk classification\n",
        "#coluna que indica a classificação de risco do cliente\n",
        "\n",
        "display(df_treino_models['grade'].value_counts(normalize = True))\n",
        "display(df_teste_models['grade'].value_counts(normalize = True))"
      ]
    },
    {
      "cell_type": "code",
      "execution_count": null,
      "metadata": {
        "id": "j_ZxfVC6-vV1"
      },
      "outputs": [],
      "source": [
        "#function to convert classification in numbers\n",
        "#função para converter classif pra numerico\n",
        "\n",
        "def convert_grade(x):\n",
        "\n",
        "  if   x == 'A':   x = 1\n",
        "  elif x == 'B':   x = 2\n",
        "  elif x == 'C':   x = 3\n",
        "  elif x == 'D':   x = 4\n",
        "  elif x == 'E':   x = 5\n",
        "  elif x == 'F':   x = 6\n",
        "  elif x == 'G':   x = 7\n",
        "\n",
        "  return x"
      ]
    },
    {
      "cell_type": "code",
      "execution_count": null,
      "metadata": {
        "id": "gAR5Mdl3Ds8e"
      },
      "outputs": [],
      "source": [
        "df_treino_models['grade'] = df_treino_models['grade'].apply(convert_grade)\n",
        "df_teste_models['grade'] = df_teste_models['grade'].apply(convert_grade)"
      ]
    },
    {
      "cell_type": "markdown",
      "metadata": {
        "id": "ebjMEx3LD1aS"
      },
      "source": [
        "###**sub_grade**"
      ]
    },
    {
      "cell_type": "code",
      "source": [
        "#null proportion\n",
        "#proporção de nulos\n",
        "\n",
        "print(df_treino_models['sub_grade'].isnull().sum()/df_treino_models.shape[0])\n",
        "print(df_teste_models['sub_grade'].isnull().sum()/df_teste_models.shape[0])"
      ],
      "metadata": {
        "colab": {
          "base_uri": "https://localhost:8080/"
        },
        "id": "_hKGd1ocOsin",
        "outputId": "131b8abf-90ea-4255-ad3d-3f7c079cb115"
      },
      "execution_count": null,
      "outputs": [
        {
          "output_type": "stream",
          "name": "stdout",
          "text": [
            "0.0\n",
            "0.0\n"
          ]
        }
      ]
    },
    {
      "cell_type": "code",
      "execution_count": null,
      "metadata": {
        "id": "sugN-lJ9EFEh",
        "colab": {
          "base_uri": "https://localhost:8080/"
        },
        "outputId": "706c95e7-7bde-420c-bccb-ea02ff4e6e23"
      },
      "outputs": [
        {
          "output_type": "stream",
          "name": "stdout",
          "text": [
            "['C5' 'B3' 'C2' 'B2' 'D2' 'C1' 'A5' 'B4' 'D3' 'B5' 'A1' 'A3' 'C4' 'D5'\n",
            " 'F5' 'B1' 'A4' 'C3' 'D1' 'D4' 'E5' 'A2' 'E3' 'F2' 'E1' 'E2' 'F3' 'F1'\n",
            " 'G3' 'E4' 'G4' 'F4' 'G1' 'G2' 'G5']\n",
            "['B5' 'A1' 'C4' 'C5' 'B4' 'B1' 'E2' 'C3' 'C1' 'B3' 'C2' 'B2' 'D3' 'A3'\n",
            " 'E3' 'A4' 'D2' 'G1' 'E1' 'A5' 'A2' 'F4' 'D4' 'F1' 'D1' 'E4' 'E5' 'D5'\n",
            " 'F5' 'G3' 'F2' 'G2' 'F3' 'G4' 'G5']\n"
          ]
        }
      ],
      "source": [
        "#this variable give us more detaleid information than grade variable, we will drop grade and enumerate this variable\n",
        "#essa coluna tem informações mais detalhadas do que grade, podemos enumerar essa coluna e excluir a grade\n",
        "\n",
        "print(df_treino_models['sub_grade'].unique())\n",
        "print(df_teste_models['sub_grade'].unique())"
      ]
    },
    {
      "cell_type": "code",
      "execution_count": null,
      "metadata": {
        "id": "E57qm-R1HJPM"
      },
      "outputs": [],
      "source": [
        "#transform classification in numbers\n",
        "#transforma classificação em numeros\n",
        "\n",
        "def convert_sub_grade(x):\n",
        "\n",
        "  letters = ['A','B','C','D','E','F','G']\n",
        "  numbers = ['1','2','3','4','5']\n",
        "\n",
        "  for i in range(len(letters)):\n",
        "    for j in range(len(numbers)):\n",
        "\n",
        "      if x == letters[i] + numbers[j]:\n",
        "\n",
        "         x = 5*i + (j+1)\n",
        "\n",
        "  return x"
      ]
    },
    {
      "cell_type": "code",
      "execution_count": null,
      "metadata": {
        "id": "aWlBV1wuIFM-",
        "colab": {
          "base_uri": "https://localhost:8080/",
          "height": 600
        },
        "outputId": "beefe1fa-2798-49b9-fcc0-d309be13bbe0"
      },
      "outputs": [
        {
          "output_type": "execute_result",
          "data": {
            "text/plain": [
              "        loan_amnt  funded_amnt  funded_amnt_inv  term  int_rate  installment  \\\n",
              "0           10000        10000          10000.0     0     11.49       329.72   \n",
              "1            6000         6000           6000.0     0      5.32       180.69   \n",
              "2           32000        32000          32000.0     1     14.31       749.74   \n",
              "3           11000        11000          11000.0     1     15.23       263.02   \n",
              "4            8000         8000           8000.0     0     10.99       261.88   \n",
              "...           ...          ...              ...   ...       ...          ...   \n",
              "149995      14400        14400          14400.0     0     14.46       495.39   \n",
              "149996      11500        11500          11500.0     0      6.92       354.67   \n",
              "149997       4800         4800           4800.0     0     13.99       164.03   \n",
              "149998      10000        10000          10000.0     1     17.86       253.18   \n",
              "149999      20000        20000          20000.0     0     11.53       659.81   \n",
              "\n",
              "        sub_grade                   emp_title emp_length home_ownership  ...  \\\n",
              "0              10       Grocery Night Stocker    7 years           RENT  ...   \n",
              "1               1              Office Manager    6 years           RENT  ...   \n",
              "2              14              credit analyst    3 years           RENT  ...   \n",
              "3              15                        belk    6 years            OWN  ...   \n",
              "4               9  Head cook and pt custodian  10+ years       MORTGAGE  ...   \n",
              "...           ...                         ...        ...            ...  ...   \n",
              "149995         14                    Machanic    3 years           RENT  ...   \n",
              "149996          4                Club Manager    3 years           RENT  ...   \n",
              "149997         13                       Owner    2 years            OWN  ...   \n",
              "149998         20       Help Desk Specialist     2 years       MORTGAGE  ...   \n",
              "149999         10             project manager    6 years            OWN  ...   \n",
              "\n",
              "        hardship_payoff_balance_amount hardship_last_payment_amount  \\\n",
              "0                                  NaN                          NaN   \n",
              "1                                  NaN                          NaN   \n",
              "2                                  NaN                          NaN   \n",
              "3                                  NaN                          NaN   \n",
              "4                                  NaN                          NaN   \n",
              "...                                ...                          ...   \n",
              "149995                             NaN                          NaN   \n",
              "149996                         2784.01                        17.57   \n",
              "149997                             NaN                          NaN   \n",
              "149998                             NaN                          NaN   \n",
              "149999                             NaN                          NaN   \n",
              "\n",
              "       disbursement_method debt_settlement_flag debt_settlement_flag_date  \\\n",
              "0                     Cash                    N                       NaN   \n",
              "1                     Cash                    N                       NaN   \n",
              "2                     Cash                    N                       NaN   \n",
              "3                     Cash                    N                       NaN   \n",
              "4                     Cash                    N                       NaN   \n",
              "...                    ...                  ...                       ...   \n",
              "149995                Cash                    Y                  Jun-2018   \n",
              "149996                Cash                    N                       NaN   \n",
              "149997                Cash                    N                       NaN   \n",
              "149998                Cash                    N                       NaN   \n",
              "149999                Cash                    N                       NaN   \n",
              "\n",
              "       settlement_status settlement_date settlement_amount  \\\n",
              "0                    NaN             NaN               NaN   \n",
              "1                    NaN             NaN               NaN   \n",
              "2                    NaN             NaN               NaN   \n",
              "3                    NaN             NaN               NaN   \n",
              "4                    NaN             NaN               NaN   \n",
              "...                  ...             ...               ...   \n",
              "149995            ACTIVE        Jun-2018            3110.0   \n",
              "149996               NaN             NaN               NaN   \n",
              "149997               NaN             NaN               NaN   \n",
              "149998               NaN             NaN               NaN   \n",
              "149999               NaN             NaN               NaN   \n",
              "\n",
              "       settlement_percentage settlement_term  \n",
              "0                        NaN             NaN  \n",
              "1                        NaN             NaN  \n",
              "2                        NaN             NaN  \n",
              "3                        NaN             NaN  \n",
              "4                        NaN             NaN  \n",
              "...                      ...             ...  \n",
              "149995                 50.01            18.0  \n",
              "149996                   NaN             NaN  \n",
              "149997                   NaN             NaN  \n",
              "149998                   NaN             NaN  \n",
              "149999                   NaN             NaN  \n",
              "\n",
              "[150000 rows x 141 columns]"
            ],
            "text/html": [
              "\n",
              "  <div id=\"df-90de54eb-d9dc-406a-b132-37e65ee94e10\" class=\"colab-df-container\">\n",
              "    <div>\n",
              "<style scoped>\n",
              "    .dataframe tbody tr th:only-of-type {\n",
              "        vertical-align: middle;\n",
              "    }\n",
              "\n",
              "    .dataframe tbody tr th {\n",
              "        vertical-align: top;\n",
              "    }\n",
              "\n",
              "    .dataframe thead th {\n",
              "        text-align: right;\n",
              "    }\n",
              "</style>\n",
              "<table border=\"1\" class=\"dataframe\">\n",
              "  <thead>\n",
              "    <tr style=\"text-align: right;\">\n",
              "      <th></th>\n",
              "      <th>loan_amnt</th>\n",
              "      <th>funded_amnt</th>\n",
              "      <th>funded_amnt_inv</th>\n",
              "      <th>term</th>\n",
              "      <th>int_rate</th>\n",
              "      <th>installment</th>\n",
              "      <th>sub_grade</th>\n",
              "      <th>emp_title</th>\n",
              "      <th>emp_length</th>\n",
              "      <th>home_ownership</th>\n",
              "      <th>...</th>\n",
              "      <th>hardship_payoff_balance_amount</th>\n",
              "      <th>hardship_last_payment_amount</th>\n",
              "      <th>disbursement_method</th>\n",
              "      <th>debt_settlement_flag</th>\n",
              "      <th>debt_settlement_flag_date</th>\n",
              "      <th>settlement_status</th>\n",
              "      <th>settlement_date</th>\n",
              "      <th>settlement_amount</th>\n",
              "      <th>settlement_percentage</th>\n",
              "      <th>settlement_term</th>\n",
              "    </tr>\n",
              "  </thead>\n",
              "  <tbody>\n",
              "    <tr>\n",
              "      <th>0</th>\n",
              "      <td>10000</td>\n",
              "      <td>10000</td>\n",
              "      <td>10000.0</td>\n",
              "      <td>0</td>\n",
              "      <td>11.49</td>\n",
              "      <td>329.72</td>\n",
              "      <td>10</td>\n",
              "      <td>Grocery Night Stocker</td>\n",
              "      <td>7 years</td>\n",
              "      <td>RENT</td>\n",
              "      <td>...</td>\n",
              "      <td>NaN</td>\n",
              "      <td>NaN</td>\n",
              "      <td>Cash</td>\n",
              "      <td>N</td>\n",
              "      <td>NaN</td>\n",
              "      <td>NaN</td>\n",
              "      <td>NaN</td>\n",
              "      <td>NaN</td>\n",
              "      <td>NaN</td>\n",
              "      <td>NaN</td>\n",
              "    </tr>\n",
              "    <tr>\n",
              "      <th>1</th>\n",
              "      <td>6000</td>\n",
              "      <td>6000</td>\n",
              "      <td>6000.0</td>\n",
              "      <td>0</td>\n",
              "      <td>5.32</td>\n",
              "      <td>180.69</td>\n",
              "      <td>1</td>\n",
              "      <td>Office Manager</td>\n",
              "      <td>6 years</td>\n",
              "      <td>RENT</td>\n",
              "      <td>...</td>\n",
              "      <td>NaN</td>\n",
              "      <td>NaN</td>\n",
              "      <td>Cash</td>\n",
              "      <td>N</td>\n",
              "      <td>NaN</td>\n",
              "      <td>NaN</td>\n",
              "      <td>NaN</td>\n",
              "      <td>NaN</td>\n",
              "      <td>NaN</td>\n",
              "      <td>NaN</td>\n",
              "    </tr>\n",
              "    <tr>\n",
              "      <th>2</th>\n",
              "      <td>32000</td>\n",
              "      <td>32000</td>\n",
              "      <td>32000.0</td>\n",
              "      <td>1</td>\n",
              "      <td>14.31</td>\n",
              "      <td>749.74</td>\n",
              "      <td>14</td>\n",
              "      <td>credit analyst</td>\n",
              "      <td>3 years</td>\n",
              "      <td>RENT</td>\n",
              "      <td>...</td>\n",
              "      <td>NaN</td>\n",
              "      <td>NaN</td>\n",
              "      <td>Cash</td>\n",
              "      <td>N</td>\n",
              "      <td>NaN</td>\n",
              "      <td>NaN</td>\n",
              "      <td>NaN</td>\n",
              "      <td>NaN</td>\n",
              "      <td>NaN</td>\n",
              "      <td>NaN</td>\n",
              "    </tr>\n",
              "    <tr>\n",
              "      <th>3</th>\n",
              "      <td>11000</td>\n",
              "      <td>11000</td>\n",
              "      <td>11000.0</td>\n",
              "      <td>1</td>\n",
              "      <td>15.23</td>\n",
              "      <td>263.02</td>\n",
              "      <td>15</td>\n",
              "      <td>belk</td>\n",
              "      <td>6 years</td>\n",
              "      <td>OWN</td>\n",
              "      <td>...</td>\n",
              "      <td>NaN</td>\n",
              "      <td>NaN</td>\n",
              "      <td>Cash</td>\n",
              "      <td>N</td>\n",
              "      <td>NaN</td>\n",
              "      <td>NaN</td>\n",
              "      <td>NaN</td>\n",
              "      <td>NaN</td>\n",
              "      <td>NaN</td>\n",
              "      <td>NaN</td>\n",
              "    </tr>\n",
              "    <tr>\n",
              "      <th>4</th>\n",
              "      <td>8000</td>\n",
              "      <td>8000</td>\n",
              "      <td>8000.0</td>\n",
              "      <td>0</td>\n",
              "      <td>10.99</td>\n",
              "      <td>261.88</td>\n",
              "      <td>9</td>\n",
              "      <td>Head cook and pt custodian</td>\n",
              "      <td>10+ years</td>\n",
              "      <td>MORTGAGE</td>\n",
              "      <td>...</td>\n",
              "      <td>NaN</td>\n",
              "      <td>NaN</td>\n",
              "      <td>Cash</td>\n",
              "      <td>N</td>\n",
              "      <td>NaN</td>\n",
              "      <td>NaN</td>\n",
              "      <td>NaN</td>\n",
              "      <td>NaN</td>\n",
              "      <td>NaN</td>\n",
              "      <td>NaN</td>\n",
              "    </tr>\n",
              "    <tr>\n",
              "      <th>...</th>\n",
              "      <td>...</td>\n",
              "      <td>...</td>\n",
              "      <td>...</td>\n",
              "      <td>...</td>\n",
              "      <td>...</td>\n",
              "      <td>...</td>\n",
              "      <td>...</td>\n",
              "      <td>...</td>\n",
              "      <td>...</td>\n",
              "      <td>...</td>\n",
              "      <td>...</td>\n",
              "      <td>...</td>\n",
              "      <td>...</td>\n",
              "      <td>...</td>\n",
              "      <td>...</td>\n",
              "      <td>...</td>\n",
              "      <td>...</td>\n",
              "      <td>...</td>\n",
              "      <td>...</td>\n",
              "      <td>...</td>\n",
              "      <td>...</td>\n",
              "    </tr>\n",
              "    <tr>\n",
              "      <th>149995</th>\n",
              "      <td>14400</td>\n",
              "      <td>14400</td>\n",
              "      <td>14400.0</td>\n",
              "      <td>0</td>\n",
              "      <td>14.46</td>\n",
              "      <td>495.39</td>\n",
              "      <td>14</td>\n",
              "      <td>Machanic</td>\n",
              "      <td>3 years</td>\n",
              "      <td>RENT</td>\n",
              "      <td>...</td>\n",
              "      <td>NaN</td>\n",
              "      <td>NaN</td>\n",
              "      <td>Cash</td>\n",
              "      <td>Y</td>\n",
              "      <td>Jun-2018</td>\n",
              "      <td>ACTIVE</td>\n",
              "      <td>Jun-2018</td>\n",
              "      <td>3110.0</td>\n",
              "      <td>50.01</td>\n",
              "      <td>18.0</td>\n",
              "    </tr>\n",
              "    <tr>\n",
              "      <th>149996</th>\n",
              "      <td>11500</td>\n",
              "      <td>11500</td>\n",
              "      <td>11500.0</td>\n",
              "      <td>0</td>\n",
              "      <td>6.92</td>\n",
              "      <td>354.67</td>\n",
              "      <td>4</td>\n",
              "      <td>Club Manager</td>\n",
              "      <td>3 years</td>\n",
              "      <td>RENT</td>\n",
              "      <td>...</td>\n",
              "      <td>2784.01</td>\n",
              "      <td>17.57</td>\n",
              "      <td>Cash</td>\n",
              "      <td>N</td>\n",
              "      <td>NaN</td>\n",
              "      <td>NaN</td>\n",
              "      <td>NaN</td>\n",
              "      <td>NaN</td>\n",
              "      <td>NaN</td>\n",
              "      <td>NaN</td>\n",
              "    </tr>\n",
              "    <tr>\n",
              "      <th>149997</th>\n",
              "      <td>4800</td>\n",
              "      <td>4800</td>\n",
              "      <td>4800.0</td>\n",
              "      <td>0</td>\n",
              "      <td>13.99</td>\n",
              "      <td>164.03</td>\n",
              "      <td>13</td>\n",
              "      <td>Owner</td>\n",
              "      <td>2 years</td>\n",
              "      <td>OWN</td>\n",
              "      <td>...</td>\n",
              "      <td>NaN</td>\n",
              "      <td>NaN</td>\n",
              "      <td>Cash</td>\n",
              "      <td>N</td>\n",
              "      <td>NaN</td>\n",
              "      <td>NaN</td>\n",
              "      <td>NaN</td>\n",
              "      <td>NaN</td>\n",
              "      <td>NaN</td>\n",
              "      <td>NaN</td>\n",
              "    </tr>\n",
              "    <tr>\n",
              "      <th>149998</th>\n",
              "      <td>10000</td>\n",
              "      <td>10000</td>\n",
              "      <td>10000.0</td>\n",
              "      <td>1</td>\n",
              "      <td>17.86</td>\n",
              "      <td>253.18</td>\n",
              "      <td>20</td>\n",
              "      <td>Help Desk Specialist</td>\n",
              "      <td>2 years</td>\n",
              "      <td>MORTGAGE</td>\n",
              "      <td>...</td>\n",
              "      <td>NaN</td>\n",
              "      <td>NaN</td>\n",
              "      <td>Cash</td>\n",
              "      <td>N</td>\n",
              "      <td>NaN</td>\n",
              "      <td>NaN</td>\n",
              "      <td>NaN</td>\n",
              "      <td>NaN</td>\n",
              "      <td>NaN</td>\n",
              "      <td>NaN</td>\n",
              "    </tr>\n",
              "    <tr>\n",
              "      <th>149999</th>\n",
              "      <td>20000</td>\n",
              "      <td>20000</td>\n",
              "      <td>20000.0</td>\n",
              "      <td>0</td>\n",
              "      <td>11.53</td>\n",
              "      <td>659.81</td>\n",
              "      <td>10</td>\n",
              "      <td>project manager</td>\n",
              "      <td>6 years</td>\n",
              "      <td>OWN</td>\n",
              "      <td>...</td>\n",
              "      <td>NaN</td>\n",
              "      <td>NaN</td>\n",
              "      <td>Cash</td>\n",
              "      <td>N</td>\n",
              "      <td>NaN</td>\n",
              "      <td>NaN</td>\n",
              "      <td>NaN</td>\n",
              "      <td>NaN</td>\n",
              "      <td>NaN</td>\n",
              "      <td>NaN</td>\n",
              "    </tr>\n",
              "  </tbody>\n",
              "</table>\n",
              "<p>150000 rows × 141 columns</p>\n",
              "</div>\n",
              "    <div class=\"colab-df-buttons\">\n",
              "\n",
              "  <div class=\"colab-df-container\">\n",
              "    <button class=\"colab-df-convert\" onclick=\"convertToInteractive('df-90de54eb-d9dc-406a-b132-37e65ee94e10')\"\n",
              "            title=\"Convert this dataframe to an interactive table.\"\n",
              "            style=\"display:none;\">\n",
              "\n",
              "  <svg xmlns=\"http://www.w3.org/2000/svg\" height=\"24px\" viewBox=\"0 -960 960 960\">\n",
              "    <path d=\"M120-120v-720h720v720H120Zm60-500h600v-160H180v160Zm220 220h160v-160H400v160Zm0 220h160v-160H400v160ZM180-400h160v-160H180v160Zm440 0h160v-160H620v160ZM180-180h160v-160H180v160Zm440 0h160v-160H620v160Z\"/>\n",
              "  </svg>\n",
              "    </button>\n",
              "\n",
              "  <style>\n",
              "    .colab-df-container {\n",
              "      display:flex;\n",
              "      gap: 12px;\n",
              "    }\n",
              "\n",
              "    .colab-df-convert {\n",
              "      background-color: #E8F0FE;\n",
              "      border: none;\n",
              "      border-radius: 50%;\n",
              "      cursor: pointer;\n",
              "      display: none;\n",
              "      fill: #1967D2;\n",
              "      height: 32px;\n",
              "      padding: 0 0 0 0;\n",
              "      width: 32px;\n",
              "    }\n",
              "\n",
              "    .colab-df-convert:hover {\n",
              "      background-color: #E2EBFA;\n",
              "      box-shadow: 0px 1px 2px rgba(60, 64, 67, 0.3), 0px 1px 3px 1px rgba(60, 64, 67, 0.15);\n",
              "      fill: #174EA6;\n",
              "    }\n",
              "\n",
              "    .colab-df-buttons div {\n",
              "      margin-bottom: 4px;\n",
              "    }\n",
              "\n",
              "    [theme=dark] .colab-df-convert {\n",
              "      background-color: #3B4455;\n",
              "      fill: #D2E3FC;\n",
              "    }\n",
              "\n",
              "    [theme=dark] .colab-df-convert:hover {\n",
              "      background-color: #434B5C;\n",
              "      box-shadow: 0px 1px 3px 1px rgba(0, 0, 0, 0.15);\n",
              "      filter: drop-shadow(0px 1px 2px rgba(0, 0, 0, 0.3));\n",
              "      fill: #FFFFFF;\n",
              "    }\n",
              "  </style>\n",
              "\n",
              "    <script>\n",
              "      const buttonEl =\n",
              "        document.querySelector('#df-90de54eb-d9dc-406a-b132-37e65ee94e10 button.colab-df-convert');\n",
              "      buttonEl.style.display =\n",
              "        google.colab.kernel.accessAllowed ? 'block' : 'none';\n",
              "\n",
              "      async function convertToInteractive(key) {\n",
              "        const element = document.querySelector('#df-90de54eb-d9dc-406a-b132-37e65ee94e10');\n",
              "        const dataTable =\n",
              "          await google.colab.kernel.invokeFunction('convertToInteractive',\n",
              "                                                    [key], {});\n",
              "        if (!dataTable) return;\n",
              "\n",
              "        const docLinkHtml = 'Like what you see? Visit the ' +\n",
              "          '<a target=\"_blank\" href=https://colab.research.google.com/notebooks/data_table.ipynb>data table notebook</a>'\n",
              "          + ' to learn more about interactive tables.';\n",
              "        element.innerHTML = '';\n",
              "        dataTable['output_type'] = 'display_data';\n",
              "        await google.colab.output.renderOutput(dataTable, element);\n",
              "        const docLink = document.createElement('div');\n",
              "        docLink.innerHTML = docLinkHtml;\n",
              "        element.appendChild(docLink);\n",
              "      }\n",
              "    </script>\n",
              "  </div>\n",
              "\n",
              "\n",
              "<div id=\"df-2af5faf5-ed42-4c27-9de4-3dd4f4eae04e\">\n",
              "  <button class=\"colab-df-quickchart\" onclick=\"quickchart('df-2af5faf5-ed42-4c27-9de4-3dd4f4eae04e')\"\n",
              "            title=\"Suggest charts\"\n",
              "            style=\"display:none;\">\n",
              "\n",
              "<svg xmlns=\"http://www.w3.org/2000/svg\" height=\"24px\"viewBox=\"0 0 24 24\"\n",
              "     width=\"24px\">\n",
              "    <g>\n",
              "        <path d=\"M19 3H5c-1.1 0-2 .9-2 2v14c0 1.1.9 2 2 2h14c1.1 0 2-.9 2-2V5c0-1.1-.9-2-2-2zM9 17H7v-7h2v7zm4 0h-2V7h2v10zm4 0h-2v-4h2v4z\"/>\n",
              "    </g>\n",
              "</svg>\n",
              "  </button>\n",
              "\n",
              "<style>\n",
              "  .colab-df-quickchart {\n",
              "      --bg-color: #E8F0FE;\n",
              "      --fill-color: #1967D2;\n",
              "      --hover-bg-color: #E2EBFA;\n",
              "      --hover-fill-color: #174EA6;\n",
              "      --disabled-fill-color: #AAA;\n",
              "      --disabled-bg-color: #DDD;\n",
              "  }\n",
              "\n",
              "  [theme=dark] .colab-df-quickchart {\n",
              "      --bg-color: #3B4455;\n",
              "      --fill-color: #D2E3FC;\n",
              "      --hover-bg-color: #434B5C;\n",
              "      --hover-fill-color: #FFFFFF;\n",
              "      --disabled-bg-color: #3B4455;\n",
              "      --disabled-fill-color: #666;\n",
              "  }\n",
              "\n",
              "  .colab-df-quickchart {\n",
              "    background-color: var(--bg-color);\n",
              "    border: none;\n",
              "    border-radius: 50%;\n",
              "    cursor: pointer;\n",
              "    display: none;\n",
              "    fill: var(--fill-color);\n",
              "    height: 32px;\n",
              "    padding: 0;\n",
              "    width: 32px;\n",
              "  }\n",
              "\n",
              "  .colab-df-quickchart:hover {\n",
              "    background-color: var(--hover-bg-color);\n",
              "    box-shadow: 0 1px 2px rgba(60, 64, 67, 0.3), 0 1px 3px 1px rgba(60, 64, 67, 0.15);\n",
              "    fill: var(--button-hover-fill-color);\n",
              "  }\n",
              "\n",
              "  .colab-df-quickchart-complete:disabled,\n",
              "  .colab-df-quickchart-complete:disabled:hover {\n",
              "    background-color: var(--disabled-bg-color);\n",
              "    fill: var(--disabled-fill-color);\n",
              "    box-shadow: none;\n",
              "  }\n",
              "\n",
              "  .colab-df-spinner {\n",
              "    border: 2px solid var(--fill-color);\n",
              "    border-color: transparent;\n",
              "    border-bottom-color: var(--fill-color);\n",
              "    animation:\n",
              "      spin 1s steps(1) infinite;\n",
              "  }\n",
              "\n",
              "  @keyframes spin {\n",
              "    0% {\n",
              "      border-color: transparent;\n",
              "      border-bottom-color: var(--fill-color);\n",
              "      border-left-color: var(--fill-color);\n",
              "    }\n",
              "    20% {\n",
              "      border-color: transparent;\n",
              "      border-left-color: var(--fill-color);\n",
              "      border-top-color: var(--fill-color);\n",
              "    }\n",
              "    30% {\n",
              "      border-color: transparent;\n",
              "      border-left-color: var(--fill-color);\n",
              "      border-top-color: var(--fill-color);\n",
              "      border-right-color: var(--fill-color);\n",
              "    }\n",
              "    40% {\n",
              "      border-color: transparent;\n",
              "      border-right-color: var(--fill-color);\n",
              "      border-top-color: var(--fill-color);\n",
              "    }\n",
              "    60% {\n",
              "      border-color: transparent;\n",
              "      border-right-color: var(--fill-color);\n",
              "    }\n",
              "    80% {\n",
              "      border-color: transparent;\n",
              "      border-right-color: var(--fill-color);\n",
              "      border-bottom-color: var(--fill-color);\n",
              "    }\n",
              "    90% {\n",
              "      border-color: transparent;\n",
              "      border-bottom-color: var(--fill-color);\n",
              "    }\n",
              "  }\n",
              "</style>\n",
              "\n",
              "  <script>\n",
              "    async function quickchart(key) {\n",
              "      const quickchartButtonEl =\n",
              "        document.querySelector('#' + key + ' button');\n",
              "      quickchartButtonEl.disabled = true;  // To prevent multiple clicks.\n",
              "      quickchartButtonEl.classList.add('colab-df-spinner');\n",
              "      try {\n",
              "        const charts = await google.colab.kernel.invokeFunction(\n",
              "            'suggestCharts', [key], {});\n",
              "      } catch (error) {\n",
              "        console.error('Error during call to suggestCharts:', error);\n",
              "      }\n",
              "      quickchartButtonEl.classList.remove('colab-df-spinner');\n",
              "      quickchartButtonEl.classList.add('colab-df-quickchart-complete');\n",
              "    }\n",
              "    (() => {\n",
              "      let quickchartButtonEl =\n",
              "        document.querySelector('#df-2af5faf5-ed42-4c27-9de4-3dd4f4eae04e button');\n",
              "      quickchartButtonEl.style.display =\n",
              "        google.colab.kernel.accessAllowed ? 'block' : 'none';\n",
              "    })();\n",
              "  </script>\n",
              "</div>\n",
              "\n",
              "    </div>\n",
              "  </div>\n"
            ],
            "application/vnd.google.colaboratory.intrinsic+json": {
              "type": "dataframe"
            }
          },
          "metadata": {},
          "execution_count": 15
        }
      ],
      "source": [
        "#applies convertion function and drops variable grade\n",
        "#aplica a função para converter e exclui a coluna de grade\n",
        "\n",
        "df_treino_models['sub_grade'] = df_treino_models['sub_grade'].apply(convert_sub_grade)\n",
        "df_teste_models['sub_grade'] = df_teste_models['sub_grade'].apply(convert_sub_grade)\n",
        "\n",
        "df_treino_models.drop(columns = ['grade'])\n",
        "df_teste_models.drop(columns = ['grade'])"
      ]
    },
    {
      "cell_type": "markdown",
      "metadata": {
        "id": "S8qs_BSCK7dL"
      },
      "source": [
        "### **emp_title**"
      ]
    },
    {
      "cell_type": "code",
      "execution_count": null,
      "metadata": {
        "id": "OQ-TfK-74V9a",
        "colab": {
          "base_uri": "https://localhost:8080/"
        },
        "outputId": "04acf50f-3aef-43f6-8ea9-7b1cf263d0bd"
      },
      "outputs": [
        {
          "output_type": "stream",
          "name": "stdout",
          "text": [
            "0.07101428571428571\n",
            "0.07011333333333333\n"
          ]
        }
      ],
      "source": [
        "#null proportion\n",
        "#proporção de nulos\n",
        "\n",
        "print(df_treino_models['emp_title'].isnull().sum()/df_treino_models.shape[0])\n",
        "print(df_teste_models['emp_title'].isnull().sum()/df_teste_models.shape[0])\n"
      ]
    },
    {
      "cell_type": "code",
      "execution_count": null,
      "metadata": {
        "id": "f_VKINvf2FCP",
        "colab": {
          "base_uri": "https://localhost:8080/",
          "height": 490
        },
        "outputId": "8d9d52a0-1857-49f5-dea6-3acb37cdaebe"
      },
      "outputs": [
        {
          "output_type": "execute_result",
          "data": {
            "text/plain": [
              "emp_title\n",
              "Teacher                                0.016190\n",
              "Manager                                0.015467\n",
              "Owner                                  0.008904\n",
              "Driver                                 0.006914\n",
              "Registered Nurse                       0.006911\n",
              "                                         ...   \n",
              "Government Relations Representative    0.000003\n",
              "Cravath Swaine & Moore LLP             0.000003\n",
              "Follett Higher Education Group         0.000003\n",
              "Bank of Hawaii                         0.000003\n",
              "Recoup area                            0.000003\n",
              "Name: proportion, Length: 124891, dtype: float64"
            ],
            "text/html": [
              "<div>\n",
              "<style scoped>\n",
              "    .dataframe tbody tr th:only-of-type {\n",
              "        vertical-align: middle;\n",
              "    }\n",
              "\n",
              "    .dataframe tbody tr th {\n",
              "        vertical-align: top;\n",
              "    }\n",
              "\n",
              "    .dataframe thead th {\n",
              "        text-align: right;\n",
              "    }\n",
              "</style>\n",
              "<table border=\"1\" class=\"dataframe\">\n",
              "  <thead>\n",
              "    <tr style=\"text-align: right;\">\n",
              "      <th></th>\n",
              "      <th>proportion</th>\n",
              "    </tr>\n",
              "    <tr>\n",
              "      <th>emp_title</th>\n",
              "      <th></th>\n",
              "    </tr>\n",
              "  </thead>\n",
              "  <tbody>\n",
              "    <tr>\n",
              "      <th>Teacher</th>\n",
              "      <td>0.016190</td>\n",
              "    </tr>\n",
              "    <tr>\n",
              "      <th>Manager</th>\n",
              "      <td>0.015467</td>\n",
              "    </tr>\n",
              "    <tr>\n",
              "      <th>Owner</th>\n",
              "      <td>0.008904</td>\n",
              "    </tr>\n",
              "    <tr>\n",
              "      <th>Driver</th>\n",
              "      <td>0.006914</td>\n",
              "    </tr>\n",
              "    <tr>\n",
              "      <th>Registered Nurse</th>\n",
              "      <td>0.006911</td>\n",
              "    </tr>\n",
              "    <tr>\n",
              "      <th>...</th>\n",
              "      <td>...</td>\n",
              "    </tr>\n",
              "    <tr>\n",
              "      <th>Government Relations Representative</th>\n",
              "      <td>0.000003</td>\n",
              "    </tr>\n",
              "    <tr>\n",
              "      <th>Cravath Swaine &amp; Moore LLP</th>\n",
              "      <td>0.000003</td>\n",
              "    </tr>\n",
              "    <tr>\n",
              "      <th>Follett Higher Education Group</th>\n",
              "      <td>0.000003</td>\n",
              "    </tr>\n",
              "    <tr>\n",
              "      <th>Bank of Hawaii</th>\n",
              "      <td>0.000003</td>\n",
              "    </tr>\n",
              "    <tr>\n",
              "      <th>Recoup area</th>\n",
              "      <td>0.000003</td>\n",
              "    </tr>\n",
              "  </tbody>\n",
              "</table>\n",
              "<p>124891 rows × 1 columns</p>\n",
              "</div><br><label><b>dtype:</b> float64</label>"
            ]
          },
          "metadata": {},
          "execution_count": 17
        }
      ],
      "source": [
        "df_treino_models['emp_title'].value_counts(normalize = True)"
      ]
    },
    {
      "cell_type": "code",
      "execution_count": null,
      "metadata": {
        "id": "UoXbZHjF2JoJ"
      },
      "outputs": [],
      "source": [
        "#emp_title assume valor 1 se tem emprego e 0 caso contrário\n",
        "#variable emp_title is 1 if original emp_tile is not null and 0 if null\n",
        "\n",
        "\n",
        "df_treino_models['emp_title'] = df_treino_models['emp_title'].apply(lambda x: 0 if pd.isna(x) or x == '' else 1)\n",
        "df_teste_models['emp_title'] = df_teste_models['emp_title'].apply(lambda x: 0 if pd.isna(x) or x == '' else 1)\n",
        "\n"
      ]
    },
    {
      "cell_type": "code",
      "source": [
        "#validation\n",
        "#validação\n",
        "\n",
        "display(df_treino_models['emp_title'].value_counts(normalize = True))\n",
        "display(df_treino_models['emp_title'].value_counts(normalize = True))"
      ],
      "metadata": {
        "colab": {
          "base_uri": "https://localhost:8080/",
          "height": 340
        },
        "id": "AdHHrFFhgMDs",
        "outputId": "fe68a505-7ce3-4052-cf73-393474b9559c"
      },
      "execution_count": null,
      "outputs": [
        {
          "output_type": "display_data",
          "data": {
            "text/plain": [
              "emp_title\n",
              "1    0.928986\n",
              "0    0.071014\n",
              "Name: proportion, dtype: float64"
            ],
            "text/html": [
              "<div>\n",
              "<style scoped>\n",
              "    .dataframe tbody tr th:only-of-type {\n",
              "        vertical-align: middle;\n",
              "    }\n",
              "\n",
              "    .dataframe tbody tr th {\n",
              "        vertical-align: top;\n",
              "    }\n",
              "\n",
              "    .dataframe thead th {\n",
              "        text-align: right;\n",
              "    }\n",
              "</style>\n",
              "<table border=\"1\" class=\"dataframe\">\n",
              "  <thead>\n",
              "    <tr style=\"text-align: right;\">\n",
              "      <th></th>\n",
              "      <th>proportion</th>\n",
              "    </tr>\n",
              "    <tr>\n",
              "      <th>emp_title</th>\n",
              "      <th></th>\n",
              "    </tr>\n",
              "  </thead>\n",
              "  <tbody>\n",
              "    <tr>\n",
              "      <th>1</th>\n",
              "      <td>0.928986</td>\n",
              "    </tr>\n",
              "    <tr>\n",
              "      <th>0</th>\n",
              "      <td>0.071014</td>\n",
              "    </tr>\n",
              "  </tbody>\n",
              "</table>\n",
              "</div><br><label><b>dtype:</b> float64</label>"
            ]
          },
          "metadata": {}
        },
        {
          "output_type": "display_data",
          "data": {
            "text/plain": [
              "emp_title\n",
              "1    0.928986\n",
              "0    0.071014\n",
              "Name: proportion, dtype: float64"
            ],
            "text/html": [
              "<div>\n",
              "<style scoped>\n",
              "    .dataframe tbody tr th:only-of-type {\n",
              "        vertical-align: middle;\n",
              "    }\n",
              "\n",
              "    .dataframe tbody tr th {\n",
              "        vertical-align: top;\n",
              "    }\n",
              "\n",
              "    .dataframe thead th {\n",
              "        text-align: right;\n",
              "    }\n",
              "</style>\n",
              "<table border=\"1\" class=\"dataframe\">\n",
              "  <thead>\n",
              "    <tr style=\"text-align: right;\">\n",
              "      <th></th>\n",
              "      <th>proportion</th>\n",
              "    </tr>\n",
              "    <tr>\n",
              "      <th>emp_title</th>\n",
              "      <th></th>\n",
              "    </tr>\n",
              "  </thead>\n",
              "  <tbody>\n",
              "    <tr>\n",
              "      <th>1</th>\n",
              "      <td>0.928986</td>\n",
              "    </tr>\n",
              "    <tr>\n",
              "      <th>0</th>\n",
              "      <td>0.071014</td>\n",
              "    </tr>\n",
              "  </tbody>\n",
              "</table>\n",
              "</div><br><label><b>dtype:</b> float64</label>"
            ]
          },
          "metadata": {}
        }
      ]
    },
    {
      "cell_type": "markdown",
      "metadata": {
        "id": "3J91Vskq6Ayl"
      },
      "source": [
        "###**emp_length**"
      ]
    },
    {
      "cell_type": "code",
      "execution_count": null,
      "metadata": {
        "id": "KZ0RJpi47GOK",
        "colab": {
          "base_uri": "https://localhost:8080/"
        },
        "outputId": "f45c95ec-d2a8-48b1-a873-9a6ec8cefce2"
      },
      "outputs": [
        {
          "output_type": "stream",
          "name": "stdout",
          "text": [
            "0.06568285714285714\n",
            "0.06506\n"
          ]
        }
      ],
      "source": [
        "#null proportion\n",
        "#proporção de nulos\n",
        "\n",
        "print(df_treino_models['emp_length'].isnull().sum()/df_treino_models.shape[0])\n",
        "print(df_teste_models['emp_length'].isnull().sum()/df_teste_models.shape[0])"
      ]
    },
    {
      "cell_type": "code",
      "execution_count": null,
      "metadata": {
        "id": "LV9PIhgT6T8E",
        "colab": {
          "base_uri": "https://localhost:8080/",
          "height": 772
        },
        "outputId": "8a30d5af-0972-4db6-eda7-fff738d29f97"
      },
      "outputs": [
        {
          "output_type": "display_data",
          "data": {
            "text/plain": [
              "   emp_length  proportion\n",
              "0   10+ years    0.342949\n",
              "1     2 years    0.095981\n",
              "2    < 1 year    0.087379\n",
              "3     3 years    0.084826\n",
              "4      1 year    0.071233\n",
              "5     5 years    0.066820\n",
              "6     4 years    0.063756\n",
              "7     6 years    0.049867\n",
              "8     8 years    0.049127\n",
              "9     7 years    0.047699\n",
              "10    9 years    0.040363"
            ],
            "text/html": [
              "\n",
              "  <div id=\"df-85f89d53-803f-4578-82f1-790d163f1463\" class=\"colab-df-container\">\n",
              "    <div>\n",
              "<style scoped>\n",
              "    .dataframe tbody tr th:only-of-type {\n",
              "        vertical-align: middle;\n",
              "    }\n",
              "\n",
              "    .dataframe tbody tr th {\n",
              "        vertical-align: top;\n",
              "    }\n",
              "\n",
              "    .dataframe thead th {\n",
              "        text-align: right;\n",
              "    }\n",
              "</style>\n",
              "<table border=\"1\" class=\"dataframe\">\n",
              "  <thead>\n",
              "    <tr style=\"text-align: right;\">\n",
              "      <th></th>\n",
              "      <th>emp_length</th>\n",
              "      <th>proportion</th>\n",
              "    </tr>\n",
              "  </thead>\n",
              "  <tbody>\n",
              "    <tr>\n",
              "      <th>0</th>\n",
              "      <td>10+ years</td>\n",
              "      <td>0.342949</td>\n",
              "    </tr>\n",
              "    <tr>\n",
              "      <th>1</th>\n",
              "      <td>2 years</td>\n",
              "      <td>0.095981</td>\n",
              "    </tr>\n",
              "    <tr>\n",
              "      <th>2</th>\n",
              "      <td>&lt; 1 year</td>\n",
              "      <td>0.087379</td>\n",
              "    </tr>\n",
              "    <tr>\n",
              "      <th>3</th>\n",
              "      <td>3 years</td>\n",
              "      <td>0.084826</td>\n",
              "    </tr>\n",
              "    <tr>\n",
              "      <th>4</th>\n",
              "      <td>1 year</td>\n",
              "      <td>0.071233</td>\n",
              "    </tr>\n",
              "    <tr>\n",
              "      <th>5</th>\n",
              "      <td>5 years</td>\n",
              "      <td>0.066820</td>\n",
              "    </tr>\n",
              "    <tr>\n",
              "      <th>6</th>\n",
              "      <td>4 years</td>\n",
              "      <td>0.063756</td>\n",
              "    </tr>\n",
              "    <tr>\n",
              "      <th>7</th>\n",
              "      <td>6 years</td>\n",
              "      <td>0.049867</td>\n",
              "    </tr>\n",
              "    <tr>\n",
              "      <th>8</th>\n",
              "      <td>8 years</td>\n",
              "      <td>0.049127</td>\n",
              "    </tr>\n",
              "    <tr>\n",
              "      <th>9</th>\n",
              "      <td>7 years</td>\n",
              "      <td>0.047699</td>\n",
              "    </tr>\n",
              "    <tr>\n",
              "      <th>10</th>\n",
              "      <td>9 years</td>\n",
              "      <td>0.040363</td>\n",
              "    </tr>\n",
              "  </tbody>\n",
              "</table>\n",
              "</div>\n",
              "    <div class=\"colab-df-buttons\">\n",
              "\n",
              "  <div class=\"colab-df-container\">\n",
              "    <button class=\"colab-df-convert\" onclick=\"convertToInteractive('df-85f89d53-803f-4578-82f1-790d163f1463')\"\n",
              "            title=\"Convert this dataframe to an interactive table.\"\n",
              "            style=\"display:none;\">\n",
              "\n",
              "  <svg xmlns=\"http://www.w3.org/2000/svg\" height=\"24px\" viewBox=\"0 -960 960 960\">\n",
              "    <path d=\"M120-120v-720h720v720H120Zm60-500h600v-160H180v160Zm220 220h160v-160H400v160Zm0 220h160v-160H400v160ZM180-400h160v-160H180v160Zm440 0h160v-160H620v160ZM180-180h160v-160H180v160Zm440 0h160v-160H620v160Z\"/>\n",
              "  </svg>\n",
              "    </button>\n",
              "\n",
              "  <style>\n",
              "    .colab-df-container {\n",
              "      display:flex;\n",
              "      gap: 12px;\n",
              "    }\n",
              "\n",
              "    .colab-df-convert {\n",
              "      background-color: #E8F0FE;\n",
              "      border: none;\n",
              "      border-radius: 50%;\n",
              "      cursor: pointer;\n",
              "      display: none;\n",
              "      fill: #1967D2;\n",
              "      height: 32px;\n",
              "      padding: 0 0 0 0;\n",
              "      width: 32px;\n",
              "    }\n",
              "\n",
              "    .colab-df-convert:hover {\n",
              "      background-color: #E2EBFA;\n",
              "      box-shadow: 0px 1px 2px rgba(60, 64, 67, 0.3), 0px 1px 3px 1px rgba(60, 64, 67, 0.15);\n",
              "      fill: #174EA6;\n",
              "    }\n",
              "\n",
              "    .colab-df-buttons div {\n",
              "      margin-bottom: 4px;\n",
              "    }\n",
              "\n",
              "    [theme=dark] .colab-df-convert {\n",
              "      background-color: #3B4455;\n",
              "      fill: #D2E3FC;\n",
              "    }\n",
              "\n",
              "    [theme=dark] .colab-df-convert:hover {\n",
              "      background-color: #434B5C;\n",
              "      box-shadow: 0px 1px 3px 1px rgba(0, 0, 0, 0.15);\n",
              "      filter: drop-shadow(0px 1px 2px rgba(0, 0, 0, 0.3));\n",
              "      fill: #FFFFFF;\n",
              "    }\n",
              "  </style>\n",
              "\n",
              "    <script>\n",
              "      const buttonEl =\n",
              "        document.querySelector('#df-85f89d53-803f-4578-82f1-790d163f1463 button.colab-df-convert');\n",
              "      buttonEl.style.display =\n",
              "        google.colab.kernel.accessAllowed ? 'block' : 'none';\n",
              "\n",
              "      async function convertToInteractive(key) {\n",
              "        const element = document.querySelector('#df-85f89d53-803f-4578-82f1-790d163f1463');\n",
              "        const dataTable =\n",
              "          await google.colab.kernel.invokeFunction('convertToInteractive',\n",
              "                                                    [key], {});\n",
              "        if (!dataTable) return;\n",
              "\n",
              "        const docLinkHtml = 'Like what you see? Visit the ' +\n",
              "          '<a target=\"_blank\" href=https://colab.research.google.com/notebooks/data_table.ipynb>data table notebook</a>'\n",
              "          + ' to learn more about interactive tables.';\n",
              "        element.innerHTML = '';\n",
              "        dataTable['output_type'] = 'display_data';\n",
              "        await google.colab.output.renderOutput(dataTable, element);\n",
              "        const docLink = document.createElement('div');\n",
              "        docLink.innerHTML = docLinkHtml;\n",
              "        element.appendChild(docLink);\n",
              "      }\n",
              "    </script>\n",
              "  </div>\n",
              "\n",
              "\n",
              "<div id=\"df-72bc4339-1739-4609-a2df-4a6ba71fb915\">\n",
              "  <button class=\"colab-df-quickchart\" onclick=\"quickchart('df-72bc4339-1739-4609-a2df-4a6ba71fb915')\"\n",
              "            title=\"Suggest charts\"\n",
              "            style=\"display:none;\">\n",
              "\n",
              "<svg xmlns=\"http://www.w3.org/2000/svg\" height=\"24px\"viewBox=\"0 0 24 24\"\n",
              "     width=\"24px\">\n",
              "    <g>\n",
              "        <path d=\"M19 3H5c-1.1 0-2 .9-2 2v14c0 1.1.9 2 2 2h14c1.1 0 2-.9 2-2V5c0-1.1-.9-2-2-2zM9 17H7v-7h2v7zm4 0h-2V7h2v10zm4 0h-2v-4h2v4z\"/>\n",
              "    </g>\n",
              "</svg>\n",
              "  </button>\n",
              "\n",
              "<style>\n",
              "  .colab-df-quickchart {\n",
              "      --bg-color: #E8F0FE;\n",
              "      --fill-color: #1967D2;\n",
              "      --hover-bg-color: #E2EBFA;\n",
              "      --hover-fill-color: #174EA6;\n",
              "      --disabled-fill-color: #AAA;\n",
              "      --disabled-bg-color: #DDD;\n",
              "  }\n",
              "\n",
              "  [theme=dark] .colab-df-quickchart {\n",
              "      --bg-color: #3B4455;\n",
              "      --fill-color: #D2E3FC;\n",
              "      --hover-bg-color: #434B5C;\n",
              "      --hover-fill-color: #FFFFFF;\n",
              "      --disabled-bg-color: #3B4455;\n",
              "      --disabled-fill-color: #666;\n",
              "  }\n",
              "\n",
              "  .colab-df-quickchart {\n",
              "    background-color: var(--bg-color);\n",
              "    border: none;\n",
              "    border-radius: 50%;\n",
              "    cursor: pointer;\n",
              "    display: none;\n",
              "    fill: var(--fill-color);\n",
              "    height: 32px;\n",
              "    padding: 0;\n",
              "    width: 32px;\n",
              "  }\n",
              "\n",
              "  .colab-df-quickchart:hover {\n",
              "    background-color: var(--hover-bg-color);\n",
              "    box-shadow: 0 1px 2px rgba(60, 64, 67, 0.3), 0 1px 3px 1px rgba(60, 64, 67, 0.15);\n",
              "    fill: var(--button-hover-fill-color);\n",
              "  }\n",
              "\n",
              "  .colab-df-quickchart-complete:disabled,\n",
              "  .colab-df-quickchart-complete:disabled:hover {\n",
              "    background-color: var(--disabled-bg-color);\n",
              "    fill: var(--disabled-fill-color);\n",
              "    box-shadow: none;\n",
              "  }\n",
              "\n",
              "  .colab-df-spinner {\n",
              "    border: 2px solid var(--fill-color);\n",
              "    border-color: transparent;\n",
              "    border-bottom-color: var(--fill-color);\n",
              "    animation:\n",
              "      spin 1s steps(1) infinite;\n",
              "  }\n",
              "\n",
              "  @keyframes spin {\n",
              "    0% {\n",
              "      border-color: transparent;\n",
              "      border-bottom-color: var(--fill-color);\n",
              "      border-left-color: var(--fill-color);\n",
              "    }\n",
              "    20% {\n",
              "      border-color: transparent;\n",
              "      border-left-color: var(--fill-color);\n",
              "      border-top-color: var(--fill-color);\n",
              "    }\n",
              "    30% {\n",
              "      border-color: transparent;\n",
              "      border-left-color: var(--fill-color);\n",
              "      border-top-color: var(--fill-color);\n",
              "      border-right-color: var(--fill-color);\n",
              "    }\n",
              "    40% {\n",
              "      border-color: transparent;\n",
              "      border-right-color: var(--fill-color);\n",
              "      border-top-color: var(--fill-color);\n",
              "    }\n",
              "    60% {\n",
              "      border-color: transparent;\n",
              "      border-right-color: var(--fill-color);\n",
              "    }\n",
              "    80% {\n",
              "      border-color: transparent;\n",
              "      border-right-color: var(--fill-color);\n",
              "      border-bottom-color: var(--fill-color);\n",
              "    }\n",
              "    90% {\n",
              "      border-color: transparent;\n",
              "      border-bottom-color: var(--fill-color);\n",
              "    }\n",
              "  }\n",
              "</style>\n",
              "\n",
              "  <script>\n",
              "    async function quickchart(key) {\n",
              "      const quickchartButtonEl =\n",
              "        document.querySelector('#' + key + ' button');\n",
              "      quickchartButtonEl.disabled = true;  // To prevent multiple clicks.\n",
              "      quickchartButtonEl.classList.add('colab-df-spinner');\n",
              "      try {\n",
              "        const charts = await google.colab.kernel.invokeFunction(\n",
              "            'suggestCharts', [key], {});\n",
              "      } catch (error) {\n",
              "        console.error('Error during call to suggestCharts:', error);\n",
              "      }\n",
              "      quickchartButtonEl.classList.remove('colab-df-spinner');\n",
              "      quickchartButtonEl.classList.add('colab-df-quickchart-complete');\n",
              "    }\n",
              "    (() => {\n",
              "      let quickchartButtonEl =\n",
              "        document.querySelector('#df-72bc4339-1739-4609-a2df-4a6ba71fb915 button');\n",
              "      quickchartButtonEl.style.display =\n",
              "        google.colab.kernel.accessAllowed ? 'block' : 'none';\n",
              "    })();\n",
              "  </script>\n",
              "</div>\n",
              "\n",
              "    </div>\n",
              "  </div>\n"
            ],
            "application/vnd.google.colaboratory.intrinsic+json": {
              "type": "dataframe",
              "summary": "{\n  \"name\": \"display(df_teste_models['emp_length']\",\n  \"rows\": 11,\n  \"fields\": [\n    {\n      \"column\": \"emp_length\",\n      \"properties\": {\n        \"dtype\": \"string\",\n        \"num_unique_values\": 11,\n        \"samples\": [\n          \"5 years\",\n          \"10+ years\",\n          \"7 years\"\n        ],\n        \"semantic_type\": \"\",\n        \"description\": \"\"\n      }\n    },\n    {\n      \"column\": \"proportion\",\n      \"properties\": {\n        \"dtype\": \"number\",\n        \"std\": 0.0855313791015958,\n        \"min\": 0.04036255661124549,\n        \"max\": 0.34294870814743234,\n        \"num_unique_values\": 11,\n        \"samples\": [\n          0.06682038218897836,\n          0.34294870814743234,\n          0.047698701266929856\n        ],\n        \"semantic_type\": \"\",\n        \"description\": \"\"\n      }\n    }\n  ]\n}"
            }
          },
          "metadata": {}
        },
        {
          "output_type": "display_data",
          "data": {
            "text/plain": [
              "   emp_length  proportion\n",
              "0   10+ years    0.343673\n",
              "1     2 years    0.096206\n",
              "2    < 1 year    0.088105\n",
              "3     3 years    0.085710\n",
              "4      1 year    0.071391\n",
              "5     5 years    0.066300\n",
              "6     4 years    0.063462\n",
              "7     7 years    0.048595\n",
              "8     6 years    0.048559\n",
              "9     8 years    0.048203\n",
              "10    9 years    0.039796"
            ],
            "text/html": [
              "\n",
              "  <div id=\"df-3155b3c0-09af-4826-897a-787745f5498c\" class=\"colab-df-container\">\n",
              "    <div>\n",
              "<style scoped>\n",
              "    .dataframe tbody tr th:only-of-type {\n",
              "        vertical-align: middle;\n",
              "    }\n",
              "\n",
              "    .dataframe tbody tr th {\n",
              "        vertical-align: top;\n",
              "    }\n",
              "\n",
              "    .dataframe thead th {\n",
              "        text-align: right;\n",
              "    }\n",
              "</style>\n",
              "<table border=\"1\" class=\"dataframe\">\n",
              "  <thead>\n",
              "    <tr style=\"text-align: right;\">\n",
              "      <th></th>\n",
              "      <th>emp_length</th>\n",
              "      <th>proportion</th>\n",
              "    </tr>\n",
              "  </thead>\n",
              "  <tbody>\n",
              "    <tr>\n",
              "      <th>0</th>\n",
              "      <td>10+ years</td>\n",
              "      <td>0.343673</td>\n",
              "    </tr>\n",
              "    <tr>\n",
              "      <th>1</th>\n",
              "      <td>2 years</td>\n",
              "      <td>0.096206</td>\n",
              "    </tr>\n",
              "    <tr>\n",
              "      <th>2</th>\n",
              "      <td>&lt; 1 year</td>\n",
              "      <td>0.088105</td>\n",
              "    </tr>\n",
              "    <tr>\n",
              "      <th>3</th>\n",
              "      <td>3 years</td>\n",
              "      <td>0.085710</td>\n",
              "    </tr>\n",
              "    <tr>\n",
              "      <th>4</th>\n",
              "      <td>1 year</td>\n",
              "      <td>0.071391</td>\n",
              "    </tr>\n",
              "    <tr>\n",
              "      <th>5</th>\n",
              "      <td>5 years</td>\n",
              "      <td>0.066300</td>\n",
              "    </tr>\n",
              "    <tr>\n",
              "      <th>6</th>\n",
              "      <td>4 years</td>\n",
              "      <td>0.063462</td>\n",
              "    </tr>\n",
              "    <tr>\n",
              "      <th>7</th>\n",
              "      <td>7 years</td>\n",
              "      <td>0.048595</td>\n",
              "    </tr>\n",
              "    <tr>\n",
              "      <th>8</th>\n",
              "      <td>6 years</td>\n",
              "      <td>0.048559</td>\n",
              "    </tr>\n",
              "    <tr>\n",
              "      <th>9</th>\n",
              "      <td>8 years</td>\n",
              "      <td>0.048203</td>\n",
              "    </tr>\n",
              "    <tr>\n",
              "      <th>10</th>\n",
              "      <td>9 years</td>\n",
              "      <td>0.039796</td>\n",
              "    </tr>\n",
              "  </tbody>\n",
              "</table>\n",
              "</div>\n",
              "    <div class=\"colab-df-buttons\">\n",
              "\n",
              "  <div class=\"colab-df-container\">\n",
              "    <button class=\"colab-df-convert\" onclick=\"convertToInteractive('df-3155b3c0-09af-4826-897a-787745f5498c')\"\n",
              "            title=\"Convert this dataframe to an interactive table.\"\n",
              "            style=\"display:none;\">\n",
              "\n",
              "  <svg xmlns=\"http://www.w3.org/2000/svg\" height=\"24px\" viewBox=\"0 -960 960 960\">\n",
              "    <path d=\"M120-120v-720h720v720H120Zm60-500h600v-160H180v160Zm220 220h160v-160H400v160Zm0 220h160v-160H400v160ZM180-400h160v-160H180v160Zm440 0h160v-160H620v160ZM180-180h160v-160H180v160Zm440 0h160v-160H620v160Z\"/>\n",
              "  </svg>\n",
              "    </button>\n",
              "\n",
              "  <style>\n",
              "    .colab-df-container {\n",
              "      display:flex;\n",
              "      gap: 12px;\n",
              "    }\n",
              "\n",
              "    .colab-df-convert {\n",
              "      background-color: #E8F0FE;\n",
              "      border: none;\n",
              "      border-radius: 50%;\n",
              "      cursor: pointer;\n",
              "      display: none;\n",
              "      fill: #1967D2;\n",
              "      height: 32px;\n",
              "      padding: 0 0 0 0;\n",
              "      width: 32px;\n",
              "    }\n",
              "\n",
              "    .colab-df-convert:hover {\n",
              "      background-color: #E2EBFA;\n",
              "      box-shadow: 0px 1px 2px rgba(60, 64, 67, 0.3), 0px 1px 3px 1px rgba(60, 64, 67, 0.15);\n",
              "      fill: #174EA6;\n",
              "    }\n",
              "\n",
              "    .colab-df-buttons div {\n",
              "      margin-bottom: 4px;\n",
              "    }\n",
              "\n",
              "    [theme=dark] .colab-df-convert {\n",
              "      background-color: #3B4455;\n",
              "      fill: #D2E3FC;\n",
              "    }\n",
              "\n",
              "    [theme=dark] .colab-df-convert:hover {\n",
              "      background-color: #434B5C;\n",
              "      box-shadow: 0px 1px 3px 1px rgba(0, 0, 0, 0.15);\n",
              "      filter: drop-shadow(0px 1px 2px rgba(0, 0, 0, 0.3));\n",
              "      fill: #FFFFFF;\n",
              "    }\n",
              "  </style>\n",
              "\n",
              "    <script>\n",
              "      const buttonEl =\n",
              "        document.querySelector('#df-3155b3c0-09af-4826-897a-787745f5498c button.colab-df-convert');\n",
              "      buttonEl.style.display =\n",
              "        google.colab.kernel.accessAllowed ? 'block' : 'none';\n",
              "\n",
              "      async function convertToInteractive(key) {\n",
              "        const element = document.querySelector('#df-3155b3c0-09af-4826-897a-787745f5498c');\n",
              "        const dataTable =\n",
              "          await google.colab.kernel.invokeFunction('convertToInteractive',\n",
              "                                                    [key], {});\n",
              "        if (!dataTable) return;\n",
              "\n",
              "        const docLinkHtml = 'Like what you see? Visit the ' +\n",
              "          '<a target=\"_blank\" href=https://colab.research.google.com/notebooks/data_table.ipynb>data table notebook</a>'\n",
              "          + ' to learn more about interactive tables.';\n",
              "        element.innerHTML = '';\n",
              "        dataTable['output_type'] = 'display_data';\n",
              "        await google.colab.output.renderOutput(dataTable, element);\n",
              "        const docLink = document.createElement('div');\n",
              "        docLink.innerHTML = docLinkHtml;\n",
              "        element.appendChild(docLink);\n",
              "      }\n",
              "    </script>\n",
              "  </div>\n",
              "\n",
              "\n",
              "<div id=\"df-d76cb492-815f-4b3e-86fb-eff276670a3b\">\n",
              "  <button class=\"colab-df-quickchart\" onclick=\"quickchart('df-d76cb492-815f-4b3e-86fb-eff276670a3b')\"\n",
              "            title=\"Suggest charts\"\n",
              "            style=\"display:none;\">\n",
              "\n",
              "<svg xmlns=\"http://www.w3.org/2000/svg\" height=\"24px\"viewBox=\"0 0 24 24\"\n",
              "     width=\"24px\">\n",
              "    <g>\n",
              "        <path d=\"M19 3H5c-1.1 0-2 .9-2 2v14c0 1.1.9 2 2 2h14c1.1 0 2-.9 2-2V5c0-1.1-.9-2-2-2zM9 17H7v-7h2v7zm4 0h-2V7h2v10zm4 0h-2v-4h2v4z\"/>\n",
              "    </g>\n",
              "</svg>\n",
              "  </button>\n",
              "\n",
              "<style>\n",
              "  .colab-df-quickchart {\n",
              "      --bg-color: #E8F0FE;\n",
              "      --fill-color: #1967D2;\n",
              "      --hover-bg-color: #E2EBFA;\n",
              "      --hover-fill-color: #174EA6;\n",
              "      --disabled-fill-color: #AAA;\n",
              "      --disabled-bg-color: #DDD;\n",
              "  }\n",
              "\n",
              "  [theme=dark] .colab-df-quickchart {\n",
              "      --bg-color: #3B4455;\n",
              "      --fill-color: #D2E3FC;\n",
              "      --hover-bg-color: #434B5C;\n",
              "      --hover-fill-color: #FFFFFF;\n",
              "      --disabled-bg-color: #3B4455;\n",
              "      --disabled-fill-color: #666;\n",
              "  }\n",
              "\n",
              "  .colab-df-quickchart {\n",
              "    background-color: var(--bg-color);\n",
              "    border: none;\n",
              "    border-radius: 50%;\n",
              "    cursor: pointer;\n",
              "    display: none;\n",
              "    fill: var(--fill-color);\n",
              "    height: 32px;\n",
              "    padding: 0;\n",
              "    width: 32px;\n",
              "  }\n",
              "\n",
              "  .colab-df-quickchart:hover {\n",
              "    background-color: var(--hover-bg-color);\n",
              "    box-shadow: 0 1px 2px rgba(60, 64, 67, 0.3), 0 1px 3px 1px rgba(60, 64, 67, 0.15);\n",
              "    fill: var(--button-hover-fill-color);\n",
              "  }\n",
              "\n",
              "  .colab-df-quickchart-complete:disabled,\n",
              "  .colab-df-quickchart-complete:disabled:hover {\n",
              "    background-color: var(--disabled-bg-color);\n",
              "    fill: var(--disabled-fill-color);\n",
              "    box-shadow: none;\n",
              "  }\n",
              "\n",
              "  .colab-df-spinner {\n",
              "    border: 2px solid var(--fill-color);\n",
              "    border-color: transparent;\n",
              "    border-bottom-color: var(--fill-color);\n",
              "    animation:\n",
              "      spin 1s steps(1) infinite;\n",
              "  }\n",
              "\n",
              "  @keyframes spin {\n",
              "    0% {\n",
              "      border-color: transparent;\n",
              "      border-bottom-color: var(--fill-color);\n",
              "      border-left-color: var(--fill-color);\n",
              "    }\n",
              "    20% {\n",
              "      border-color: transparent;\n",
              "      border-left-color: var(--fill-color);\n",
              "      border-top-color: var(--fill-color);\n",
              "    }\n",
              "    30% {\n",
              "      border-color: transparent;\n",
              "      border-left-color: var(--fill-color);\n",
              "      border-top-color: var(--fill-color);\n",
              "      border-right-color: var(--fill-color);\n",
              "    }\n",
              "    40% {\n",
              "      border-color: transparent;\n",
              "      border-right-color: var(--fill-color);\n",
              "      border-top-color: var(--fill-color);\n",
              "    }\n",
              "    60% {\n",
              "      border-color: transparent;\n",
              "      border-right-color: var(--fill-color);\n",
              "    }\n",
              "    80% {\n",
              "      border-color: transparent;\n",
              "      border-right-color: var(--fill-color);\n",
              "      border-bottom-color: var(--fill-color);\n",
              "    }\n",
              "    90% {\n",
              "      border-color: transparent;\n",
              "      border-bottom-color: var(--fill-color);\n",
              "    }\n",
              "  }\n",
              "</style>\n",
              "\n",
              "  <script>\n",
              "    async function quickchart(key) {\n",
              "      const quickchartButtonEl =\n",
              "        document.querySelector('#' + key + ' button');\n",
              "      quickchartButtonEl.disabled = true;  // To prevent multiple clicks.\n",
              "      quickchartButtonEl.classList.add('colab-df-spinner');\n",
              "      try {\n",
              "        const charts = await google.colab.kernel.invokeFunction(\n",
              "            'suggestCharts', [key], {});\n",
              "      } catch (error) {\n",
              "        console.error('Error during call to suggestCharts:', error);\n",
              "      }\n",
              "      quickchartButtonEl.classList.remove('colab-df-spinner');\n",
              "      quickchartButtonEl.classList.add('colab-df-quickchart-complete');\n",
              "    }\n",
              "    (() => {\n",
              "      let quickchartButtonEl =\n",
              "        document.querySelector('#df-d76cb492-815f-4b3e-86fb-eff276670a3b button');\n",
              "      quickchartButtonEl.style.display =\n",
              "        google.colab.kernel.accessAllowed ? 'block' : 'none';\n",
              "    })();\n",
              "  </script>\n",
              "</div>\n",
              "\n",
              "    </div>\n",
              "  </div>\n"
            ],
            "application/vnd.google.colaboratory.intrinsic+json": {
              "type": "dataframe",
              "summary": "{\n  \"name\": \"display(df_teste_models['emp_length']\",\n  \"rows\": 11,\n  \"fields\": [\n    {\n      \"column\": \"emp_length\",\n      \"properties\": {\n        \"dtype\": \"string\",\n        \"num_unique_values\": 11,\n        \"samples\": [\n          \"5 years\",\n          \"10+ years\",\n          \"8 years\"\n        ],\n        \"semantic_type\": \"\",\n        \"description\": \"\"\n      }\n    },\n    {\n      \"column\": \"proportion\",\n      \"properties\": {\n        \"dtype\": \"number\",\n        \"std\": 0.08585607393020846,\n        \"min\": 0.03979578012136251,\n        \"max\": 0.34367267774759164,\n        \"num_unique_values\": 11,\n        \"samples\": [\n          0.0663001547336371,\n          0.34367267774759164,\n          0.048202736717507716\n        ],\n        \"semantic_type\": \"\",\n        \"description\": \"\"\n      }\n    }\n  ]\n}"
            }
          },
          "metadata": {}
        }
      ],
      "source": [
        "#class proportion\n",
        "#proporção das classes\n",
        "\n",
        "display(df_treino_models['emp_length'].value_counts(normalize = True).reset_index())\n",
        "display(df_teste_models['emp_length'].value_counts(normalize = True).reset_index())"
      ]
    },
    {
      "cell_type": "code",
      "execution_count": null,
      "metadata": {
        "id": "V_ki-q-67XvQ"
      },
      "outputs": [],
      "source": [
        "#converts in number\n",
        "#converte em numero\n",
        "\n",
        "def convert_emp_length(x):\n",
        "\n",
        "  if x == '< 1 year':  x = 1\n",
        "  elif x == '1 year':  x = 2\n",
        "  elif x == '2 years': x = 3\n",
        "  elif x == '3 years': x = 4\n",
        "  elif x == '4 years': x = 5\n",
        "  elif x == '5 years': x = 6\n",
        "  elif x == '6 years': x = 7\n",
        "  elif x == '7 years': x = 8\n",
        "  elif x == '8 years': x = 9\n",
        "  elif x == '9 years': x = 10\n",
        "  elif x == '10+ years': x = 11\n",
        "\n",
        "  return x"
      ]
    },
    {
      "cell_type": "code",
      "execution_count": null,
      "metadata": {
        "id": "8OChNM0Z8k3p"
      },
      "outputs": [],
      "source": [
        "df_treino_models['emp_length'] = df_treino_models['emp_length'].apply(convert_emp_length)\n",
        "df_teste_models['emp_length'] = df_teste_models['emp_length'].apply(convert_emp_length)"
      ]
    },
    {
      "cell_type": "markdown",
      "metadata": {
        "id": "I-3XbKyG89-G"
      },
      "source": [
        "### **home_ownership**"
      ]
    },
    {
      "cell_type": "code",
      "source": [
        "#null proportion\n",
        "#proporção de nulos\n",
        "\n",
        "print(df_treino_models['home_ownership'].isnull().sum()/df_treino_models.shape[0])\n",
        "print(df_teste_models['home_ownership'].isnull().sum()/df_teste_models.shape[0])"
      ],
      "metadata": {
        "colab": {
          "base_uri": "https://localhost:8080/"
        },
        "id": "ofc7CedBjxuT",
        "outputId": "04165524-318b-4a4c-ef53-0b86ceb1a6b7"
      },
      "execution_count": null,
      "outputs": [
        {
          "output_type": "stream",
          "name": "stdout",
          "text": [
            "0.0\n",
            "0.0\n"
          ]
        }
      ]
    },
    {
      "cell_type": "code",
      "execution_count": null,
      "metadata": {
        "id": "9rZH50Xw9T1a",
        "colab": {
          "base_uri": "https://localhost:8080/",
          "height": 591
        },
        "outputId": "931ef4cb-24b0-4fab-9346-18bb6c70be3d"
      },
      "outputs": [
        {
          "output_type": "display_data",
          "data": {
            "text/plain": [
              "home_ownership\n",
              "MORTGAGE    0.470229\n",
              "RENT        0.421243\n",
              "OWN         0.108177\n",
              "ANY         0.000203\n",
              "OTHER       0.000126\n",
              "NONE        0.000023\n",
              "Name: proportion, dtype: float64"
            ],
            "text/html": [
              "<div>\n",
              "<style scoped>\n",
              "    .dataframe tbody tr th:only-of-type {\n",
              "        vertical-align: middle;\n",
              "    }\n",
              "\n",
              "    .dataframe tbody tr th {\n",
              "        vertical-align: top;\n",
              "    }\n",
              "\n",
              "    .dataframe thead th {\n",
              "        text-align: right;\n",
              "    }\n",
              "</style>\n",
              "<table border=\"1\" class=\"dataframe\">\n",
              "  <thead>\n",
              "    <tr style=\"text-align: right;\">\n",
              "      <th></th>\n",
              "      <th>proportion</th>\n",
              "    </tr>\n",
              "    <tr>\n",
              "      <th>home_ownership</th>\n",
              "      <th></th>\n",
              "    </tr>\n",
              "  </thead>\n",
              "  <tbody>\n",
              "    <tr>\n",
              "      <th>MORTGAGE</th>\n",
              "      <td>0.470229</td>\n",
              "    </tr>\n",
              "    <tr>\n",
              "      <th>RENT</th>\n",
              "      <td>0.421243</td>\n",
              "    </tr>\n",
              "    <tr>\n",
              "      <th>OWN</th>\n",
              "      <td>0.108177</td>\n",
              "    </tr>\n",
              "    <tr>\n",
              "      <th>ANY</th>\n",
              "      <td>0.000203</td>\n",
              "    </tr>\n",
              "    <tr>\n",
              "      <th>OTHER</th>\n",
              "      <td>0.000126</td>\n",
              "    </tr>\n",
              "    <tr>\n",
              "      <th>NONE</th>\n",
              "      <td>0.000023</td>\n",
              "    </tr>\n",
              "  </tbody>\n",
              "</table>\n",
              "</div><br><label><b>dtype:</b> float64</label>"
            ]
          },
          "metadata": {}
        },
        {
          "output_type": "display_data",
          "data": {
            "text/plain": [
              "home_ownership\n",
              "MORTGAGE    0.470053\n",
              "RENT        0.421080\n",
              "OWN         0.108553\n",
              "ANY         0.000187\n",
              "OTHER       0.000093\n",
              "NONE        0.000033\n",
              "Name: proportion, dtype: float64"
            ],
            "text/html": [
              "<div>\n",
              "<style scoped>\n",
              "    .dataframe tbody tr th:only-of-type {\n",
              "        vertical-align: middle;\n",
              "    }\n",
              "\n",
              "    .dataframe tbody tr th {\n",
              "        vertical-align: top;\n",
              "    }\n",
              "\n",
              "    .dataframe thead th {\n",
              "        text-align: right;\n",
              "    }\n",
              "</style>\n",
              "<table border=\"1\" class=\"dataframe\">\n",
              "  <thead>\n",
              "    <tr style=\"text-align: right;\">\n",
              "      <th></th>\n",
              "      <th>proportion</th>\n",
              "    </tr>\n",
              "    <tr>\n",
              "      <th>home_ownership</th>\n",
              "      <th></th>\n",
              "    </tr>\n",
              "  </thead>\n",
              "  <tbody>\n",
              "    <tr>\n",
              "      <th>MORTGAGE</th>\n",
              "      <td>0.470053</td>\n",
              "    </tr>\n",
              "    <tr>\n",
              "      <th>RENT</th>\n",
              "      <td>0.421080</td>\n",
              "    </tr>\n",
              "    <tr>\n",
              "      <th>OWN</th>\n",
              "      <td>0.108553</td>\n",
              "    </tr>\n",
              "    <tr>\n",
              "      <th>ANY</th>\n",
              "      <td>0.000187</td>\n",
              "    </tr>\n",
              "    <tr>\n",
              "      <th>OTHER</th>\n",
              "      <td>0.000093</td>\n",
              "    </tr>\n",
              "    <tr>\n",
              "      <th>NONE</th>\n",
              "      <td>0.000033</td>\n",
              "    </tr>\n",
              "  </tbody>\n",
              "</table>\n",
              "</div><br><label><b>dtype:</b> float64</label>"
            ]
          },
          "metadata": {}
        }
      ],
      "source": [
        "# class proportions\n",
        "# proporçao das classes\n",
        "\n",
        "display(df_treino_models['home_ownership'].value_counts(normalize = True))\n",
        "display(df_teste_models['home_ownership'].value_counts(normalize = True))"
      ]
    },
    {
      "cell_type": "code",
      "execution_count": null,
      "metadata": {
        "id": "kHgX81Qm-eH3"
      },
      "outputs": [],
      "source": [
        "#converts in number\n",
        "#converte em numero\n",
        "\n",
        "def convert_ownership(x):\n",
        "\n",
        "  if   x == 'MORTGAGE': x = 1\n",
        "  elif x == 'RENT':     x = 2\n",
        "  elif x == 'OWN':      x = 3\n",
        "  else:                 x = 4\n",
        "\n",
        "  return x\n"
      ]
    },
    {
      "cell_type": "code",
      "source": [
        "df_treino_models['home_ownership'] = df_treino_models['home_ownership'].apply(convert_ownership)\n",
        "df_teste_models['home_ownership'] = df_teste_models['home_ownership'].apply(convert_ownership)"
      ],
      "metadata": {
        "id": "x82fsEzSkyvG"
      },
      "execution_count": null,
      "outputs": []
    },
    {
      "cell_type": "markdown",
      "metadata": {
        "id": "cA-uehw7-619"
      },
      "source": [
        "### **verification_status**"
      ]
    },
    {
      "cell_type": "code",
      "execution_count": null,
      "metadata": {
        "id": "HmSkBxFxAGpi",
        "colab": {
          "base_uri": "https://localhost:8080/"
        },
        "outputId": "9e71cc29-ae92-4097-e97d-7033724302a6"
      },
      "outputs": [
        {
          "output_type": "stream",
          "name": "stdout",
          "text": [
            "0.0\n",
            "0.0\n"
          ]
        }
      ],
      "source": [
        "#null proportion\n",
        "#proporção de nulos\n",
        "\n",
        "print(df_treino_models['verification_status'].isnull().sum()/df_treino_models.shape[0])\n",
        "print(df_teste_models['verification_status'].isnull().sum()/df_teste_models.shape[0])"
      ]
    },
    {
      "cell_type": "code",
      "execution_count": null,
      "metadata": {
        "id": "OFW4-O-x_aPa",
        "colab": {
          "base_uri": "https://localhost:8080/"
        },
        "outputId": "e6a30fd6-de2c-4a8f-ac43-70d53bcca350"
      },
      "outputs": [
        {
          "output_type": "stream",
          "name": "stdout",
          "text": [
            "['Source Verified' 'Verified' 'Not Verified']\n",
            "['Source Verified' 'Not Verified' 'Verified']\n"
          ]
        }
      ],
      "source": [
        "print(df_treino_models['verification_status'].unique())\n",
        "print(df_teste_models['verification_status'].unique())\n"
      ]
    },
    {
      "cell_type": "code",
      "execution_count": null,
      "metadata": {
        "id": "bbbhYzXX_dbB",
        "colab": {
          "base_uri": "https://localhost:8080/",
          "height": 403
        },
        "outputId": "1f789c4b-d734-491a-de49-e4c969a6371b"
      },
      "outputs": [
        {
          "output_type": "display_data",
          "data": {
            "text/plain": [
              "verification_status\n",
              "Source Verified    0.393611\n",
              "Verified           0.335703\n",
              "Not Verified       0.270686\n",
              "Name: proportion, dtype: float64"
            ],
            "text/html": [
              "<div>\n",
              "<style scoped>\n",
              "    .dataframe tbody tr th:only-of-type {\n",
              "        vertical-align: middle;\n",
              "    }\n",
              "\n",
              "    .dataframe tbody tr th {\n",
              "        vertical-align: top;\n",
              "    }\n",
              "\n",
              "    .dataframe thead th {\n",
              "        text-align: right;\n",
              "    }\n",
              "</style>\n",
              "<table border=\"1\" class=\"dataframe\">\n",
              "  <thead>\n",
              "    <tr style=\"text-align: right;\">\n",
              "      <th></th>\n",
              "      <th>proportion</th>\n",
              "    </tr>\n",
              "    <tr>\n",
              "      <th>verification_status</th>\n",
              "      <th></th>\n",
              "    </tr>\n",
              "  </thead>\n",
              "  <tbody>\n",
              "    <tr>\n",
              "      <th>Source Verified</th>\n",
              "      <td>0.393611</td>\n",
              "    </tr>\n",
              "    <tr>\n",
              "      <th>Verified</th>\n",
              "      <td>0.335703</td>\n",
              "    </tr>\n",
              "    <tr>\n",
              "      <th>Not Verified</th>\n",
              "      <td>0.270686</td>\n",
              "    </tr>\n",
              "  </tbody>\n",
              "</table>\n",
              "</div><br><label><b>dtype:</b> float64</label>"
            ]
          },
          "metadata": {}
        },
        {
          "output_type": "display_data",
          "data": {
            "text/plain": [
              "verification_status\n",
              "Source Verified    0.393720\n",
              "Verified           0.337353\n",
              "Not Verified       0.268927\n",
              "Name: proportion, dtype: float64"
            ],
            "text/html": [
              "<div>\n",
              "<style scoped>\n",
              "    .dataframe tbody tr th:only-of-type {\n",
              "        vertical-align: middle;\n",
              "    }\n",
              "\n",
              "    .dataframe tbody tr th {\n",
              "        vertical-align: top;\n",
              "    }\n",
              "\n",
              "    .dataframe thead th {\n",
              "        text-align: right;\n",
              "    }\n",
              "</style>\n",
              "<table border=\"1\" class=\"dataframe\">\n",
              "  <thead>\n",
              "    <tr style=\"text-align: right;\">\n",
              "      <th></th>\n",
              "      <th>proportion</th>\n",
              "    </tr>\n",
              "    <tr>\n",
              "      <th>verification_status</th>\n",
              "      <th></th>\n",
              "    </tr>\n",
              "  </thead>\n",
              "  <tbody>\n",
              "    <tr>\n",
              "      <th>Source Verified</th>\n",
              "      <td>0.393720</td>\n",
              "    </tr>\n",
              "    <tr>\n",
              "      <th>Verified</th>\n",
              "      <td>0.337353</td>\n",
              "    </tr>\n",
              "    <tr>\n",
              "      <th>Not Verified</th>\n",
              "      <td>0.268927</td>\n",
              "    </tr>\n",
              "  </tbody>\n",
              "</table>\n",
              "</div><br><label><b>dtype:</b> float64</label>"
            ]
          },
          "metadata": {}
        }
      ],
      "source": [
        "# class proportions\n",
        "# proporçao das classes\n",
        "\n",
        "display(df_treino_models['verification_status'].value_counts(normalize = True))\n",
        "display(df_teste_models['verification_status'].value_counts(normalize = True))"
      ]
    },
    {
      "cell_type": "code",
      "execution_count": null,
      "metadata": {
        "id": "4z5d9rX9_2eu"
      },
      "outputs": [],
      "source": [
        "#converts in number\n",
        "#converte em numero\n",
        "\n",
        "def convert_verification(x):\n",
        "\n",
        "  if   x == 'Not Verified':     x = 1\n",
        "  elif x == 'Source Verified':  x = 2\n",
        "  elif x == 'Verified':         x = 3\n",
        "\n",
        "  return x\n"
      ]
    },
    {
      "cell_type": "code",
      "source": [
        "#apply function\n",
        "df_treino_models['verification_status'] = df_treino_models['verification_status'].apply(convert_verification)\n",
        "df_teste_models['verification_status'] = df_teste_models['verification_status'].apply(convert_verification)"
      ],
      "metadata": {
        "id": "wQBQe39qoM84"
      },
      "execution_count": null,
      "outputs": []
    },
    {
      "cell_type": "markdown",
      "metadata": {
        "id": "NbnESw-KAlFI"
      },
      "source": [
        "### **issue_d**"
      ]
    },
    {
      "cell_type": "code",
      "source": [
        "#null proportion\n",
        "#proporção de nulos\n",
        "\n",
        "print(df_treino_models['issue_d'].isnull().sum()/df_treino_models.shape[0])\n",
        "print(df_teste_models['issue_d'].isnull().sum()/df_teste_models.shape[0])"
      ],
      "metadata": {
        "colab": {
          "base_uri": "https://localhost:8080/"
        },
        "id": "mNr8YF4Eoi0p",
        "outputId": "fbf0eb18-f094-4b7b-834d-580cc97bc4d6"
      },
      "execution_count": null,
      "outputs": [
        {
          "output_type": "stream",
          "name": "stdout",
          "text": [
            "0.0\n",
            "0.0\n"
          ]
        }
      ]
    },
    {
      "cell_type": "code",
      "source": [
        "#essa variável representa a data em que o empréstimo foi formalizado e como estamos supondo que os clientes tem o mesmo comportamento no tempo, vamos descarta-la\n",
        "#this variable represents the date the loan was formalized, and since we are assuming that customers have the same behavior over time, we will discard it\n",
        "\n",
        "df_treino_models = df_treino_models.drop(columns = ['issue_d'], axis = 1)\n",
        "df_teste_models = df_teste_models.drop(columns = ['issue_d'], axis = 1)"
      ],
      "metadata": {
        "id": "q9Mkh66AYSVN"
      },
      "execution_count": null,
      "outputs": []
    },
    {
      "cell_type": "markdown",
      "metadata": {
        "id": "iXt0-lkhB2JR"
      },
      "source": [
        "### **pymnt_plan**"
      ]
    },
    {
      "cell_type": "code",
      "execution_count": null,
      "metadata": {
        "id": "eMOa_jX2CfNl",
        "colab": {
          "base_uri": "https://localhost:8080/"
        },
        "outputId": "92d91aad-1dd0-4eeb-cee8-70de3965b5d5"
      },
      "outputs": [
        {
          "output_type": "stream",
          "name": "stdout",
          "text": [
            "0.0\n",
            "0.0\n"
          ]
        }
      ],
      "source": [
        "#null proportion\n",
        "#proporção de nulos\n",
        "\n",
        "print(df_treino_models['pymnt_plan'].isnull().sum()/df_treino_models.shape[0])\n",
        "print(df_teste_models['pymnt_plan'].isnull().sum()/df_teste_models.shape[0])"
      ]
    },
    {
      "cell_type": "code",
      "execution_count": null,
      "metadata": {
        "id": "M5Sx_9TVCuVE",
        "colab": {
          "base_uri": "https://localhost:8080/",
          "height": 277
        },
        "outputId": "3ee3ab31-f5e3-4352-dce2-9c5744f3f5ac"
      },
      "outputs": [
        {
          "output_type": "display_data",
          "data": {
            "text/plain": [
              "pymnt_plan\n",
              "n    1.0\n",
              "Name: proportion, dtype: float64"
            ],
            "text/html": [
              "<div>\n",
              "<style scoped>\n",
              "    .dataframe tbody tr th:only-of-type {\n",
              "        vertical-align: middle;\n",
              "    }\n",
              "\n",
              "    .dataframe tbody tr th {\n",
              "        vertical-align: top;\n",
              "    }\n",
              "\n",
              "    .dataframe thead th {\n",
              "        text-align: right;\n",
              "    }\n",
              "</style>\n",
              "<table border=\"1\" class=\"dataframe\">\n",
              "  <thead>\n",
              "    <tr style=\"text-align: right;\">\n",
              "      <th></th>\n",
              "      <th>proportion</th>\n",
              "    </tr>\n",
              "    <tr>\n",
              "      <th>pymnt_plan</th>\n",
              "      <th></th>\n",
              "    </tr>\n",
              "  </thead>\n",
              "  <tbody>\n",
              "    <tr>\n",
              "      <th>n</th>\n",
              "      <td>1.0</td>\n",
              "    </tr>\n",
              "  </tbody>\n",
              "</table>\n",
              "</div><br><label><b>dtype:</b> float64</label>"
            ]
          },
          "metadata": {}
        },
        {
          "output_type": "display_data",
          "data": {
            "text/plain": [
              "pymnt_plan\n",
              "n    1.0\n",
              "Name: proportion, dtype: float64"
            ],
            "text/html": [
              "<div>\n",
              "<style scoped>\n",
              "    .dataframe tbody tr th:only-of-type {\n",
              "        vertical-align: middle;\n",
              "    }\n",
              "\n",
              "    .dataframe tbody tr th {\n",
              "        vertical-align: top;\n",
              "    }\n",
              "\n",
              "    .dataframe thead th {\n",
              "        text-align: right;\n",
              "    }\n",
              "</style>\n",
              "<table border=\"1\" class=\"dataframe\">\n",
              "  <thead>\n",
              "    <tr style=\"text-align: right;\">\n",
              "      <th></th>\n",
              "      <th>proportion</th>\n",
              "    </tr>\n",
              "    <tr>\n",
              "      <th>pymnt_plan</th>\n",
              "      <th></th>\n",
              "    </tr>\n",
              "  </thead>\n",
              "  <tbody>\n",
              "    <tr>\n",
              "      <th>n</th>\n",
              "      <td>1.0</td>\n",
              "    </tr>\n",
              "  </tbody>\n",
              "</table>\n",
              "</div><br><label><b>dtype:</b> float64</label>"
            ]
          },
          "metadata": {}
        }
      ],
      "source": [
        "#this column indicates whether there was a pre-agreement between the creditor and the payer. Since all values are 'n', it's not worth including it in the model.\n",
        "#essa coluna indica se houve um pre acordo entre o credor e o pagador, como todos os valores são n, não vale a pena colocar no modelo\n",
        "\n",
        "display(df_treino_models['pymnt_plan'].value_counts(normalize = True))\n",
        "display(df_teste_models['pymnt_plan'].value_counts(normalize = True))"
      ]
    },
    {
      "cell_type": "code",
      "execution_count": null,
      "metadata": {
        "id": "yoJiZFrcDpob"
      },
      "outputs": [],
      "source": [
        "df_treino_models = df_treino_models.drop(columns = ['pymnt_plan'], axis = 1)\n",
        "df_teste_models = df_teste_models.drop(columns = ['pymnt_plan'], axis = 1)"
      ]
    },
    {
      "cell_type": "markdown",
      "metadata": {
        "id": "isPW85WLD8_m"
      },
      "source": [
        "###**desc**"
      ]
    },
    {
      "cell_type": "code",
      "source": [
        "#null proportion\n",
        "#proporção de nulos\n",
        "\n",
        "print(df_treino_models['desc'].isnull().sum()/df_treino_models.shape[0])\n",
        "print(df_teste_models['desc'].isnull().sum()/df_teste_models.shape[0])"
      ],
      "metadata": {
        "colab": {
          "base_uri": "https://localhost:8080/"
        },
        "id": "YBtAKNIcrJhU",
        "outputId": "209cda8a-eb4a-4e19-a6c6-78885a0d8c88"
      },
      "execution_count": null,
      "outputs": [
        {
          "output_type": "stream",
          "name": "stdout",
          "text": [
            "0.9136771428571429\n",
            "0.91182\n"
          ]
        }
      ]
    },
    {
      "cell_type": "code",
      "execution_count": null,
      "metadata": {
        "id": "4M6G3kImEU6d"
      },
      "outputs": [],
      "source": [
        "#if there is a loan description, assign 1; if not, assign 0\n",
        "#se tiver descrição do empréstimo associa a 1 se não 0\n",
        "\n",
        "df_treino_models['desc'] = df_treino_models['desc'].apply(lambda x: 0 if pd.isnull(x) else 1)\n",
        "df_teste_models['desc'] = df_teste_models['desc'].apply(lambda x: 0 if pd.isnull(x) else 1)\n"
      ]
    },
    {
      "cell_type": "code",
      "execution_count": null,
      "metadata": {
        "id": "-NNFXkDHEnV6",
        "colab": {
          "base_uri": "https://localhost:8080/",
          "height": 340
        },
        "outputId": "f6d1a87e-c0f7-4e33-a1e5-8355537463a4"
      },
      "outputs": [
        {
          "output_type": "display_data",
          "data": {
            "text/plain": [
              "desc\n",
              "0    0.913677\n",
              "1    0.086323\n",
              "Name: proportion, dtype: float64"
            ],
            "text/html": [
              "<div>\n",
              "<style scoped>\n",
              "    .dataframe tbody tr th:only-of-type {\n",
              "        vertical-align: middle;\n",
              "    }\n",
              "\n",
              "    .dataframe tbody tr th {\n",
              "        vertical-align: top;\n",
              "    }\n",
              "\n",
              "    .dataframe thead th {\n",
              "        text-align: right;\n",
              "    }\n",
              "</style>\n",
              "<table border=\"1\" class=\"dataframe\">\n",
              "  <thead>\n",
              "    <tr style=\"text-align: right;\">\n",
              "      <th></th>\n",
              "      <th>proportion</th>\n",
              "    </tr>\n",
              "    <tr>\n",
              "      <th>desc</th>\n",
              "      <th></th>\n",
              "    </tr>\n",
              "  </thead>\n",
              "  <tbody>\n",
              "    <tr>\n",
              "      <th>0</th>\n",
              "      <td>0.913677</td>\n",
              "    </tr>\n",
              "    <tr>\n",
              "      <th>1</th>\n",
              "      <td>0.086323</td>\n",
              "    </tr>\n",
              "  </tbody>\n",
              "</table>\n",
              "</div><br><label><b>dtype:</b> float64</label>"
            ]
          },
          "metadata": {}
        },
        {
          "output_type": "display_data",
          "data": {
            "text/plain": [
              "desc\n",
              "0    0.913677\n",
              "1    0.086323\n",
              "Name: proportion, dtype: float64"
            ],
            "text/html": [
              "<div>\n",
              "<style scoped>\n",
              "    .dataframe tbody tr th:only-of-type {\n",
              "        vertical-align: middle;\n",
              "    }\n",
              "\n",
              "    .dataframe tbody tr th {\n",
              "        vertical-align: top;\n",
              "    }\n",
              "\n",
              "    .dataframe thead th {\n",
              "        text-align: right;\n",
              "    }\n",
              "</style>\n",
              "<table border=\"1\" class=\"dataframe\">\n",
              "  <thead>\n",
              "    <tr style=\"text-align: right;\">\n",
              "      <th></th>\n",
              "      <th>proportion</th>\n",
              "    </tr>\n",
              "    <tr>\n",
              "      <th>desc</th>\n",
              "      <th></th>\n",
              "    </tr>\n",
              "  </thead>\n",
              "  <tbody>\n",
              "    <tr>\n",
              "      <th>0</th>\n",
              "      <td>0.913677</td>\n",
              "    </tr>\n",
              "    <tr>\n",
              "      <th>1</th>\n",
              "      <td>0.086323</td>\n",
              "    </tr>\n",
              "  </tbody>\n",
              "</table>\n",
              "</div><br><label><b>dtype:</b> float64</label>"
            ]
          },
          "metadata": {}
        }
      ],
      "source": [
        "#validation\n",
        "#validação\n",
        "\n",
        "display(df_treino_models['desc'].value_counts(normalize = True))\n",
        "display(df_treino_models['desc'].value_counts(normalize = True))\n"
      ]
    },
    {
      "cell_type": "markdown",
      "metadata": {
        "id": "SCsDjJyYEsaX"
      },
      "source": [
        "###**purpose**"
      ]
    },
    {
      "cell_type": "code",
      "execution_count": null,
      "metadata": {
        "id": "J9NJ94xYFL1t",
        "colab": {
          "base_uri": "https://localhost:8080/"
        },
        "outputId": "a1ba6a15-c8c8-445b-deee-35fa7eeb5b1e"
      },
      "outputs": [
        {
          "output_type": "stream",
          "name": "stdout",
          "text": [
            "0.0\n",
            "0.0\n"
          ]
        }
      ],
      "source": [
        "#null proportion\n",
        "#proporção de nulos\n",
        "\n",
        "print(df_treino_models['purpose'].isnull().sum()/df_treino_models.shape[0])\n",
        "print(df_teste_models['purpose'].isnull().sum()/df_teste_models.shape[0])"
      ]
    },
    {
      "cell_type": "code",
      "execution_count": null,
      "metadata": {
        "id": "KY9zUqpzFoeM",
        "colab": {
          "base_uri": "https://localhost:8080/",
          "height": 1000
        },
        "outputId": "dbc744dc-03ac-40cc-9b7e-eea8f9b843a6"
      },
      "outputs": [
        {
          "output_type": "display_data",
          "data": {
            "text/plain": [
              "purpose\n",
              "debt_consolidation    0.593914\n",
              "credit_card           0.206629\n",
              "home_improvement      0.062403\n",
              "other                 0.058777\n",
              "major_purchase        0.021323\n",
              "small_business        0.013569\n",
              "medical               0.012089\n",
              "car                   0.009634\n",
              "moving                0.007383\n",
              "vacation              0.006551\n",
              "house                 0.005297\n",
              "wedding               0.001483\n",
              "renewable_energy      0.000714\n",
              "educational           0.000234\n",
              "Name: proportion, dtype: float64"
            ],
            "text/html": [
              "<div>\n",
              "<style scoped>\n",
              "    .dataframe tbody tr th:only-of-type {\n",
              "        vertical-align: middle;\n",
              "    }\n",
              "\n",
              "    .dataframe tbody tr th {\n",
              "        vertical-align: top;\n",
              "    }\n",
              "\n",
              "    .dataframe thead th {\n",
              "        text-align: right;\n",
              "    }\n",
              "</style>\n",
              "<table border=\"1\" class=\"dataframe\">\n",
              "  <thead>\n",
              "    <tr style=\"text-align: right;\">\n",
              "      <th></th>\n",
              "      <th>proportion</th>\n",
              "    </tr>\n",
              "    <tr>\n",
              "      <th>purpose</th>\n",
              "      <th></th>\n",
              "    </tr>\n",
              "  </thead>\n",
              "  <tbody>\n",
              "    <tr>\n",
              "      <th>debt_consolidation</th>\n",
              "      <td>0.593914</td>\n",
              "    </tr>\n",
              "    <tr>\n",
              "      <th>credit_card</th>\n",
              "      <td>0.206629</td>\n",
              "    </tr>\n",
              "    <tr>\n",
              "      <th>home_improvement</th>\n",
              "      <td>0.062403</td>\n",
              "    </tr>\n",
              "    <tr>\n",
              "      <th>other</th>\n",
              "      <td>0.058777</td>\n",
              "    </tr>\n",
              "    <tr>\n",
              "      <th>major_purchase</th>\n",
              "      <td>0.021323</td>\n",
              "    </tr>\n",
              "    <tr>\n",
              "      <th>small_business</th>\n",
              "      <td>0.013569</td>\n",
              "    </tr>\n",
              "    <tr>\n",
              "      <th>medical</th>\n",
              "      <td>0.012089</td>\n",
              "    </tr>\n",
              "    <tr>\n",
              "      <th>car</th>\n",
              "      <td>0.009634</td>\n",
              "    </tr>\n",
              "    <tr>\n",
              "      <th>moving</th>\n",
              "      <td>0.007383</td>\n",
              "    </tr>\n",
              "    <tr>\n",
              "      <th>vacation</th>\n",
              "      <td>0.006551</td>\n",
              "    </tr>\n",
              "    <tr>\n",
              "      <th>house</th>\n",
              "      <td>0.005297</td>\n",
              "    </tr>\n",
              "    <tr>\n",
              "      <th>wedding</th>\n",
              "      <td>0.001483</td>\n",
              "    </tr>\n",
              "    <tr>\n",
              "      <th>renewable_energy</th>\n",
              "      <td>0.000714</td>\n",
              "    </tr>\n",
              "    <tr>\n",
              "      <th>educational</th>\n",
              "      <td>0.000234</td>\n",
              "    </tr>\n",
              "  </tbody>\n",
              "</table>\n",
              "</div><br><label><b>dtype:</b> float64</label>"
            ]
          },
          "metadata": {}
        },
        {
          "output_type": "display_data",
          "data": {
            "text/plain": [
              "purpose\n",
              "debt_consolidation    0.594840\n",
              "credit_card           0.207127\n",
              "home_improvement      0.061987\n",
              "other                 0.058080\n",
              "major_purchase        0.020960\n",
              "small_business        0.013907\n",
              "medical               0.011667\n",
              "car                   0.009793\n",
              "moving                0.007253\n",
              "vacation              0.006207\n",
              "house                 0.005427\n",
              "wedding               0.001713\n",
              "renewable_energy      0.000773\n",
              "educational           0.000267\n",
              "Name: proportion, dtype: float64"
            ],
            "text/html": [
              "<div>\n",
              "<style scoped>\n",
              "    .dataframe tbody tr th:only-of-type {\n",
              "        vertical-align: middle;\n",
              "    }\n",
              "\n",
              "    .dataframe tbody tr th {\n",
              "        vertical-align: top;\n",
              "    }\n",
              "\n",
              "    .dataframe thead th {\n",
              "        text-align: right;\n",
              "    }\n",
              "</style>\n",
              "<table border=\"1\" class=\"dataframe\">\n",
              "  <thead>\n",
              "    <tr style=\"text-align: right;\">\n",
              "      <th></th>\n",
              "      <th>proportion</th>\n",
              "    </tr>\n",
              "    <tr>\n",
              "      <th>purpose</th>\n",
              "      <th></th>\n",
              "    </tr>\n",
              "  </thead>\n",
              "  <tbody>\n",
              "    <tr>\n",
              "      <th>debt_consolidation</th>\n",
              "      <td>0.594840</td>\n",
              "    </tr>\n",
              "    <tr>\n",
              "      <th>credit_card</th>\n",
              "      <td>0.207127</td>\n",
              "    </tr>\n",
              "    <tr>\n",
              "      <th>home_improvement</th>\n",
              "      <td>0.061987</td>\n",
              "    </tr>\n",
              "    <tr>\n",
              "      <th>other</th>\n",
              "      <td>0.058080</td>\n",
              "    </tr>\n",
              "    <tr>\n",
              "      <th>major_purchase</th>\n",
              "      <td>0.020960</td>\n",
              "    </tr>\n",
              "    <tr>\n",
              "      <th>small_business</th>\n",
              "      <td>0.013907</td>\n",
              "    </tr>\n",
              "    <tr>\n",
              "      <th>medical</th>\n",
              "      <td>0.011667</td>\n",
              "    </tr>\n",
              "    <tr>\n",
              "      <th>car</th>\n",
              "      <td>0.009793</td>\n",
              "    </tr>\n",
              "    <tr>\n",
              "      <th>moving</th>\n",
              "      <td>0.007253</td>\n",
              "    </tr>\n",
              "    <tr>\n",
              "      <th>vacation</th>\n",
              "      <td>0.006207</td>\n",
              "    </tr>\n",
              "    <tr>\n",
              "      <th>house</th>\n",
              "      <td>0.005427</td>\n",
              "    </tr>\n",
              "    <tr>\n",
              "      <th>wedding</th>\n",
              "      <td>0.001713</td>\n",
              "    </tr>\n",
              "    <tr>\n",
              "      <th>renewable_energy</th>\n",
              "      <td>0.000773</td>\n",
              "    </tr>\n",
              "    <tr>\n",
              "      <th>educational</th>\n",
              "      <td>0.000267</td>\n",
              "    </tr>\n",
              "  </tbody>\n",
              "</table>\n",
              "</div><br><label><b>dtype:</b> float64</label>"
            ]
          },
          "metadata": {}
        }
      ],
      "source": [
        "#class proportions\n",
        "display(df_treino_models['purpose'].value_counts(normalize = True))\n",
        "display(df_teste_models['purpose'].value_counts(normalize = True))"
      ]
    },
    {
      "cell_type": "code",
      "execution_count": null,
      "metadata": {
        "id": "qXwjq6mIF402"
      },
      "outputs": [],
      "source": [
        "# transform in numbers the three major classes\n",
        "# transforma em número as três maiores classes\n",
        "\n",
        "def convert_purpose(x):\n",
        "\n",
        "  if   x == 'debt_consolidation':           x = 1\n",
        "  elif x == 'credit_card':                  x = 2\n",
        "  else:                                     x = 3\n",
        "\n",
        "  return x"
      ]
    },
    {
      "cell_type": "code",
      "execution_count": null,
      "metadata": {
        "id": "nohy-e2RF7fV"
      },
      "outputs": [],
      "source": [
        "df_treino_models['purpose'] = df_treino_models['purpose'].apply(convert_purpose)\n",
        "df_teste_models['purpose'] = df_teste_models['purpose'].apply(convert_purpose)"
      ]
    },
    {
      "cell_type": "code",
      "source": [
        "#class proportions\n",
        "display(df_treino_models['purpose'].value_counts(normalize = True))\n",
        "display(df_teste_models['purpose'].value_counts(normalize = True))"
      ],
      "metadata": {
        "colab": {
          "base_uri": "https://localhost:8080/",
          "height": 403
        },
        "id": "FEaszdnDxjMM",
        "outputId": "0ba7f9eb-b476-45a2-df52-1b15325b965a"
      },
      "execution_count": null,
      "outputs": [
        {
          "output_type": "display_data",
          "data": {
            "text/plain": [
              "purpose\n",
              "1    0.593914\n",
              "2    0.206629\n",
              "3    0.199457\n",
              "Name: proportion, dtype: float64"
            ],
            "text/html": [
              "<div>\n",
              "<style scoped>\n",
              "    .dataframe tbody tr th:only-of-type {\n",
              "        vertical-align: middle;\n",
              "    }\n",
              "\n",
              "    .dataframe tbody tr th {\n",
              "        vertical-align: top;\n",
              "    }\n",
              "\n",
              "    .dataframe thead th {\n",
              "        text-align: right;\n",
              "    }\n",
              "</style>\n",
              "<table border=\"1\" class=\"dataframe\">\n",
              "  <thead>\n",
              "    <tr style=\"text-align: right;\">\n",
              "      <th></th>\n",
              "      <th>proportion</th>\n",
              "    </tr>\n",
              "    <tr>\n",
              "      <th>purpose</th>\n",
              "      <th></th>\n",
              "    </tr>\n",
              "  </thead>\n",
              "  <tbody>\n",
              "    <tr>\n",
              "      <th>1</th>\n",
              "      <td>0.593914</td>\n",
              "    </tr>\n",
              "    <tr>\n",
              "      <th>2</th>\n",
              "      <td>0.206629</td>\n",
              "    </tr>\n",
              "    <tr>\n",
              "      <th>3</th>\n",
              "      <td>0.199457</td>\n",
              "    </tr>\n",
              "  </tbody>\n",
              "</table>\n",
              "</div><br><label><b>dtype:</b> float64</label>"
            ]
          },
          "metadata": {}
        },
        {
          "output_type": "display_data",
          "data": {
            "text/plain": [
              "purpose\n",
              "1    0.594840\n",
              "2    0.207127\n",
              "3    0.198033\n",
              "Name: proportion, dtype: float64"
            ],
            "text/html": [
              "<div>\n",
              "<style scoped>\n",
              "    .dataframe tbody tr th:only-of-type {\n",
              "        vertical-align: middle;\n",
              "    }\n",
              "\n",
              "    .dataframe tbody tr th {\n",
              "        vertical-align: top;\n",
              "    }\n",
              "\n",
              "    .dataframe thead th {\n",
              "        text-align: right;\n",
              "    }\n",
              "</style>\n",
              "<table border=\"1\" class=\"dataframe\">\n",
              "  <thead>\n",
              "    <tr style=\"text-align: right;\">\n",
              "      <th></th>\n",
              "      <th>proportion</th>\n",
              "    </tr>\n",
              "    <tr>\n",
              "      <th>purpose</th>\n",
              "      <th></th>\n",
              "    </tr>\n",
              "  </thead>\n",
              "  <tbody>\n",
              "    <tr>\n",
              "      <th>1</th>\n",
              "      <td>0.594840</td>\n",
              "    </tr>\n",
              "    <tr>\n",
              "      <th>2</th>\n",
              "      <td>0.207127</td>\n",
              "    </tr>\n",
              "    <tr>\n",
              "      <th>3</th>\n",
              "      <td>0.198033</td>\n",
              "    </tr>\n",
              "  </tbody>\n",
              "</table>\n",
              "</div><br><label><b>dtype:</b> float64</label>"
            ]
          },
          "metadata": {}
        }
      ]
    },
    {
      "cell_type": "markdown",
      "metadata": {
        "id": "LyOasAgsKi-D"
      },
      "source": [
        "###**title**"
      ]
    },
    {
      "cell_type": "code",
      "execution_count": null,
      "metadata": {
        "id": "V5AQH-j3RrU_",
        "colab": {
          "base_uri": "https://localhost:8080/"
        },
        "outputId": "2111459d-2abb-47b1-ef72-0e9de40778b2"
      },
      "outputs": [
        {
          "output_type": "stream",
          "name": "stdout",
          "text": [
            "0.014177142857142857\n",
            "0.01486\n"
          ]
        }
      ],
      "source": [
        "#null proportion\n",
        "#proporção de nulos\n",
        "\n",
        "print(df_treino_models['title'].isnull().sum()/df_treino_models.shape[0])\n",
        "print(df_teste_models['title'].isnull().sum()/df_teste_models.shape[0])"
      ]
    },
    {
      "cell_type": "code",
      "execution_count": null,
      "metadata": {
        "id": "Y-BSbmldU1SO"
      },
      "outputs": [],
      "source": [
        "# the information in 'title' is practically the same as in 'purpose', so it's worth just creating a binary variable to indicate whether the 'title' field was filled in or not during registration.\n",
        "# a informação de title é praticamente a mesma de purpose então vale a pena apenas criar uma binária se a variável title foi preenchida ou não no cadastro\n",
        "\n",
        "df_treino_models['title'] = df_treino_models['title'].apply(lambda x: 0 if pd.isna(x) or x == '' else 1)\n",
        "df_teste_models['title'] = df_teste_models['title'].apply(lambda x: 0 if pd.isna(x) or x == '' else 1)\n"
      ]
    },
    {
      "cell_type": "code",
      "execution_count": null,
      "metadata": {
        "id": "lktnZRVQSP2F",
        "colab": {
          "base_uri": "https://localhost:8080/",
          "height": 340
        },
        "outputId": "bd01493e-67fb-4ebb-d1b6-57fc294a1eb8"
      },
      "outputs": [
        {
          "output_type": "display_data",
          "data": {
            "text/plain": [
              "title\n",
              "1    0.985823\n",
              "0    0.014177\n",
              "Name: proportion, dtype: float64"
            ],
            "text/html": [
              "<div>\n",
              "<style scoped>\n",
              "    .dataframe tbody tr th:only-of-type {\n",
              "        vertical-align: middle;\n",
              "    }\n",
              "\n",
              "    .dataframe tbody tr th {\n",
              "        vertical-align: top;\n",
              "    }\n",
              "\n",
              "    .dataframe thead th {\n",
              "        text-align: right;\n",
              "    }\n",
              "</style>\n",
              "<table border=\"1\" class=\"dataframe\">\n",
              "  <thead>\n",
              "    <tr style=\"text-align: right;\">\n",
              "      <th></th>\n",
              "      <th>proportion</th>\n",
              "    </tr>\n",
              "    <tr>\n",
              "      <th>title</th>\n",
              "      <th></th>\n",
              "    </tr>\n",
              "  </thead>\n",
              "  <tbody>\n",
              "    <tr>\n",
              "      <th>1</th>\n",
              "      <td>0.985823</td>\n",
              "    </tr>\n",
              "    <tr>\n",
              "      <th>0</th>\n",
              "      <td>0.014177</td>\n",
              "    </tr>\n",
              "  </tbody>\n",
              "</table>\n",
              "</div><br><label><b>dtype:</b> float64</label>"
            ]
          },
          "metadata": {}
        },
        {
          "output_type": "display_data",
          "data": {
            "text/plain": [
              "title\n",
              "1    0.98514\n",
              "0    0.01486\n",
              "Name: proportion, dtype: float64"
            ],
            "text/html": [
              "<div>\n",
              "<style scoped>\n",
              "    .dataframe tbody tr th:only-of-type {\n",
              "        vertical-align: middle;\n",
              "    }\n",
              "\n",
              "    .dataframe tbody tr th {\n",
              "        vertical-align: top;\n",
              "    }\n",
              "\n",
              "    .dataframe thead th {\n",
              "        text-align: right;\n",
              "    }\n",
              "</style>\n",
              "<table border=\"1\" class=\"dataframe\">\n",
              "  <thead>\n",
              "    <tr style=\"text-align: right;\">\n",
              "      <th></th>\n",
              "      <th>proportion</th>\n",
              "    </tr>\n",
              "    <tr>\n",
              "      <th>title</th>\n",
              "      <th></th>\n",
              "    </tr>\n",
              "  </thead>\n",
              "  <tbody>\n",
              "    <tr>\n",
              "      <th>1</th>\n",
              "      <td>0.98514</td>\n",
              "    </tr>\n",
              "    <tr>\n",
              "      <th>0</th>\n",
              "      <td>0.01486</td>\n",
              "    </tr>\n",
              "  </tbody>\n",
              "</table>\n",
              "</div><br><label><b>dtype:</b> float64</label>"
            ]
          },
          "metadata": {}
        }
      ],
      "source": [
        "#validation\n",
        "#validação\n",
        "\n",
        "display(df_treino_models['title'].value_counts(normalize = True))\n",
        "display(df_teste_models['title'].value_counts(normalize = True))"
      ]
    },
    {
      "cell_type": "markdown",
      "metadata": {
        "id": "8xw80EyGqQDf"
      },
      "source": [
        "### **zip_code**"
      ]
    },
    {
      "cell_type": "markdown",
      "metadata": {
        "id": "lqXzGgL37eSt"
      },
      "source": [
        "![1280px-ZIP_Code_zones.svg.png](data:image/png;base64,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)"
      ]
    },
    {
      "cell_type": "code",
      "source": [
        "#convert the 'zip code' variable to string\n",
        "#transforma varável zip code em string\n",
        "\n",
        "df_treino_models['zip_code'] = df_treino_models['zip_code'].astype(str)\n",
        "df_teste_models['zip_code'] = df_teste_models['zip_code'].astype(str)\n",
        "\n",
        "#get out no treat data\n",
        "#tira dados não tratados\n",
        "\n",
        "df_treino_models = df_treino_models[~df_treino_models['zip_code'].str.contains('n')]\n",
        "df_teste_models = df_teste_models[~df_teste_models['zip_code'].str.contains('n')]"
      ],
      "metadata": {
        "id": "BRUajJYy0RCB"
      },
      "execution_count": null,
      "outputs": []
    },
    {
      "cell_type": "code",
      "source": [
        "#tranforms in a numerical variable\n",
        "#transforma variável em numérica\n",
        "\n",
        "df_treino_models['zip_code'] = pd.to_numeric(df_treino_models['zip_code'].apply(lambda x: str(x)[0:1]))\n",
        "df_teste_models['zip_code'] = pd.to_numeric(df_teste_models['zip_code'].apply(lambda x: str(x)[0:1]))\n"
      ],
      "metadata": {
        "id": "BjkoOYef1XFd"
      },
      "execution_count": null,
      "outputs": []
    },
    {
      "cell_type": "code",
      "execution_count": null,
      "metadata": {
        "id": "-qnC4_aWqO0I",
        "colab": {
          "base_uri": "https://localhost:8080/",
          "height": 842
        },
        "outputId": "51582a55-2702-44f9-f24f-2d2778fd29c8"
      },
      "outputs": [
        {
          "output_type": "display_data",
          "data": {
            "text/plain": [
              "zip_code\n",
              "9    64543\n",
              "3    48271\n",
              "1    42549\n",
              "7    39083\n",
              "2    33977\n",
              "4    30054\n",
              "0    29599\n",
              "8    26626\n",
              "6    22527\n",
              "5    12770\n",
              "Name: count, dtype: int64"
            ],
            "text/html": [
              "<div>\n",
              "<style scoped>\n",
              "    .dataframe tbody tr th:only-of-type {\n",
              "        vertical-align: middle;\n",
              "    }\n",
              "\n",
              "    .dataframe tbody tr th {\n",
              "        vertical-align: top;\n",
              "    }\n",
              "\n",
              "    .dataframe thead th {\n",
              "        text-align: right;\n",
              "    }\n",
              "</style>\n",
              "<table border=\"1\" class=\"dataframe\">\n",
              "  <thead>\n",
              "    <tr style=\"text-align: right;\">\n",
              "      <th></th>\n",
              "      <th>count</th>\n",
              "    </tr>\n",
              "    <tr>\n",
              "      <th>zip_code</th>\n",
              "      <th></th>\n",
              "    </tr>\n",
              "  </thead>\n",
              "  <tbody>\n",
              "    <tr>\n",
              "      <th>9</th>\n",
              "      <td>64543</td>\n",
              "    </tr>\n",
              "    <tr>\n",
              "      <th>3</th>\n",
              "      <td>48271</td>\n",
              "    </tr>\n",
              "    <tr>\n",
              "      <th>1</th>\n",
              "      <td>42549</td>\n",
              "    </tr>\n",
              "    <tr>\n",
              "      <th>7</th>\n",
              "      <td>39083</td>\n",
              "    </tr>\n",
              "    <tr>\n",
              "      <th>2</th>\n",
              "      <td>33977</td>\n",
              "    </tr>\n",
              "    <tr>\n",
              "      <th>4</th>\n",
              "      <td>30054</td>\n",
              "    </tr>\n",
              "    <tr>\n",
              "      <th>0</th>\n",
              "      <td>29599</td>\n",
              "    </tr>\n",
              "    <tr>\n",
              "      <th>8</th>\n",
              "      <td>26626</td>\n",
              "    </tr>\n",
              "    <tr>\n",
              "      <th>6</th>\n",
              "      <td>22527</td>\n",
              "    </tr>\n",
              "    <tr>\n",
              "      <th>5</th>\n",
              "      <td>12770</td>\n",
              "    </tr>\n",
              "  </tbody>\n",
              "</table>\n",
              "</div><br><label><b>dtype:</b> int64</label>"
            ]
          },
          "metadata": {}
        },
        {
          "output_type": "display_data",
          "data": {
            "text/plain": [
              "zip_code\n",
              "9    27473\n",
              "3    20674\n",
              "1    18293\n",
              "7    16774\n",
              "2    14479\n",
              "0    12891\n",
              "4    12878\n",
              "8    11490\n",
              "6     9543\n",
              "5     5505\n",
              "Name: count, dtype: int64"
            ],
            "text/html": [
              "<div>\n",
              "<style scoped>\n",
              "    .dataframe tbody tr th:only-of-type {\n",
              "        vertical-align: middle;\n",
              "    }\n",
              "\n",
              "    .dataframe tbody tr th {\n",
              "        vertical-align: top;\n",
              "    }\n",
              "\n",
              "    .dataframe thead th {\n",
              "        text-align: right;\n",
              "    }\n",
              "</style>\n",
              "<table border=\"1\" class=\"dataframe\">\n",
              "  <thead>\n",
              "    <tr style=\"text-align: right;\">\n",
              "      <th></th>\n",
              "      <th>count</th>\n",
              "    </tr>\n",
              "    <tr>\n",
              "      <th>zip_code</th>\n",
              "      <th></th>\n",
              "    </tr>\n",
              "  </thead>\n",
              "  <tbody>\n",
              "    <tr>\n",
              "      <th>9</th>\n",
              "      <td>27473</td>\n",
              "    </tr>\n",
              "    <tr>\n",
              "      <th>3</th>\n",
              "      <td>20674</td>\n",
              "    </tr>\n",
              "    <tr>\n",
              "      <th>1</th>\n",
              "      <td>18293</td>\n",
              "    </tr>\n",
              "    <tr>\n",
              "      <th>7</th>\n",
              "      <td>16774</td>\n",
              "    </tr>\n",
              "    <tr>\n",
              "      <th>2</th>\n",
              "      <td>14479</td>\n",
              "    </tr>\n",
              "    <tr>\n",
              "      <th>0</th>\n",
              "      <td>12891</td>\n",
              "    </tr>\n",
              "    <tr>\n",
              "      <th>4</th>\n",
              "      <td>12878</td>\n",
              "    </tr>\n",
              "    <tr>\n",
              "      <th>8</th>\n",
              "      <td>11490</td>\n",
              "    </tr>\n",
              "    <tr>\n",
              "      <th>6</th>\n",
              "      <td>9543</td>\n",
              "    </tr>\n",
              "    <tr>\n",
              "      <th>5</th>\n",
              "      <td>5505</td>\n",
              "    </tr>\n",
              "  </tbody>\n",
              "</table>\n",
              "</div><br><label><b>dtype:</b> int64</label>"
            ]
          },
          "metadata": {}
        }
      ],
      "source": [
        "#validation\n",
        "#validação\n",
        "\n",
        "display(df_treino_models['zip_code'].value_counts())\n",
        "display(df_teste_models['zip_code'].value_counts())"
      ]
    },
    {
      "cell_type": "markdown",
      "metadata": {
        "id": "RIaJGBkurp37"
      },
      "source": [
        "###**addr_state**"
      ]
    },
    {
      "cell_type": "code",
      "execution_count": null,
      "metadata": {
        "id": "inm1CvDdrsv7"
      },
      "outputs": [],
      "source": [
        "#let's exclude this column because the 'zipcode' alone is sufficient for location\n",
        "#vamos excluir essa coluna pois apenas a zipcode já é suficiente pra localização\n",
        "\n",
        "df_treino_models = df_treino_models.drop('addr_state', axis = 1)\n",
        "df_teste_models = df_teste_models.drop('addr_state', axis = 1)"
      ]
    },
    {
      "cell_type": "markdown",
      "metadata": {
        "id": "yHuZzuZi4my_"
      },
      "source": [
        "###**initial_list_status**"
      ]
    },
    {
      "cell_type": "code",
      "source": [
        "#null proportion\n",
        "#proporção de nulos\n",
        "\n",
        "print(df_treino_models['initial_list_status'].isnull().sum()/df_treino_models.shape[0])\n",
        "print(df_teste_models['initial_list_status'].isnull().sum()/df_teste_models.shape[0])"
      ],
      "metadata": {
        "colab": {
          "base_uri": "https://localhost:8080/"
        },
        "id": "WixXLGhy45OU",
        "outputId": "c514b8c3-3530-4d4a-80cc-7d8396d1d963"
      },
      "execution_count": null,
      "outputs": [
        {
          "output_type": "stream",
          "name": "stdout",
          "text": [
            "0.0\n",
            "0.0\n"
          ]
        }
      ]
    },
    {
      "cell_type": "code",
      "execution_count": null,
      "metadata": {
        "colab": {
          "base_uri": "https://localhost:8080/",
          "height": 340
        },
        "outputId": "86965131-71af-4220-f302-83f66f0f2a56",
        "id": "KBzRI8xy4mzA"
      },
      "outputs": [
        {
          "output_type": "display_data",
          "data": {
            "text/plain": [
              "initial_list_status\n",
              "w    0.580219\n",
              "f    0.419781\n",
              "Name: proportion, dtype: float64"
            ],
            "text/html": [
              "<div>\n",
              "<style scoped>\n",
              "    .dataframe tbody tr th:only-of-type {\n",
              "        vertical-align: middle;\n",
              "    }\n",
              "\n",
              "    .dataframe tbody tr th {\n",
              "        vertical-align: top;\n",
              "    }\n",
              "\n",
              "    .dataframe thead th {\n",
              "        text-align: right;\n",
              "    }\n",
              "</style>\n",
              "<table border=\"1\" class=\"dataframe\">\n",
              "  <thead>\n",
              "    <tr style=\"text-align: right;\">\n",
              "      <th></th>\n",
              "      <th>proportion</th>\n",
              "    </tr>\n",
              "    <tr>\n",
              "      <th>initial_list_status</th>\n",
              "      <th></th>\n",
              "    </tr>\n",
              "  </thead>\n",
              "  <tbody>\n",
              "    <tr>\n",
              "      <th>w</th>\n",
              "      <td>0.580219</td>\n",
              "    </tr>\n",
              "    <tr>\n",
              "      <th>f</th>\n",
              "      <td>0.419781</td>\n",
              "    </tr>\n",
              "  </tbody>\n",
              "</table>\n",
              "</div><br><label><b>dtype:</b> float64</label>"
            ]
          },
          "metadata": {}
        },
        {
          "output_type": "display_data",
          "data": {
            "text/plain": [
              "initial_list_status\n",
              "w    0.57612\n",
              "f    0.42388\n",
              "Name: proportion, dtype: float64"
            ],
            "text/html": [
              "<div>\n",
              "<style scoped>\n",
              "    .dataframe tbody tr th:only-of-type {\n",
              "        vertical-align: middle;\n",
              "    }\n",
              "\n",
              "    .dataframe tbody tr th {\n",
              "        vertical-align: top;\n",
              "    }\n",
              "\n",
              "    .dataframe thead th {\n",
              "        text-align: right;\n",
              "    }\n",
              "</style>\n",
              "<table border=\"1\" class=\"dataframe\">\n",
              "  <thead>\n",
              "    <tr style=\"text-align: right;\">\n",
              "      <th></th>\n",
              "      <th>proportion</th>\n",
              "    </tr>\n",
              "    <tr>\n",
              "      <th>initial_list_status</th>\n",
              "      <th></th>\n",
              "    </tr>\n",
              "  </thead>\n",
              "  <tbody>\n",
              "    <tr>\n",
              "      <th>w</th>\n",
              "      <td>0.57612</td>\n",
              "    </tr>\n",
              "    <tr>\n",
              "      <th>f</th>\n",
              "      <td>0.42388</td>\n",
              "    </tr>\n",
              "  </tbody>\n",
              "</table>\n",
              "</div><br><label><b>dtype:</b> float64</label>"
            ]
          },
          "metadata": {}
        }
      ],
      "source": [
        "#display class proportions\n",
        "#proporção das classes\n",
        "\n",
        "display(df_treino_models['initial_list_status'].value_counts(normalize = True))\n",
        "display(df_teste_models['initial_list_status'].value_counts(normalize = True))"
      ]
    },
    {
      "cell_type": "code",
      "execution_count": null,
      "metadata": {
        "id": "dQtB3XX24mzA"
      },
      "outputs": [],
      "source": [
        "# 1 indicates a loan with a single investor and 0 the opposite\n",
        "# 1 indica empréstimo com investidor único e 0 o contrário\n",
        "\n",
        "df_treino_models['initial_list_status'] = df_treino_models['initial_list_status'].apply(lambda x: 1 if x == 'w' else 0).astype(int)\n",
        "df_teste_models['initial_list_status'] = df_teste_models['initial_list_status'].apply(lambda x: 1 if x == 'w' else 0).astype(int)"
      ]
    },
    {
      "cell_type": "code",
      "execution_count": null,
      "metadata": {
        "colab": {
          "base_uri": "https://localhost:8080/",
          "height": 340
        },
        "outputId": "0e05a452-e5c9-4c66-c4f4-80e59294f26f",
        "id": "N4Btekxu4mzB"
      },
      "outputs": [
        {
          "output_type": "display_data",
          "data": {
            "text/plain": [
              "initial_list_status\n",
              "1    0.580219\n",
              "0    0.419781\n",
              "Name: proportion, dtype: float64"
            ],
            "text/html": [
              "<div>\n",
              "<style scoped>\n",
              "    .dataframe tbody tr th:only-of-type {\n",
              "        vertical-align: middle;\n",
              "    }\n",
              "\n",
              "    .dataframe tbody tr th {\n",
              "        vertical-align: top;\n",
              "    }\n",
              "\n",
              "    .dataframe thead th {\n",
              "        text-align: right;\n",
              "    }\n",
              "</style>\n",
              "<table border=\"1\" class=\"dataframe\">\n",
              "  <thead>\n",
              "    <tr style=\"text-align: right;\">\n",
              "      <th></th>\n",
              "      <th>proportion</th>\n",
              "    </tr>\n",
              "    <tr>\n",
              "      <th>initial_list_status</th>\n",
              "      <th></th>\n",
              "    </tr>\n",
              "  </thead>\n",
              "  <tbody>\n",
              "    <tr>\n",
              "      <th>1</th>\n",
              "      <td>0.580219</td>\n",
              "    </tr>\n",
              "    <tr>\n",
              "      <th>0</th>\n",
              "      <td>0.419781</td>\n",
              "    </tr>\n",
              "  </tbody>\n",
              "</table>\n",
              "</div><br><label><b>dtype:</b> float64</label>"
            ]
          },
          "metadata": {}
        },
        {
          "output_type": "display_data",
          "data": {
            "text/plain": [
              "initial_list_status\n",
              "1    0.57612\n",
              "0    0.42388\n",
              "Name: proportion, dtype: float64"
            ],
            "text/html": [
              "<div>\n",
              "<style scoped>\n",
              "    .dataframe tbody tr th:only-of-type {\n",
              "        vertical-align: middle;\n",
              "    }\n",
              "\n",
              "    .dataframe tbody tr th {\n",
              "        vertical-align: top;\n",
              "    }\n",
              "\n",
              "    .dataframe thead th {\n",
              "        text-align: right;\n",
              "    }\n",
              "</style>\n",
              "<table border=\"1\" class=\"dataframe\">\n",
              "  <thead>\n",
              "    <tr style=\"text-align: right;\">\n",
              "      <th></th>\n",
              "      <th>proportion</th>\n",
              "    </tr>\n",
              "    <tr>\n",
              "      <th>initial_list_status</th>\n",
              "      <th></th>\n",
              "    </tr>\n",
              "  </thead>\n",
              "  <tbody>\n",
              "    <tr>\n",
              "      <th>1</th>\n",
              "      <td>0.57612</td>\n",
              "    </tr>\n",
              "    <tr>\n",
              "      <th>0</th>\n",
              "      <td>0.42388</td>\n",
              "    </tr>\n",
              "  </tbody>\n",
              "</table>\n",
              "</div><br><label><b>dtype:</b> float64</label>"
            ]
          },
          "metadata": {}
        }
      ],
      "source": [
        "#validation\n",
        "#validação\n",
        "\n",
        "display(df_treino_models['initial_list_status'].value_counts(normalize = True))\n",
        "display(df_teste_models['initial_list_status'].value_counts(normalize = True))"
      ]
    },
    {
      "cell_type": "markdown",
      "metadata": {
        "id": "x-PxCXWU6bth"
      },
      "source": [
        "###**last_pymnt_d & next_pymnt_d**"
      ]
    },
    {
      "cell_type": "code",
      "execution_count": null,
      "metadata": {
        "id": "rGrJo_0X6bth"
      },
      "outputs": [],
      "source": [
        "#these variables are generated once the customer is approved for credit, which is not of interest to us.\n",
        "#essas variaveis são geradas a partir do momento que o cliente é aceito no crédito, o que não nos interessa\n",
        "\n",
        "df_treino_models = df_treino_models.drop(['last_pymnt_d','next_pymnt_d'], axis = 1)\n",
        "df_teste_models = df_teste_models.drop(['last_pymnt_d','next_pymnt_d'], axis = 1)"
      ]
    },
    {
      "cell_type": "markdown",
      "metadata": {
        "id": "QCqkWNS0-y3W"
      },
      "source": [
        "###**application_type**"
      ]
    },
    {
      "cell_type": "code",
      "source": [
        "#null proportion\n",
        "#proporção de nulos\n",
        "\n",
        "print(df_treino_models['application_type'].isnull().sum()/df_treino_models.shape[0])\n",
        "print(df_teste_models['application_type'].isnull().sum()/df_teste_models.shape[0])"
      ],
      "metadata": {
        "colab": {
          "base_uri": "https://localhost:8080/"
        },
        "id": "fTeHYgJD_L1b",
        "outputId": "461a3d7f-7446-4cc0-b1e5-4235b9c1ab06"
      },
      "execution_count": null,
      "outputs": [
        {
          "output_type": "stream",
          "name": "stdout",
          "text": [
            "0.0\n",
            "0.0\n"
          ]
        }
      ]
    },
    {
      "cell_type": "code",
      "source": [
        "#display class proportions\n",
        "#proporção das classes\n",
        "\n",
        "display(df_treino_models['application_type'].value_counts(normalize = True))\n",
        "display(df_teste_models['application_type'].value_counts(normalize = True))"
      ],
      "metadata": {
        "colab": {
          "base_uri": "https://localhost:8080/",
          "height": 340
        },
        "id": "W28gJ47j_cr2",
        "outputId": "fd53e250-646e-4f6c-fdc9-2cbbb90a4130"
      },
      "execution_count": null,
      "outputs": [
        {
          "output_type": "display_data",
          "data": {
            "text/plain": [
              "application_type\n",
              "Individual    0.980614\n",
              "Joint App     0.019386\n",
              "Name: proportion, dtype: float64"
            ],
            "text/html": [
              "<div>\n",
              "<style scoped>\n",
              "    .dataframe tbody tr th:only-of-type {\n",
              "        vertical-align: middle;\n",
              "    }\n",
              "\n",
              "    .dataframe tbody tr th {\n",
              "        vertical-align: top;\n",
              "    }\n",
              "\n",
              "    .dataframe thead th {\n",
              "        text-align: right;\n",
              "    }\n",
              "</style>\n",
              "<table border=\"1\" class=\"dataframe\">\n",
              "  <thead>\n",
              "    <tr style=\"text-align: right;\">\n",
              "      <th></th>\n",
              "      <th>proportion</th>\n",
              "    </tr>\n",
              "    <tr>\n",
              "      <th>application_type</th>\n",
              "      <th></th>\n",
              "    </tr>\n",
              "  </thead>\n",
              "  <tbody>\n",
              "    <tr>\n",
              "      <th>Individual</th>\n",
              "      <td>0.980614</td>\n",
              "    </tr>\n",
              "    <tr>\n",
              "      <th>Joint App</th>\n",
              "      <td>0.019386</td>\n",
              "    </tr>\n",
              "  </tbody>\n",
              "</table>\n",
              "</div><br><label><b>dtype:</b> float64</label>"
            ]
          },
          "metadata": {}
        },
        {
          "output_type": "display_data",
          "data": {
            "text/plain": [
              "application_type\n",
              "Individual    0.98174\n",
              "Joint App     0.01826\n",
              "Name: proportion, dtype: float64"
            ],
            "text/html": [
              "<div>\n",
              "<style scoped>\n",
              "    .dataframe tbody tr th:only-of-type {\n",
              "        vertical-align: middle;\n",
              "    }\n",
              "\n",
              "    .dataframe tbody tr th {\n",
              "        vertical-align: top;\n",
              "    }\n",
              "\n",
              "    .dataframe thead th {\n",
              "        text-align: right;\n",
              "    }\n",
              "</style>\n",
              "<table border=\"1\" class=\"dataframe\">\n",
              "  <thead>\n",
              "    <tr style=\"text-align: right;\">\n",
              "      <th></th>\n",
              "      <th>proportion</th>\n",
              "    </tr>\n",
              "    <tr>\n",
              "      <th>application_type</th>\n",
              "      <th></th>\n",
              "    </tr>\n",
              "  </thead>\n",
              "  <tbody>\n",
              "    <tr>\n",
              "      <th>Individual</th>\n",
              "      <td>0.98174</td>\n",
              "    </tr>\n",
              "    <tr>\n",
              "      <th>Joint App</th>\n",
              "      <td>0.01826</td>\n",
              "    </tr>\n",
              "  </tbody>\n",
              "</table>\n",
              "</div><br><label><b>dtype:</b> float64</label>"
            ]
          },
          "metadata": {}
        }
      ]
    },
    {
      "cell_type": "code",
      "execution_count": null,
      "metadata": {
        "id": "0otgcA-2-y3X"
      },
      "outputs": [],
      "source": [
        "df_treino_models['application_type'] = df_treino_models['application_type'].apply(lambda x: 1 if x == 'Individual' else 0).astype(int)\n",
        "df_teste_models['application_type'] = df_teste_models['application_type'].apply(lambda x: 1 if x == 'Individual' else 0).astype(int)"
      ]
    },
    {
      "cell_type": "code",
      "execution_count": null,
      "metadata": {
        "colab": {
          "base_uri": "https://localhost:8080/",
          "height": 340
        },
        "outputId": "9121ce98-2f42-4d9f-e585-759e7882451b",
        "id": "GOd-WCTK-y3X"
      },
      "outputs": [
        {
          "output_type": "display_data",
          "data": {
            "text/plain": [
              "application_type\n",
              "1    0.980614\n",
              "0    0.019386\n",
              "Name: proportion, dtype: float64"
            ],
            "text/html": [
              "<div>\n",
              "<style scoped>\n",
              "    .dataframe tbody tr th:only-of-type {\n",
              "        vertical-align: middle;\n",
              "    }\n",
              "\n",
              "    .dataframe tbody tr th {\n",
              "        vertical-align: top;\n",
              "    }\n",
              "\n",
              "    .dataframe thead th {\n",
              "        text-align: right;\n",
              "    }\n",
              "</style>\n",
              "<table border=\"1\" class=\"dataframe\">\n",
              "  <thead>\n",
              "    <tr style=\"text-align: right;\">\n",
              "      <th></th>\n",
              "      <th>proportion</th>\n",
              "    </tr>\n",
              "    <tr>\n",
              "      <th>application_type</th>\n",
              "      <th></th>\n",
              "    </tr>\n",
              "  </thead>\n",
              "  <tbody>\n",
              "    <tr>\n",
              "      <th>1</th>\n",
              "      <td>0.980614</td>\n",
              "    </tr>\n",
              "    <tr>\n",
              "      <th>0</th>\n",
              "      <td>0.019386</td>\n",
              "    </tr>\n",
              "  </tbody>\n",
              "</table>\n",
              "</div><br><label><b>dtype:</b> float64</label>"
            ]
          },
          "metadata": {}
        },
        {
          "output_type": "display_data",
          "data": {
            "text/plain": [
              "application_type\n",
              "1    0.98174\n",
              "0    0.01826\n",
              "Name: proportion, dtype: float64"
            ],
            "text/html": [
              "<div>\n",
              "<style scoped>\n",
              "    .dataframe tbody tr th:only-of-type {\n",
              "        vertical-align: middle;\n",
              "    }\n",
              "\n",
              "    .dataframe tbody tr th {\n",
              "        vertical-align: top;\n",
              "    }\n",
              "\n",
              "    .dataframe thead th {\n",
              "        text-align: right;\n",
              "    }\n",
              "</style>\n",
              "<table border=\"1\" class=\"dataframe\">\n",
              "  <thead>\n",
              "    <tr style=\"text-align: right;\">\n",
              "      <th></th>\n",
              "      <th>proportion</th>\n",
              "    </tr>\n",
              "    <tr>\n",
              "      <th>application_type</th>\n",
              "      <th></th>\n",
              "    </tr>\n",
              "  </thead>\n",
              "  <tbody>\n",
              "    <tr>\n",
              "      <th>1</th>\n",
              "      <td>0.98174</td>\n",
              "    </tr>\n",
              "    <tr>\n",
              "      <th>0</th>\n",
              "      <td>0.01826</td>\n",
              "    </tr>\n",
              "  </tbody>\n",
              "</table>\n",
              "</div><br><label><b>dtype:</b> float64</label>"
            ]
          },
          "metadata": {}
        }
      ],
      "source": [
        "#display class proportions\n",
        "#proporção das classes\n",
        "\n",
        "display(df_treino_models['application_type'].value_counts(normalize = True))\n",
        "display(df_teste_models['application_type'].value_counts(normalize = True))"
      ]
    },
    {
      "cell_type": "markdown",
      "metadata": {
        "id": "rlO84JcOAHVQ"
      },
      "source": [
        "###**verification_status_joint**"
      ]
    },
    {
      "cell_type": "code",
      "execution_count": null,
      "metadata": {
        "colab": {
          "base_uri": "https://localhost:8080/"
        },
        "outputId": "453f44cc-9550-4ca5-eb3a-d5b20c60cd39",
        "id": "WSRoRPtlAHVR"
      },
      "outputs": [
        {
          "output_type": "stream",
          "name": "stdout",
          "text": [
            "0.9807228020651487\n",
            "0.9817666666666667\n"
          ]
        }
      ],
      "source": [
        "#null proportion\n",
        "#proporção de nulos\n",
        "\n",
        "print(df_treino_models['verification_status_joint'].isnull().sum()/df_treino_models.shape[0])\n",
        "print(df_teste_models['verification_status_joint'].isnull().sum()/df_teste_models.shape[0])"
      ]
    },
    {
      "cell_type": "code",
      "source": [
        "#fill nulls by 0\n",
        "#substitui os nulos por 0\n",
        "\n",
        "df_treino_models['verification_status_joint'] = df_treino_models['verification_status_joint'].fillna(0)\n",
        "df_teste_models['verification_status_joint'] = df_teste_models['verification_status_joint'].fillna(0)"
      ],
      "metadata": {
        "id": "KwM1CsjjAeKX"
      },
      "execution_count": null,
      "outputs": []
    },
    {
      "cell_type": "code",
      "source": [
        "display(df_treino_models['verification_status_joint'].value_counts(normalize = True))\n",
        "display(df_teste_models['verification_status_joint'].value_counts(normalize = True))"
      ],
      "metadata": {
        "colab": {
          "base_uri": "https://localhost:8080/",
          "height": 465
        },
        "outputId": "da4d21dc-ebe7-4627-e6a2-9b0d498456c8",
        "id": "Y8eKWmhUAHVS"
      },
      "execution_count": null,
      "outputs": [
        {
          "output_type": "display_data",
          "data": {
            "text/plain": [
              "verification_status_joint\n",
              "0                  0.980723\n",
              "Not Verified       0.010934\n",
              "Source Verified    0.004737\n",
              "Verified           0.003606\n",
              "Name: proportion, dtype: float64"
            ],
            "text/html": [
              "<div>\n",
              "<style scoped>\n",
              "    .dataframe tbody tr th:only-of-type {\n",
              "        vertical-align: middle;\n",
              "    }\n",
              "\n",
              "    .dataframe tbody tr th {\n",
              "        vertical-align: top;\n",
              "    }\n",
              "\n",
              "    .dataframe thead th {\n",
              "        text-align: right;\n",
              "    }\n",
              "</style>\n",
              "<table border=\"1\" class=\"dataframe\">\n",
              "  <thead>\n",
              "    <tr style=\"text-align: right;\">\n",
              "      <th></th>\n",
              "      <th>proportion</th>\n",
              "    </tr>\n",
              "    <tr>\n",
              "      <th>verification_status_joint</th>\n",
              "      <th></th>\n",
              "    </tr>\n",
              "  </thead>\n",
              "  <tbody>\n",
              "    <tr>\n",
              "      <th>0</th>\n",
              "      <td>0.980723</td>\n",
              "    </tr>\n",
              "    <tr>\n",
              "      <th>Not Verified</th>\n",
              "      <td>0.010934</td>\n",
              "    </tr>\n",
              "    <tr>\n",
              "      <th>Source Verified</th>\n",
              "      <td>0.004737</td>\n",
              "    </tr>\n",
              "    <tr>\n",
              "      <th>Verified</th>\n",
              "      <td>0.003606</td>\n",
              "    </tr>\n",
              "  </tbody>\n",
              "</table>\n",
              "</div><br><label><b>dtype:</b> float64</label>"
            ]
          },
          "metadata": {}
        },
        {
          "output_type": "display_data",
          "data": {
            "text/plain": [
              "verification_status_joint\n",
              "0                  0.981767\n",
              "Not Verified       0.010260\n",
              "Source Verified    0.004400\n",
              "Verified           0.003573\n",
              "Name: proportion, dtype: float64"
            ],
            "text/html": [
              "<div>\n",
              "<style scoped>\n",
              "    .dataframe tbody tr th:only-of-type {\n",
              "        vertical-align: middle;\n",
              "    }\n",
              "\n",
              "    .dataframe tbody tr th {\n",
              "        vertical-align: top;\n",
              "    }\n",
              "\n",
              "    .dataframe thead th {\n",
              "        text-align: right;\n",
              "    }\n",
              "</style>\n",
              "<table border=\"1\" class=\"dataframe\">\n",
              "  <thead>\n",
              "    <tr style=\"text-align: right;\">\n",
              "      <th></th>\n",
              "      <th>proportion</th>\n",
              "    </tr>\n",
              "    <tr>\n",
              "      <th>verification_status_joint</th>\n",
              "      <th></th>\n",
              "    </tr>\n",
              "  </thead>\n",
              "  <tbody>\n",
              "    <tr>\n",
              "      <th>0</th>\n",
              "      <td>0.981767</td>\n",
              "    </tr>\n",
              "    <tr>\n",
              "      <th>Not Verified</th>\n",
              "      <td>0.010260</td>\n",
              "    </tr>\n",
              "    <tr>\n",
              "      <th>Source Verified</th>\n",
              "      <td>0.004400</td>\n",
              "    </tr>\n",
              "    <tr>\n",
              "      <th>Verified</th>\n",
              "      <td>0.003573</td>\n",
              "    </tr>\n",
              "  </tbody>\n",
              "</table>\n",
              "</div><br><label><b>dtype:</b> float64</label>"
            ]
          },
          "metadata": {}
        }
      ]
    },
    {
      "cell_type": "code",
      "source": [
        "#converts in number\n",
        "#converte em numérica\n",
        "\n",
        "def convert_verification_status_joint(x):\n",
        "\n",
        "  if x == 'Not Verified':         x = 1\n",
        "  elif x == 'Source Verified':    x = 2\n",
        "  elif x == 'Verified':           x = 3\n",
        "\n",
        "  return x"
      ],
      "metadata": {
        "id": "yPkZ1oN1AHVS"
      },
      "execution_count": null,
      "outputs": []
    },
    {
      "cell_type": "code",
      "source": [
        "#applies the functioon\n",
        "#aplica a função\n",
        "\n",
        "df_treino_models['verification_status_joint'] = df_treino_models['verification_status_joint'].apply(convert_verification_status_joint)\n",
        "df_teste_models['verification_status_joint'] = df_teste_models['verification_status_joint'].apply(convert_verification_status_joint)"
      ],
      "metadata": {
        "id": "P3S6j1PdCF0g"
      },
      "execution_count": null,
      "outputs": []
    },
    {
      "cell_type": "code",
      "source": [
        "display(df_treino_models['verification_status_joint'].value_counts(normalize = True))\n",
        "display(df_teste_models['verification_status_joint'].value_counts(normalize = True))"
      ],
      "metadata": {
        "colab": {
          "base_uri": "https://localhost:8080/",
          "height": 465
        },
        "outputId": "fb1b91b3-77b2-4177-86df-dbca4c1f8b6f",
        "id": "40nHB39gAHVT"
      },
      "execution_count": null,
      "outputs": [
        {
          "output_type": "display_data",
          "data": {
            "text/plain": [
              "verification_status_joint\n",
              "0    0.980723\n",
              "1    0.010934\n",
              "2    0.004737\n",
              "3    0.003606\n",
              "Name: proportion, dtype: float64"
            ],
            "text/html": [
              "<div>\n",
              "<style scoped>\n",
              "    .dataframe tbody tr th:only-of-type {\n",
              "        vertical-align: middle;\n",
              "    }\n",
              "\n",
              "    .dataframe tbody tr th {\n",
              "        vertical-align: top;\n",
              "    }\n",
              "\n",
              "    .dataframe thead th {\n",
              "        text-align: right;\n",
              "    }\n",
              "</style>\n",
              "<table border=\"1\" class=\"dataframe\">\n",
              "  <thead>\n",
              "    <tr style=\"text-align: right;\">\n",
              "      <th></th>\n",
              "      <th>proportion</th>\n",
              "    </tr>\n",
              "    <tr>\n",
              "      <th>verification_status_joint</th>\n",
              "      <th></th>\n",
              "    </tr>\n",
              "  </thead>\n",
              "  <tbody>\n",
              "    <tr>\n",
              "      <th>0</th>\n",
              "      <td>0.980723</td>\n",
              "    </tr>\n",
              "    <tr>\n",
              "      <th>1</th>\n",
              "      <td>0.010934</td>\n",
              "    </tr>\n",
              "    <tr>\n",
              "      <th>2</th>\n",
              "      <td>0.004737</td>\n",
              "    </tr>\n",
              "    <tr>\n",
              "      <th>3</th>\n",
              "      <td>0.003606</td>\n",
              "    </tr>\n",
              "  </tbody>\n",
              "</table>\n",
              "</div><br><label><b>dtype:</b> float64</label>"
            ]
          },
          "metadata": {}
        },
        {
          "output_type": "display_data",
          "data": {
            "text/plain": [
              "verification_status_joint\n",
              "0    0.981767\n",
              "1    0.010260\n",
              "2    0.004400\n",
              "3    0.003573\n",
              "Name: proportion, dtype: float64"
            ],
            "text/html": [
              "<div>\n",
              "<style scoped>\n",
              "    .dataframe tbody tr th:only-of-type {\n",
              "        vertical-align: middle;\n",
              "    }\n",
              "\n",
              "    .dataframe tbody tr th {\n",
              "        vertical-align: top;\n",
              "    }\n",
              "\n",
              "    .dataframe thead th {\n",
              "        text-align: right;\n",
              "    }\n",
              "</style>\n",
              "<table border=\"1\" class=\"dataframe\">\n",
              "  <thead>\n",
              "    <tr style=\"text-align: right;\">\n",
              "      <th></th>\n",
              "      <th>proportion</th>\n",
              "    </tr>\n",
              "    <tr>\n",
              "      <th>verification_status_joint</th>\n",
              "      <th></th>\n",
              "    </tr>\n",
              "  </thead>\n",
              "  <tbody>\n",
              "    <tr>\n",
              "      <th>0</th>\n",
              "      <td>0.981767</td>\n",
              "    </tr>\n",
              "    <tr>\n",
              "      <th>1</th>\n",
              "      <td>0.010260</td>\n",
              "    </tr>\n",
              "    <tr>\n",
              "      <th>2</th>\n",
              "      <td>0.004400</td>\n",
              "    </tr>\n",
              "    <tr>\n",
              "      <th>3</th>\n",
              "      <td>0.003573</td>\n",
              "    </tr>\n",
              "  </tbody>\n",
              "</table>\n",
              "</div><br><label><b>dtype:</b> float64</label>"
            ]
          },
          "metadata": {}
        }
      ]
    },
    {
      "cell_type": "markdown",
      "source": [
        "###**hardship_flag**"
      ],
      "metadata": {
        "id": "2_OfmxjDDh5m"
      }
    },
    {
      "cell_type": "code",
      "source": [
        "#null proportion\n",
        "#proporção de nulos\n",
        "\n",
        "print(df_treino_models['hardship_flag'].isnull().sum()/df_treino_models.shape[0])\n",
        "print(df_teste_models['hardship_flag'].isnull().sum()/df_teste_models.shape[0])"
      ],
      "metadata": {
        "colab": {
          "base_uri": "https://localhost:8080/"
        },
        "outputId": "6115acff-9200-4d39-d957-a1d11f55a5a2",
        "id": "DldDq22QDh5n"
      },
      "execution_count": null,
      "outputs": [
        {
          "output_type": "stream",
          "name": "stdout",
          "text": [
            "0.0\n",
            "0.0\n"
          ]
        }
      ]
    },
    {
      "cell_type": "code",
      "source": [
        "display(df_treino_models['hardship_flag'].value_counts(normalize = True))\n",
        "display(df_teste_models['hardship_flag'].value_counts(normalize = True))"
      ],
      "metadata": {
        "colab": {
          "base_uri": "https://localhost:8080/",
          "height": 309
        },
        "outputId": "9f934589-9d14-4626-a555-fe2908c87706",
        "id": "IQ907A8fDh5n"
      },
      "execution_count": null,
      "outputs": [
        {
          "output_type": "display_data",
          "data": {
            "text/plain": [
              "hardship_flag\n",
              "N    0.999997\n",
              "Y    0.000003\n",
              "Name: proportion, dtype: float64"
            ],
            "text/html": [
              "<div>\n",
              "<style scoped>\n",
              "    .dataframe tbody tr th:only-of-type {\n",
              "        vertical-align: middle;\n",
              "    }\n",
              "\n",
              "    .dataframe tbody tr th {\n",
              "        vertical-align: top;\n",
              "    }\n",
              "\n",
              "    .dataframe thead th {\n",
              "        text-align: right;\n",
              "    }\n",
              "</style>\n",
              "<table border=\"1\" class=\"dataframe\">\n",
              "  <thead>\n",
              "    <tr style=\"text-align: right;\">\n",
              "      <th></th>\n",
              "      <th>proportion</th>\n",
              "    </tr>\n",
              "    <tr>\n",
              "      <th>hardship_flag</th>\n",
              "      <th></th>\n",
              "    </tr>\n",
              "  </thead>\n",
              "  <tbody>\n",
              "    <tr>\n",
              "      <th>N</th>\n",
              "      <td>0.999997</td>\n",
              "    </tr>\n",
              "    <tr>\n",
              "      <th>Y</th>\n",
              "      <td>0.000003</td>\n",
              "    </tr>\n",
              "  </tbody>\n",
              "</table>\n",
              "</div><br><label><b>dtype:</b> float64</label>"
            ]
          },
          "metadata": {}
        },
        {
          "output_type": "display_data",
          "data": {
            "text/plain": [
              "hardship_flag\n",
              "N    1.0\n",
              "Name: proportion, dtype: float64"
            ],
            "text/html": [
              "<div>\n",
              "<style scoped>\n",
              "    .dataframe tbody tr th:only-of-type {\n",
              "        vertical-align: middle;\n",
              "    }\n",
              "\n",
              "    .dataframe tbody tr th {\n",
              "        vertical-align: top;\n",
              "    }\n",
              "\n",
              "    .dataframe thead th {\n",
              "        text-align: right;\n",
              "    }\n",
              "</style>\n",
              "<table border=\"1\" class=\"dataframe\">\n",
              "  <thead>\n",
              "    <tr style=\"text-align: right;\">\n",
              "      <th></th>\n",
              "      <th>proportion</th>\n",
              "    </tr>\n",
              "    <tr>\n",
              "      <th>hardship_flag</th>\n",
              "      <th></th>\n",
              "    </tr>\n",
              "  </thead>\n",
              "  <tbody>\n",
              "    <tr>\n",
              "      <th>N</th>\n",
              "      <td>1.0</td>\n",
              "    </tr>\n",
              "  </tbody>\n",
              "</table>\n",
              "</div><br><label><b>dtype:</b> float64</label>"
            ]
          },
          "metadata": {}
        }
      ]
    },
    {
      "cell_type": "code",
      "source": [
        "#there no data varition in this variable, os we will exclude it because it wont useful for models\n",
        "#não há variação de data nessa coluna, então podemos descarta-la pois não será útil ao modelo\n",
        "\n",
        "df_treino_models = df_treino_models.drop(columns = ['hardship_flag'], axis = 1)\n",
        "df_teste_models = df_teste_models.drop(columns = ['hardship_flag'], axis = 1)"
      ],
      "metadata": {
        "id": "_qy9jEwrDh5n"
      },
      "execution_count": null,
      "outputs": []
    },
    {
      "cell_type": "markdown",
      "source": [
        "###**hardship_type**"
      ],
      "metadata": {
        "id": "Voxm9FkBFqM0"
      }
    },
    {
      "cell_type": "code",
      "source": [
        "#null proportion\n",
        "#proporção de nulos\n",
        "\n",
        "print(df_treino_models['hardship_type'].isnull().sum()/df_treino_models.shape[0])\n",
        "print(df_teste_models['hardship_type'].isnull().sum()/df_teste_models.shape[0])"
      ],
      "metadata": {
        "colab": {
          "base_uri": "https://localhost:8080/"
        },
        "outputId": "0cce8bcf-2208-43cc-9db4-4f07bb821e5e",
        "id": "CQDw6-mQFqM0"
      },
      "execution_count": null,
      "outputs": [
        {
          "output_type": "stream",
          "name": "stdout",
          "text": [
            "0.9917999765713617\n",
            "0.9922\n"
          ]
        }
      ]
    },
    {
      "cell_type": "code",
      "source": [
        "#there no data  in this variable, os we will exclude it because it wont useful for models\n",
        "#não há dados nessa coluna, então podemos descarta-la pois não será útil ao modelo\n",
        "\n",
        "df_treino_models = df_treino_models.drop(columns = ['hardship_type'], axis = 1)\n",
        "df_teste_models = df_teste_models.drop(columns = ['hardship_type'], axis = 1)"
      ],
      "metadata": {
        "id": "ip9BY085FqM0"
      },
      "execution_count": null,
      "outputs": []
    },
    {
      "cell_type": "markdown",
      "source": [
        "###**hardship_reason**"
      ],
      "metadata": {
        "id": "nSrlnysWGYmI"
      }
    },
    {
      "cell_type": "code",
      "source": [
        "#null proportion\n",
        "#proporção de nulos\n",
        "\n",
        "print(df_treino_models['hardship_reason'].isnull().sum()/df_treino_models.shape[0])\n",
        "print(df_teste_models['hardship_reason'].isnull().sum()/df_teste_models.shape[0])"
      ],
      "metadata": {
        "colab": {
          "base_uri": "https://localhost:8080/"
        },
        "outputId": "56b7796d-499f-4e36-988e-e0194703faa7",
        "id": "-WsvFE43GYmI"
      },
      "execution_count": null,
      "outputs": [
        {
          "output_type": "stream",
          "name": "stdout",
          "text": [
            "0.9917999765713617\n",
            "0.9922\n"
          ]
        }
      ]
    },
    {
      "cell_type": "code",
      "source": [
        "#there no data  in this variable, os we will exclude it because it wont useful for models\n",
        "#não há dados nessa coluna, então podemos descarta-la pois não será útil ao modelo\n",
        "\n",
        "df_treino_models = df_treino_models.drop(columns = ['hardship_reason'], axis = 1)\n",
        "df_teste_models = df_teste_models.drop(columns = ['hardship_reason'], axis = 1)"
      ],
      "metadata": {
        "id": "4l7UVj10HbM8"
      },
      "execution_count": null,
      "outputs": []
    },
    {
      "cell_type": "markdown",
      "source": [
        "###**hardship_status**"
      ],
      "metadata": {
        "id": "fEcCapryIn1k"
      }
    },
    {
      "cell_type": "code",
      "source": [
        "#null proportion\n",
        "#proporção de nulos\n",
        "\n",
        "print(df_treino_models['hardship_status'].isnull().sum()/df_treino_models.shape[0])\n",
        "print(df_teste_models['hardship_status'].isnull().sum()/df_teste_models.shape[0])"
      ],
      "metadata": {
        "colab": {
          "base_uri": "https://localhost:8080/"
        },
        "outputId": "c1c37d23-3fea-498b-8642-2701ac4361cd",
        "id": "bJYI-8sEIn1l"
      },
      "execution_count": null,
      "outputs": [
        {
          "output_type": "stream",
          "name": "stdout",
          "text": [
            "0.9917999765713617\n",
            "0.9922\n"
          ]
        }
      ]
    },
    {
      "cell_type": "code",
      "source": [
        "#there no data  in this variable, os we will exclude it because it wont useful for models\n",
        "#não há dados nessa coluna, então podemos descarta-la pois não será útil ao modelo\n",
        "\n",
        "df_treino_models = df_treino_models.drop(columns = ['hardship_status'], axis = 1)\n",
        "df_teste_models = df_teste_models.drop(columns = ['hardship_status'], axis = 1)\n"
      ],
      "metadata": {
        "id": "bxIaPOh0In1m"
      },
      "execution_count": null,
      "outputs": []
    },
    {
      "cell_type": "markdown",
      "source": [
        "###**hardship_loan_status**"
      ],
      "metadata": {
        "id": "TJk8hipNJnJh"
      }
    },
    {
      "cell_type": "code",
      "source": [
        "#null proportion\n",
        "#proporção de nulos\n",
        "\n",
        "print(df_treino_models['hardship_loan_status'].isnull().sum()/df_treino_models.shape[0])\n",
        "print(df_teste_models['hardship_loan_status'].isnull().sum()/df_teste_models.shape[0])"
      ],
      "metadata": {
        "colab": {
          "base_uri": "https://localhost:8080/"
        },
        "outputId": "d8c83b7d-da58-4967-efc4-317268b69974",
        "id": "lP4dFeGPJnJi"
      },
      "execution_count": null,
      "outputs": [
        {
          "output_type": "stream",
          "name": "stdout",
          "text": [
            "0.9917999765713617\n",
            "0.9922\n"
          ]
        }
      ]
    },
    {
      "cell_type": "code",
      "source": [
        "#there no data  in this variable, os we will exclude it because it wont useful for models\n",
        "#não há dados nessa coluna, então podemos descarta-la pois não será útil ao modelo\n",
        "\n",
        "df_treino_models = df_treino_models.drop(columns = ['hardship_loan_status'], axis = 1)\n",
        "df_teste_models = df_teste_models.drop(columns = ['hardship_loan_status'], axis = 1)\n"
      ],
      "metadata": {
        "id": "LJrTAO4OJnJi"
      },
      "execution_count": null,
      "outputs": []
    },
    {
      "cell_type": "markdown",
      "source": [
        "###**disbursement_method**"
      ],
      "metadata": {
        "id": "LHipCBz-Kh7Z"
      }
    },
    {
      "cell_type": "code",
      "source": [
        "#null proportion\n",
        "#proporção de nulos\n",
        "\n",
        "print(df_treino_models['disbursement_method'].isnull().sum()/df_treino_models.shape[0])\n",
        "print(df_teste_models['disbursement_method'].isnull().sum()/df_teste_models.shape[0])"
      ],
      "metadata": {
        "colab": {
          "base_uri": "https://localhost:8080/"
        },
        "outputId": "67e06fa7-ed21-4248-fbdf-06c7a81e130a",
        "id": "RGMVdvNSKh7a"
      },
      "execution_count": null,
      "outputs": [
        {
          "output_type": "stream",
          "name": "stdout",
          "text": [
            "0.0\n",
            "0.0\n"
          ]
        }
      ]
    },
    {
      "cell_type": "code",
      "source": [
        "display(df_treino_models['disbursement_method'].value_counts(normalize = True))\n",
        "display(df_teste_models['disbursement_method'].value_counts( normalize = True))"
      ],
      "metadata": {
        "colab": {
          "base_uri": "https://localhost:8080/",
          "height": 340
        },
        "outputId": "81c32c2d-380f-45e3-8a09-64f8c4ccc6dc",
        "id": "f1Wv5XZjKh7a"
      },
      "execution_count": null,
      "outputs": [
        {
          "output_type": "display_data",
          "data": {
            "text/plain": [
              "disbursement_method\n",
              "Cash         0.995414\n",
              "DirectPay    0.004586\n",
              "Name: proportion, dtype: float64"
            ],
            "text/html": [
              "<div>\n",
              "<style scoped>\n",
              "    .dataframe tbody tr th:only-of-type {\n",
              "        vertical-align: middle;\n",
              "    }\n",
              "\n",
              "    .dataframe tbody tr th {\n",
              "        vertical-align: top;\n",
              "    }\n",
              "\n",
              "    .dataframe thead th {\n",
              "        text-align: right;\n",
              "    }\n",
              "</style>\n",
              "<table border=\"1\" class=\"dataframe\">\n",
              "  <thead>\n",
              "    <tr style=\"text-align: right;\">\n",
              "      <th></th>\n",
              "      <th>proportion</th>\n",
              "    </tr>\n",
              "    <tr>\n",
              "      <th>disbursement_method</th>\n",
              "      <th></th>\n",
              "    </tr>\n",
              "  </thead>\n",
              "  <tbody>\n",
              "    <tr>\n",
              "      <th>Cash</th>\n",
              "      <td>0.995414</td>\n",
              "    </tr>\n",
              "    <tr>\n",
              "      <th>DirectPay</th>\n",
              "      <td>0.004586</td>\n",
              "    </tr>\n",
              "  </tbody>\n",
              "</table>\n",
              "</div><br><label><b>dtype:</b> float64</label>"
            ]
          },
          "metadata": {}
        },
        {
          "output_type": "display_data",
          "data": {
            "text/plain": [
              "disbursement_method\n",
              "Cash         0.996627\n",
              "DirectPay    0.003373\n",
              "Name: proportion, dtype: float64"
            ],
            "text/html": [
              "<div>\n",
              "<style scoped>\n",
              "    .dataframe tbody tr th:only-of-type {\n",
              "        vertical-align: middle;\n",
              "    }\n",
              "\n",
              "    .dataframe tbody tr th {\n",
              "        vertical-align: top;\n",
              "    }\n",
              "\n",
              "    .dataframe thead th {\n",
              "        text-align: right;\n",
              "    }\n",
              "</style>\n",
              "<table border=\"1\" class=\"dataframe\">\n",
              "  <thead>\n",
              "    <tr style=\"text-align: right;\">\n",
              "      <th></th>\n",
              "      <th>proportion</th>\n",
              "    </tr>\n",
              "    <tr>\n",
              "      <th>disbursement_method</th>\n",
              "      <th></th>\n",
              "    </tr>\n",
              "  </thead>\n",
              "  <tbody>\n",
              "    <tr>\n",
              "      <th>Cash</th>\n",
              "      <td>0.996627</td>\n",
              "    </tr>\n",
              "    <tr>\n",
              "      <th>DirectPay</th>\n",
              "      <td>0.003373</td>\n",
              "    </tr>\n",
              "  </tbody>\n",
              "</table>\n",
              "</div><br><label><b>dtype:</b> float64</label>"
            ]
          },
          "metadata": {}
        }
      ]
    },
    {
      "cell_type": "code",
      "source": [
        "#transform flag to binary\n",
        "#transforma flag pra binário\n",
        "\n",
        "df_treino_models['disbursement_method'] = df_treino_models['disbursement_method'].apply(lambda x: 1 if x == 'Cash' else 0)\n",
        "df_teste_models['disbursement_method'] = df_teste_models['disbursement_method'].apply(lambda x: 1 if x == 'Cash' else 0)"
      ],
      "metadata": {
        "id": "BZlFx2cUKh7b"
      },
      "execution_count": null,
      "outputs": []
    },
    {
      "cell_type": "code",
      "source": [
        "display(df_treino_models['disbursement_method'].value_counts(normalize = True))\n",
        "display(df_teste_models['disbursement_method'].value_counts( normalize = True))"
      ],
      "metadata": {
        "colab": {
          "base_uri": "https://localhost:8080/",
          "height": 340
        },
        "outputId": "c4398e07-9f8b-4adb-ed56-15db3e08560d",
        "id": "447g6336Kh7c"
      },
      "execution_count": null,
      "outputs": [
        {
          "output_type": "display_data",
          "data": {
            "text/plain": [
              "disbursement_method\n",
              "1    0.995414\n",
              "0    0.004586\n",
              "Name: proportion, dtype: float64"
            ],
            "text/html": [
              "<div>\n",
              "<style scoped>\n",
              "    .dataframe tbody tr th:only-of-type {\n",
              "        vertical-align: middle;\n",
              "    }\n",
              "\n",
              "    .dataframe tbody tr th {\n",
              "        vertical-align: top;\n",
              "    }\n",
              "\n",
              "    .dataframe thead th {\n",
              "        text-align: right;\n",
              "    }\n",
              "</style>\n",
              "<table border=\"1\" class=\"dataframe\">\n",
              "  <thead>\n",
              "    <tr style=\"text-align: right;\">\n",
              "      <th></th>\n",
              "      <th>proportion</th>\n",
              "    </tr>\n",
              "    <tr>\n",
              "      <th>disbursement_method</th>\n",
              "      <th></th>\n",
              "    </tr>\n",
              "  </thead>\n",
              "  <tbody>\n",
              "    <tr>\n",
              "      <th>1</th>\n",
              "      <td>0.995414</td>\n",
              "    </tr>\n",
              "    <tr>\n",
              "      <th>0</th>\n",
              "      <td>0.004586</td>\n",
              "    </tr>\n",
              "  </tbody>\n",
              "</table>\n",
              "</div><br><label><b>dtype:</b> float64</label>"
            ]
          },
          "metadata": {}
        },
        {
          "output_type": "display_data",
          "data": {
            "text/plain": [
              "disbursement_method\n",
              "1    0.996627\n",
              "0    0.003373\n",
              "Name: proportion, dtype: float64"
            ],
            "text/html": [
              "<div>\n",
              "<style scoped>\n",
              "    .dataframe tbody tr th:only-of-type {\n",
              "        vertical-align: middle;\n",
              "    }\n",
              "\n",
              "    .dataframe tbody tr th {\n",
              "        vertical-align: top;\n",
              "    }\n",
              "\n",
              "    .dataframe thead th {\n",
              "        text-align: right;\n",
              "    }\n",
              "</style>\n",
              "<table border=\"1\" class=\"dataframe\">\n",
              "  <thead>\n",
              "    <tr style=\"text-align: right;\">\n",
              "      <th></th>\n",
              "      <th>proportion</th>\n",
              "    </tr>\n",
              "    <tr>\n",
              "      <th>disbursement_method</th>\n",
              "      <th></th>\n",
              "    </tr>\n",
              "  </thead>\n",
              "  <tbody>\n",
              "    <tr>\n",
              "      <th>1</th>\n",
              "      <td>0.996627</td>\n",
              "    </tr>\n",
              "    <tr>\n",
              "      <th>0</th>\n",
              "      <td>0.003373</td>\n",
              "    </tr>\n",
              "  </tbody>\n",
              "</table>\n",
              "</div><br><label><b>dtype:</b> float64</label>"
            ]
          },
          "metadata": {}
        }
      ]
    },
    {
      "cell_type": "markdown",
      "source": [
        "###**debt_settlement_flag**"
      ],
      "metadata": {
        "id": "UvV6PXusL3GO"
      }
    },
    {
      "cell_type": "code",
      "source": [
        "#null proportion\n",
        "#proporção de nulos\n",
        "\n",
        "print(df_treino_models['debt_settlement_flag'].isnull().sum()/df_treino_models.shape[0])\n",
        "print(df_teste_models['debt_settlement_flag'].isnull().sum()/df_teste_models.shape[0])"
      ],
      "metadata": {
        "colab": {
          "base_uri": "https://localhost:8080/"
        },
        "outputId": "cbee51de-5926-4ce6-aafd-77feaa6de958",
        "id": "nMAUyiYRL3GP"
      },
      "execution_count": null,
      "outputs": [
        {
          "output_type": "stream",
          "name": "stdout",
          "text": [
            "0.0\n",
            "0.0\n"
          ]
        }
      ]
    },
    {
      "cell_type": "code",
      "source": [
        "df_treino_models['debt_settlement_flag'].value_counts()\n",
        "df_teste_models['debt_settlement_flag'].value_counts()"
      ],
      "metadata": {
        "colab": {
          "base_uri": "https://localhost:8080/",
          "height": 178
        },
        "outputId": "284f408e-139e-40b5-cc38-9fa0e347699c",
        "id": "fu2SbedDL3GP"
      },
      "execution_count": null,
      "outputs": [
        {
          "output_type": "execute_result",
          "data": {
            "text/plain": [
              "debt_settlement_flag\n",
              "N    140718\n",
              "Y      9282\n",
              "Name: count, dtype: int64"
            ],
            "text/html": [
              "<div>\n",
              "<style scoped>\n",
              "    .dataframe tbody tr th:only-of-type {\n",
              "        vertical-align: middle;\n",
              "    }\n",
              "\n",
              "    .dataframe tbody tr th {\n",
              "        vertical-align: top;\n",
              "    }\n",
              "\n",
              "    .dataframe thead th {\n",
              "        text-align: right;\n",
              "    }\n",
              "</style>\n",
              "<table border=\"1\" class=\"dataframe\">\n",
              "  <thead>\n",
              "    <tr style=\"text-align: right;\">\n",
              "      <th></th>\n",
              "      <th>count</th>\n",
              "    </tr>\n",
              "    <tr>\n",
              "      <th>debt_settlement_flag</th>\n",
              "      <th></th>\n",
              "    </tr>\n",
              "  </thead>\n",
              "  <tbody>\n",
              "    <tr>\n",
              "      <th>N</th>\n",
              "      <td>140718</td>\n",
              "    </tr>\n",
              "    <tr>\n",
              "      <th>Y</th>\n",
              "      <td>9282</td>\n",
              "    </tr>\n",
              "  </tbody>\n",
              "</table>\n",
              "</div><br><label><b>dtype:</b> int64</label>"
            ]
          },
          "metadata": {},
          "execution_count": 84
        }
      ]
    },
    {
      "cell_type": "code",
      "source": [
        "#transform flag to binary\n",
        "#transforma flag pra binário\n",
        "\n",
        "df_treino_models['debt_settlement_flag'] = df_treino_models['debt_settlement_flag'].apply(lambda x: 1 if x == 'Y' else 0)\n",
        "df_teste_models['debt_settlement_flag'] = df_teste_models['debt_settlement_flag'].apply(lambda x: 1 if x == 'Y' else 0)"
      ],
      "metadata": {
        "id": "f4ySMzOrL3GP"
      },
      "execution_count": null,
      "outputs": []
    },
    {
      "cell_type": "markdown",
      "source": [
        "###**settlement_status**"
      ],
      "metadata": {
        "id": "BiH9_3oHMxHH"
      }
    },
    {
      "cell_type": "code",
      "source": [
        "#null proportion\n",
        "#proporção de nulos\n",
        "\n",
        "print(df_treino_models['settlement_status'].isnull().sum()/df_treino_models.shape[0])\n",
        "print(df_teste_models['settlement_status'].isnull().sum()/df_teste_models.shape[0])"
      ],
      "metadata": {
        "colab": {
          "base_uri": "https://localhost:8080/"
        },
        "outputId": "b89c8dee-38be-4963-ba70-10f577bfcb13",
        "id": "LGQBh8QXMxHH"
      },
      "execution_count": null,
      "outputs": [
        {
          "output_type": "stream",
          "name": "stdout",
          "text": [
            "0.9393741124974643\n",
            "0.93812\n"
          ]
        }
      ]
    },
    {
      "cell_type": "code",
      "source": [
        "#fill nulls by 0\n",
        "#substitui nulos por 0\n",
        "\n",
        "df_treino_models['settlement_status'] = df_treino_models['settlement_status'].fillna(0)\n",
        "df_teste_models['settlement_status'] = df_teste_models['settlement_status'].fillna(0)"
      ],
      "metadata": {
        "id": "sUuLbOE1MxHH"
      },
      "execution_count": null,
      "outputs": []
    },
    {
      "cell_type": "code",
      "source": [
        "display(df_treino_models['settlement_status'].value_counts(normalize = True))\n",
        "display(df_teste_models['settlement_status'].value_counts(normalize = True))"
      ],
      "metadata": {
        "colab": {
          "base_uri": "https://localhost:8080/",
          "height": 465
        },
        "outputId": "2605c2e4-ddbc-418f-feb5-bd566f5bc9f4",
        "id": "HyeXaczAMxHI"
      },
      "execution_count": null,
      "outputs": [
        {
          "output_type": "display_data",
          "data": {
            "text/plain": [
              "settlement_status\n",
              "0           0.939374\n",
              "ACTIVE      0.026123\n",
              "COMPLETE    0.025554\n",
              "BROKEN      0.008949\n",
              "Name: proportion, dtype: float64"
            ],
            "text/html": [
              "<div>\n",
              "<style scoped>\n",
              "    .dataframe tbody tr th:only-of-type {\n",
              "        vertical-align: middle;\n",
              "    }\n",
              "\n",
              "    .dataframe tbody tr th {\n",
              "        vertical-align: top;\n",
              "    }\n",
              "\n",
              "    .dataframe thead th {\n",
              "        text-align: right;\n",
              "    }\n",
              "</style>\n",
              "<table border=\"1\" class=\"dataframe\">\n",
              "  <thead>\n",
              "    <tr style=\"text-align: right;\">\n",
              "      <th></th>\n",
              "      <th>proportion</th>\n",
              "    </tr>\n",
              "    <tr>\n",
              "      <th>settlement_status</th>\n",
              "      <th></th>\n",
              "    </tr>\n",
              "  </thead>\n",
              "  <tbody>\n",
              "    <tr>\n",
              "      <th>0</th>\n",
              "      <td>0.939374</td>\n",
              "    </tr>\n",
              "    <tr>\n",
              "      <th>ACTIVE</th>\n",
              "      <td>0.026123</td>\n",
              "    </tr>\n",
              "    <tr>\n",
              "      <th>COMPLETE</th>\n",
              "      <td>0.025554</td>\n",
              "    </tr>\n",
              "    <tr>\n",
              "      <th>BROKEN</th>\n",
              "      <td>0.008949</td>\n",
              "    </tr>\n",
              "  </tbody>\n",
              "</table>\n",
              "</div><br><label><b>dtype:</b> float64</label>"
            ]
          },
          "metadata": {}
        },
        {
          "output_type": "display_data",
          "data": {
            "text/plain": [
              "settlement_status\n",
              "0           0.938120\n",
              "COMPLETE    0.026413\n",
              "ACTIVE      0.026353\n",
              "BROKEN      0.009113\n",
              "Name: proportion, dtype: float64"
            ],
            "text/html": [
              "<div>\n",
              "<style scoped>\n",
              "    .dataframe tbody tr th:only-of-type {\n",
              "        vertical-align: middle;\n",
              "    }\n",
              "\n",
              "    .dataframe tbody tr th {\n",
              "        vertical-align: top;\n",
              "    }\n",
              "\n",
              "    .dataframe thead th {\n",
              "        text-align: right;\n",
              "    }\n",
              "</style>\n",
              "<table border=\"1\" class=\"dataframe\">\n",
              "  <thead>\n",
              "    <tr style=\"text-align: right;\">\n",
              "      <th></th>\n",
              "      <th>proportion</th>\n",
              "    </tr>\n",
              "    <tr>\n",
              "      <th>settlement_status</th>\n",
              "      <th></th>\n",
              "    </tr>\n",
              "  </thead>\n",
              "  <tbody>\n",
              "    <tr>\n",
              "      <th>0</th>\n",
              "      <td>0.938120</td>\n",
              "    </tr>\n",
              "    <tr>\n",
              "      <th>COMPLETE</th>\n",
              "      <td>0.026413</td>\n",
              "    </tr>\n",
              "    <tr>\n",
              "      <th>ACTIVE</th>\n",
              "      <td>0.026353</td>\n",
              "    </tr>\n",
              "    <tr>\n",
              "      <th>BROKEN</th>\n",
              "      <td>0.009113</td>\n",
              "    </tr>\n",
              "  </tbody>\n",
              "</table>\n",
              "</div><br><label><b>dtype:</b> float64</label>"
            ]
          },
          "metadata": {}
        }
      ]
    },
    {
      "cell_type": "code",
      "source": [
        "#function to converts in number\n",
        "#função para converter para número\n",
        "\n",
        "def convert_settlement_status(x):\n",
        "\n",
        "  if x == 'ACTIVE':              x = 1\n",
        "  elif x == 'COMPLETE':          x = 2\n",
        "  elif x == 'BROKEN':            x = 3\n",
        "\n",
        "  return x"
      ],
      "metadata": {
        "id": "gJiyoGdYMxHI"
      },
      "execution_count": null,
      "outputs": []
    },
    {
      "cell_type": "code",
      "source": [
        "#apply the function\n",
        "#aplica a função\n",
        "\n",
        "df_treino_models['settlement_status'] = df_treino_models['settlement_status'].apply(convert_settlement_status)\n",
        "df_teste_models['settlement_status'] = df_teste_models['settlement_status'].apply(convert_settlement_status)"
      ],
      "metadata": {
        "id": "mKrKoyiGOhvc"
      },
      "execution_count": null,
      "outputs": []
    },
    {
      "cell_type": "code",
      "source": [
        "display(df_treino_models['settlement_status'].value_counts(normalize = True))\n",
        "display(df_teste_models['settlement_status'].value_counts(normalize = True))"
      ],
      "metadata": {
        "colab": {
          "base_uri": "https://localhost:8080/",
          "height": 465
        },
        "outputId": "ca3c3e29-b9ba-46b6-cd35-86ce0014ac36",
        "id": "YIVxFLLuMxHI"
      },
      "execution_count": null,
      "outputs": [
        {
          "output_type": "display_data",
          "data": {
            "text/plain": [
              "settlement_status\n",
              "0    0.939374\n",
              "1    0.026123\n",
              "2    0.025554\n",
              "3    0.008949\n",
              "Name: proportion, dtype: float64"
            ],
            "text/html": [
              "<div>\n",
              "<style scoped>\n",
              "    .dataframe tbody tr th:only-of-type {\n",
              "        vertical-align: middle;\n",
              "    }\n",
              "\n",
              "    .dataframe tbody tr th {\n",
              "        vertical-align: top;\n",
              "    }\n",
              "\n",
              "    .dataframe thead th {\n",
              "        text-align: right;\n",
              "    }\n",
              "</style>\n",
              "<table border=\"1\" class=\"dataframe\">\n",
              "  <thead>\n",
              "    <tr style=\"text-align: right;\">\n",
              "      <th></th>\n",
              "      <th>proportion</th>\n",
              "    </tr>\n",
              "    <tr>\n",
              "      <th>settlement_status</th>\n",
              "      <th></th>\n",
              "    </tr>\n",
              "  </thead>\n",
              "  <tbody>\n",
              "    <tr>\n",
              "      <th>0</th>\n",
              "      <td>0.939374</td>\n",
              "    </tr>\n",
              "    <tr>\n",
              "      <th>1</th>\n",
              "      <td>0.026123</td>\n",
              "    </tr>\n",
              "    <tr>\n",
              "      <th>2</th>\n",
              "      <td>0.025554</td>\n",
              "    </tr>\n",
              "    <tr>\n",
              "      <th>3</th>\n",
              "      <td>0.008949</td>\n",
              "    </tr>\n",
              "  </tbody>\n",
              "</table>\n",
              "</div><br><label><b>dtype:</b> float64</label>"
            ]
          },
          "metadata": {}
        },
        {
          "output_type": "display_data",
          "data": {
            "text/plain": [
              "settlement_status\n",
              "0    0.938120\n",
              "2    0.026413\n",
              "1    0.026353\n",
              "3    0.009113\n",
              "Name: proportion, dtype: float64"
            ],
            "text/html": [
              "<div>\n",
              "<style scoped>\n",
              "    .dataframe tbody tr th:only-of-type {\n",
              "        vertical-align: middle;\n",
              "    }\n",
              "\n",
              "    .dataframe tbody tr th {\n",
              "        vertical-align: top;\n",
              "    }\n",
              "\n",
              "    .dataframe thead th {\n",
              "        text-align: right;\n",
              "    }\n",
              "</style>\n",
              "<table border=\"1\" class=\"dataframe\">\n",
              "  <thead>\n",
              "    <tr style=\"text-align: right;\">\n",
              "      <th></th>\n",
              "      <th>proportion</th>\n",
              "    </tr>\n",
              "    <tr>\n",
              "      <th>settlement_status</th>\n",
              "      <th></th>\n",
              "    </tr>\n",
              "  </thead>\n",
              "  <tbody>\n",
              "    <tr>\n",
              "      <th>0</th>\n",
              "      <td>0.938120</td>\n",
              "    </tr>\n",
              "    <tr>\n",
              "      <th>2</th>\n",
              "      <td>0.026413</td>\n",
              "    </tr>\n",
              "    <tr>\n",
              "      <th>1</th>\n",
              "      <td>0.026353</td>\n",
              "    </tr>\n",
              "    <tr>\n",
              "      <th>3</th>\n",
              "      <td>0.009113</td>\n",
              "    </tr>\n",
              "  </tbody>\n",
              "</table>\n",
              "</div><br><label><b>dtype:</b> float64</label>"
            ]
          },
          "metadata": {}
        }
      ]
    },
    {
      "cell_type": "markdown",
      "metadata": {
        "id": "Wu-ZnBfXBbdl"
      },
      "source": [
        "###**payment_plan_start_date**"
      ]
    },
    {
      "cell_type": "code",
      "source": [
        "#null proportion\n",
        "#proporção de nulos\n",
        "\n",
        "print(df_treino_models['payment_plan_start_date'].isnull().sum()/df_treino_models.shape[0])\n",
        "print(df_teste_models['payment_plan_start_date'].isnull().sum()/df_teste_models.shape[0])"
      ],
      "metadata": {
        "colab": {
          "base_uri": "https://localhost:8080/"
        },
        "id": "B1uqWSN7VzCo",
        "outputId": "b3481246-d3db-4c40-85f6-f10eef90b8e1"
      },
      "execution_count": null,
      "outputs": [
        {
          "output_type": "stream",
          "name": "stdout",
          "text": [
            "0.9917999765713617\n",
            "0.9922\n"
          ]
        }
      ]
    },
    {
      "cell_type": "code",
      "source": [
        "#there no data  in this variable, os we will exclude it because it wont useful for models\n",
        "#não há dados nessa coluna, então podemos descarta-la pois não será útil ao modelo\n",
        "\n",
        "df_treino_models = df_treino_models.drop(columns = ['payment_plan_start_date'], axis = 1)\n",
        "df_teste_models = df_teste_models.drop(columns = ['payment_plan_start_date'], axis = 1)"
      ],
      "metadata": {
        "id": "kpCKnprfWT3T"
      },
      "execution_count": null,
      "outputs": []
    },
    {
      "cell_type": "markdown",
      "metadata": {
        "id": "O_BiqswAtufl"
      },
      "source": [
        "###**earliest_cr_line**"
      ]
    },
    {
      "cell_type": "code",
      "execution_count": null,
      "metadata": {
        "id": "tXbXfHs-usXV",
        "colab": {
          "base_uri": "https://localhost:8080/"
        },
        "outputId": "495761ed-eb56-4150-caae-106143845e33"
      },
      "outputs": [
        {
          "output_type": "stream",
          "name": "stdout",
          "text": [
            "0.0\n",
            "0.0\n"
          ]
        }
      ],
      "source": [
        "#null proportion\n",
        "#proporção de nulos\n",
        "\n",
        "print(df_treino_models['earliest_cr_line'].isnull().sum()/df_treino_models.shape[0])\n",
        "print(df_teste_models['earliest_cr_line'].isnull().sum()/df_teste_models.shape[0])"
      ]
    },
    {
      "cell_type": "code",
      "source": [
        "#transform column to data\n",
        "# transforma coluna em datas\n",
        "\n",
        "df_treino_models['earliest_cr_line'] = pd.to_datetime(df_treino_models['earliest_cr_line'])\n",
        "df_teste_models['earliest_cr_line'] = pd.to_datetime(df_teste_models['earliest_cr_line'])\n",
        "\n",
        "\n",
        "#today\n",
        "#hoje\n",
        "\n",
        "today = pd.to_datetime(datetime.now().date())\n",
        "\n",
        "#transform in years\n",
        "#transforma em anos\n",
        "\n",
        "df_treino_models['earliest_cr_line_years'] = (today - df_treino_models['earliest_cr_line']).dt.days / 365.25\n",
        "df_teste_models['earliest_cr_line_years'] = (today - df_teste_models['earliest_cr_line']).dt.days / 365.25\n",
        "\n",
        "# Define 5 years intevarls\n",
        "# Definindo os intervalos de 5 em 5 anos\n",
        "\n",
        "bins   = [5*i for i in range(0,17)]\n",
        "labels = [i for i in range(0,16)]\n",
        "\n",
        "#divide classes\n",
        "#divide em classes\n",
        "\n",
        "df_treino_models['earliest_cr_line_years'] = pd.cut(df_treino_models['earliest_cr_line_years'] , bins=bins, labels=labels, right=False)\n",
        "df_teste_models['earliest_cr_line_years'] = pd.cut(df_teste_models['earliest_cr_line_years'] , bins=bins, labels=labels, right=False)\n",
        "\n"
      ],
      "metadata": {
        "id": "qnChl4YRWxm8"
      },
      "execution_count": null,
      "outputs": []
    },
    {
      "cell_type": "code",
      "execution_count": null,
      "metadata": {
        "id": "9FSLyDii_2W4",
        "colab": {
          "base_uri": "https://localhost:8080/",
          "height": 1000
        },
        "outputId": "bedb5ae5-49fc-4a0e-9bce-b2f8dc0132f4"
      },
      "outputs": [
        {
          "output_type": "display_data",
          "data": {
            "text/plain": [
              "earliest_cr_line_years\n",
              "4     0.324088\n",
              "5     0.218278\n",
              "3     0.189598\n",
              "6     0.111115\n",
              "7     0.062417\n",
              "2     0.045103\n",
              "8     0.027063\n",
              "9     0.013152\n",
              "10    0.005477\n",
              "11    0.002520\n",
              "12    0.000677\n",
              "1     0.000317\n",
              "13    0.000154\n",
              "14    0.000040\n",
              "0     0.000000\n",
              "15    0.000000\n",
              "Name: proportion, dtype: float64"
            ],
            "text/html": [
              "<div>\n",
              "<style scoped>\n",
              "    .dataframe tbody tr th:only-of-type {\n",
              "        vertical-align: middle;\n",
              "    }\n",
              "\n",
              "    .dataframe tbody tr th {\n",
              "        vertical-align: top;\n",
              "    }\n",
              "\n",
              "    .dataframe thead th {\n",
              "        text-align: right;\n",
              "    }\n",
              "</style>\n",
              "<table border=\"1\" class=\"dataframe\">\n",
              "  <thead>\n",
              "    <tr style=\"text-align: right;\">\n",
              "      <th></th>\n",
              "      <th>proportion</th>\n",
              "    </tr>\n",
              "    <tr>\n",
              "      <th>earliest_cr_line_years</th>\n",
              "      <th></th>\n",
              "    </tr>\n",
              "  </thead>\n",
              "  <tbody>\n",
              "    <tr>\n",
              "      <th>4</th>\n",
              "      <td>0.324088</td>\n",
              "    </tr>\n",
              "    <tr>\n",
              "      <th>5</th>\n",
              "      <td>0.218278</td>\n",
              "    </tr>\n",
              "    <tr>\n",
              "      <th>3</th>\n",
              "      <td>0.189598</td>\n",
              "    </tr>\n",
              "    <tr>\n",
              "      <th>6</th>\n",
              "      <td>0.111115</td>\n",
              "    </tr>\n",
              "    <tr>\n",
              "      <th>7</th>\n",
              "      <td>0.062417</td>\n",
              "    </tr>\n",
              "    <tr>\n",
              "      <th>2</th>\n",
              "      <td>0.045103</td>\n",
              "    </tr>\n",
              "    <tr>\n",
              "      <th>8</th>\n",
              "      <td>0.027063</td>\n",
              "    </tr>\n",
              "    <tr>\n",
              "      <th>9</th>\n",
              "      <td>0.013152</td>\n",
              "    </tr>\n",
              "    <tr>\n",
              "      <th>10</th>\n",
              "      <td>0.005477</td>\n",
              "    </tr>\n",
              "    <tr>\n",
              "      <th>11</th>\n",
              "      <td>0.002520</td>\n",
              "    </tr>\n",
              "    <tr>\n",
              "      <th>12</th>\n",
              "      <td>0.000677</td>\n",
              "    </tr>\n",
              "    <tr>\n",
              "      <th>1</th>\n",
              "      <td>0.000317</td>\n",
              "    </tr>\n",
              "    <tr>\n",
              "      <th>13</th>\n",
              "      <td>0.000154</td>\n",
              "    </tr>\n",
              "    <tr>\n",
              "      <th>14</th>\n",
              "      <td>0.000040</td>\n",
              "    </tr>\n",
              "    <tr>\n",
              "      <th>0</th>\n",
              "      <td>0.000000</td>\n",
              "    </tr>\n",
              "    <tr>\n",
              "      <th>15</th>\n",
              "      <td>0.000000</td>\n",
              "    </tr>\n",
              "  </tbody>\n",
              "</table>\n",
              "</div><br><label><b>dtype:</b> float64</label>"
            ]
          },
          "metadata": {}
        },
        {
          "output_type": "display_data",
          "data": {
            "text/plain": [
              "earliest_cr_line_years\n",
              "4     0.323060\n",
              "5     0.217613\n",
              "3     0.189160\n",
              "6     0.112233\n",
              "7     0.063333\n",
              "2     0.043893\n",
              "8     0.028300\n",
              "9     0.013407\n",
              "10    0.005620\n",
              "11    0.002373\n",
              "12    0.000707\n",
              "13    0.000153\n",
              "1     0.000127\n",
              "14    0.000020\n",
              "0     0.000000\n",
              "15    0.000000\n",
              "Name: proportion, dtype: float64"
            ],
            "text/html": [
              "<div>\n",
              "<style scoped>\n",
              "    .dataframe tbody tr th:only-of-type {\n",
              "        vertical-align: middle;\n",
              "    }\n",
              "\n",
              "    .dataframe tbody tr th {\n",
              "        vertical-align: top;\n",
              "    }\n",
              "\n",
              "    .dataframe thead th {\n",
              "        text-align: right;\n",
              "    }\n",
              "</style>\n",
              "<table border=\"1\" class=\"dataframe\">\n",
              "  <thead>\n",
              "    <tr style=\"text-align: right;\">\n",
              "      <th></th>\n",
              "      <th>proportion</th>\n",
              "    </tr>\n",
              "    <tr>\n",
              "      <th>earliest_cr_line_years</th>\n",
              "      <th></th>\n",
              "    </tr>\n",
              "  </thead>\n",
              "  <tbody>\n",
              "    <tr>\n",
              "      <th>4</th>\n",
              "      <td>0.323060</td>\n",
              "    </tr>\n",
              "    <tr>\n",
              "      <th>5</th>\n",
              "      <td>0.217613</td>\n",
              "    </tr>\n",
              "    <tr>\n",
              "      <th>3</th>\n",
              "      <td>0.189160</td>\n",
              "    </tr>\n",
              "    <tr>\n",
              "      <th>6</th>\n",
              "      <td>0.112233</td>\n",
              "    </tr>\n",
              "    <tr>\n",
              "      <th>7</th>\n",
              "      <td>0.063333</td>\n",
              "    </tr>\n",
              "    <tr>\n",
              "      <th>2</th>\n",
              "      <td>0.043893</td>\n",
              "    </tr>\n",
              "    <tr>\n",
              "      <th>8</th>\n",
              "      <td>0.028300</td>\n",
              "    </tr>\n",
              "    <tr>\n",
              "      <th>9</th>\n",
              "      <td>0.013407</td>\n",
              "    </tr>\n",
              "    <tr>\n",
              "      <th>10</th>\n",
              "      <td>0.005620</td>\n",
              "    </tr>\n",
              "    <tr>\n",
              "      <th>11</th>\n",
              "      <td>0.002373</td>\n",
              "    </tr>\n",
              "    <tr>\n",
              "      <th>12</th>\n",
              "      <td>0.000707</td>\n",
              "    </tr>\n",
              "    <tr>\n",
              "      <th>13</th>\n",
              "      <td>0.000153</td>\n",
              "    </tr>\n",
              "    <tr>\n",
              "      <th>1</th>\n",
              "      <td>0.000127</td>\n",
              "    </tr>\n",
              "    <tr>\n",
              "      <th>14</th>\n",
              "      <td>0.000020</td>\n",
              "    </tr>\n",
              "    <tr>\n",
              "      <th>0</th>\n",
              "      <td>0.000000</td>\n",
              "    </tr>\n",
              "    <tr>\n",
              "      <th>15</th>\n",
              "      <td>0.000000</td>\n",
              "    </tr>\n",
              "  </tbody>\n",
              "</table>\n",
              "</div><br><label><b>dtype:</b> float64</label>"
            ]
          },
          "metadata": {}
        }
      ],
      "source": [
        "display(df_treino_models['earliest_cr_line_years'].value_counts(normalize = True))\n",
        "display(df_teste_models['earliest_cr_line_years'].value_counts(normalize = True))"
      ]
    },
    {
      "cell_type": "markdown",
      "metadata": {
        "id": "AeR6lEb7Exb5"
      },
      "source": [
        "###**last_credit_pull_d**"
      ]
    },
    {
      "cell_type": "code",
      "source": [
        "#null proportion\n",
        "#proporção de nulos\n",
        "\n",
        "print(df_treino_models['last_credit_pull_d'].isnull().sum()/df_treino_models.shape[0])\n",
        "print(df_teste_models['last_credit_pull_d'].isnull().sum()/df_teste_models.shape[0])"
      ],
      "metadata": {
        "colab": {
          "base_uri": "https://localhost:8080/"
        },
        "id": "yF8AG38Ob2wE",
        "outputId": "b382e3bd-a1a9-4133-c39e-0ef7a22cb6ff"
      },
      "execution_count": null,
      "outputs": [
        {
          "output_type": "stream",
          "name": "stdout",
          "text": [
            "4.571441632690379e-05\n",
            "2.6666666666666667e-05\n"
          ]
        }
      ]
    },
    {
      "cell_type": "code",
      "source": [
        "#transform column to data\n",
        "#transforma coluna em datas\n",
        "\n",
        "df_treino_models['last_credit_pull_d'] = pd.to_datetime(df_treino_models['last_credit_pull_d'])\n",
        "df_teste_models['last_credit_pull_d'] = pd.to_datetime(df_teste_models['last_credit_pull_d'])\n",
        "\n",
        "#nova coluna: diferença entre criação da primeira linha de crédito e ultima consulta feita em bereau\n",
        "\n",
        "df_treino_models['earliest_cr_line_last_credit_pull_d'] = df_treino_models['last_credit_pull_d'] - df_treino_models['earliest_cr_line']\n",
        "df_teste_models['earliest_cr_line_last_credit_pull_d'] = df_teste_models['last_credit_pull_d'] - df_teste_models['earliest_cr_line']\n",
        "\n",
        "#calcula diferença em anos e agrupa em ano\n",
        "\n",
        "bins   = [5*i for i in range(0,15)]\n",
        "labels = [i for i in range(0,14)]\n",
        "\n",
        "#divide classes\n",
        "#divide em classes\n",
        "\n",
        "df_treino_models['earliest_cr_line_last_credit_pull_d_years'] = pd.cut(df_treino_models['earliest_cr_line_last_credit_pull_d'] , bins=bins, labels=labels, right=False)\n",
        "df_teste_models['earliest_cr_line_last_credit_pull_d_years'] = pd.cut(df_teste_models['earliest_cr_line_last_credit_pull_d'] , bins=bins, labels=labels, right=False)\n",
        "\n"
      ],
      "metadata": {
        "id": "6Z3pOAN6cilx"
      },
      "execution_count": null,
      "outputs": []
    },
    {
      "cell_type": "code",
      "source": [
        "#drops olds columns\n",
        "#exclui colunas antigas\n",
        "\n",
        "df_treino_models = df_treino_models.drop(columns = ['earliest_cr_line'], axis = 1)\n",
        "df_teste_models = df_teste_models.drop(columns = ['earliest_cr_line'], axis = 1)\n",
        "\n",
        "df_treino_models = df_treino_models.drop(columns = ['last_credit_pull_d'], axis = 1)\n",
        "df_teste_models = df_teste_models.drop(columns = ['last_credit_pull_d'], axis = 1)\n",
        "\n",
        "\n",
        "df_treino_models = df_treino_models.drop(columns = ['earliest_cr_line_last_credit_pull_d'], axis = 1)\n",
        "df_teste_models = df_teste_models.drop(columns = ['earliest_cr_line_last_credit_pull_d'], axis = 1)"
      ],
      "metadata": {
        "id": "n0w3TGi7cxtN"
      },
      "execution_count": null,
      "outputs": []
    },
    {
      "cell_type": "markdown",
      "source": [
        "###**sec_app_earliest_cr_line**"
      ],
      "metadata": {
        "id": "-ukBC9auIJDE"
      }
    },
    {
      "cell_type": "code",
      "source": [
        "#null proportion\n",
        "#proporção de nulos\n",
        "\n",
        "print(df_treino_models['sec_app_earliest_cr_line'].isnull().sum()/df_treino_models.shape[0])\n",
        "print(df_teste_models['sec_app_earliest_cr_line'].isnull().sum()/df_teste_models.shape[0])"
      ],
      "metadata": {
        "colab": {
          "base_uri": "https://localhost:8080/"
        },
        "id": "fAFzkp0qTOwH",
        "outputId": "63d8a40d-81c8-4716-8efa-7f51dc64fb5a"
      },
      "execution_count": null,
      "outputs": [
        {
          "output_type": "stream",
          "name": "stdout",
          "text": [
            "0.9862142463264181\n",
            "0.9875133333333334\n"
          ]
        }
      ]
    },
    {
      "cell_type": "code",
      "source": [
        "#there no data  in this variable, os we will exclude it because it wont useful for models\n",
        "#não há dados nessa coluna, então podemos descarta-la pois não será útil ao modelo\n",
        "\n",
        "df_treino_models = df_treino_models.drop(columns = ['sec_app_earliest_cr_line'], axis = 1)\n",
        "df_teste_models = df_teste_models.drop(columns = ['sec_app_earliest_cr_line'], axis = 1)\n",
        "\n"
      ],
      "metadata": {
        "id": "EkucAFUmMf9w"
      },
      "execution_count": null,
      "outputs": []
    },
    {
      "cell_type": "markdown",
      "source": [
        "###**hardship_start_date**"
      ],
      "metadata": {
        "id": "ROdAVS8cli13"
      }
    },
    {
      "cell_type": "code",
      "source": [
        "#null proportion\n",
        "#proporção de nulos\n",
        "\n",
        "print(df_treino_models['hardship_start_date'].isnull().sum()/df_treino_models.shape[0])\n",
        "print(df_teste_models['hardship_start_date'].isnull().sum()/df_teste_models.shape[0])"
      ],
      "metadata": {
        "colab": {
          "base_uri": "https://localhost:8080/"
        },
        "id": "mdx81p-rllzm",
        "outputId": "8539724c-fb1f-48ea-ca3f-8877aa703257"
      },
      "execution_count": null,
      "outputs": [
        {
          "output_type": "stream",
          "name": "stdout",
          "text": [
            "0.9917999765713617\n",
            "0.9922\n"
          ]
        }
      ]
    },
    {
      "cell_type": "code",
      "source": [
        "#there no data  in this variable, os we will exclude it because it wont useful for models\n",
        "#não há dados nessa coluna, então podemos descarta-la pois não será útil ao modelo\n",
        "\n",
        "df_treino_models = df_treino_models.drop(columns = ['hardship_start_date'], axis = 1)\n",
        "df_teste_models = df_teste_models.drop(columns = ['hardship_start_date'], axis = 1)"
      ],
      "metadata": {
        "id": "gBv2zgkWgroH"
      },
      "execution_count": null,
      "outputs": []
    },
    {
      "cell_type": "markdown",
      "source": [
        "###**hardship_end_date**"
      ],
      "metadata": {
        "id": "-DeYmI44gxjg"
      }
    },
    {
      "cell_type": "code",
      "source": [
        "#null proportion\n",
        "#proporção de nulos\n",
        "\n",
        "print(df_treino_models['hardship_end_date'].isnull().sum()/df_treino_models.shape[0])\n",
        "print(df_teste_models['hardship_end_date'].isnull().sum()/df_teste_models.shape[0])"
      ],
      "metadata": {
        "colab": {
          "base_uri": "https://localhost:8080/"
        },
        "id": "ybSvf53fg4Bz",
        "outputId": "2f29f0ae-04df-4ee0-b9f3-ede453bcc026"
      },
      "execution_count": null,
      "outputs": [
        {
          "output_type": "stream",
          "name": "stdout",
          "text": [
            "0.9917999765713617\n",
            "0.9922\n"
          ]
        }
      ]
    },
    {
      "cell_type": "code",
      "source": [
        "#there no data  in this variable, os we will exclude it because it wont useful for models\n",
        "#não há dados nessa coluna, então podemos descarta-la pois não será útil ao modelo\n",
        "\n",
        "df_treino_models = df_treino_models.drop(columns = ['hardship_end_date'], axis = 1)\n",
        "df_teste_models = df_teste_models.drop(columns = ['hardship_end_date'], axis = 1)"
      ],
      "metadata": {
        "id": "IhRT9RYyhBqx"
      },
      "execution_count": null,
      "outputs": []
    },
    {
      "cell_type": "markdown",
      "source": [
        "###**debt_settlement_flag_date**"
      ],
      "metadata": {
        "id": "GKw3ctcR5FYH"
      }
    },
    {
      "cell_type": "code",
      "source": [
        "#null proportion\n",
        "#proporção de nulos\n",
        "\n",
        "print(df_treino_models['debt_settlement_flag_date'].isnull().sum()/df_treino_models.shape[0])\n",
        "print(df_teste_models['debt_settlement_flag_date'].isnull().sum()/df_teste_models.shape[0])"
      ],
      "metadata": {
        "colab": {
          "base_uri": "https://localhost:8080/"
        },
        "id": "Kh9Ct9M56QQc",
        "outputId": "e8109e7c-9551-4b08-9bd5-d88aa9324712"
      },
      "execution_count": null,
      "outputs": [
        {
          "output_type": "stream",
          "name": "stdout",
          "text": [
            "0.9393741124974643\n",
            "0.93812\n"
          ]
        }
      ]
    },
    {
      "cell_type": "code",
      "source": [
        "#there no data  in this variable, os we will exclude it because it wont useful for models\n",
        "#não há dados nessa coluna, então podemos descarta-la pois não será útil ao modelo\n",
        "\n",
        "df_treino_models = df_treino_models.drop(columns = ['debt_settlement_flag_date'], axis = 1)\n",
        "df_teste_models = df_teste_models.drop(columns = ['debt_settlement_flag_date'], axis = 1)"
      ],
      "metadata": {
        "id": "CdRmRfAK-grU"
      },
      "execution_count": null,
      "outputs": []
    },
    {
      "cell_type": "markdown",
      "source": [
        "###**settlement_date**"
      ],
      "metadata": {
        "id": "RKdyvG_yExXq"
      }
    },
    {
      "cell_type": "code",
      "source": [
        "#null proportion\n",
        "#proporção de nulos\n",
        "\n",
        "print(df_treino_models['settlement_date'].isnull().sum()/df_treino_models.shape[0])\n",
        "print(df_teste_models['settlement_date'].isnull().sum()/df_teste_models.shape[0])"
      ],
      "metadata": {
        "colab": {
          "base_uri": "https://localhost:8080/"
        },
        "id": "MQolqbRIGkJX",
        "outputId": "b8f5bd10-56ff-411a-88a5-1f9c2166b988"
      },
      "execution_count": null,
      "outputs": [
        {
          "output_type": "stream",
          "name": "stdout",
          "text": [
            "0.9393741124974643\n",
            "0.93812\n"
          ]
        }
      ]
    },
    {
      "cell_type": "code",
      "source": [
        "#there no data  in this variable, os we will exclude it because it wont useful for models\n",
        "#não há dados nessa coluna, então podemos descarta-la pois não será útil ao modelo\n",
        "\n",
        "df_treino_models = df_treino_models.drop(columns = ['settlement_date'], axis = 1)\n",
        "df_teste_models = df_teste_models.drop(columns = ['settlement_date'], axis = 1)\n"
      ],
      "metadata": {
        "id": "Y5wj5xbEFkVg"
      },
      "execution_count": null,
      "outputs": []
    },
    {
      "cell_type": "markdown",
      "source": [
        "###**loan_status**"
      ],
      "metadata": {
        "id": "3KKbWBtsi8Hh"
      }
    },
    {
      "cell_type": "code",
      "source": [
        "#null proportion\n",
        "#proporção de nulos\n",
        "\n",
        "print(df_treino_models['loan_status'].isnull().sum()/df_treino_models.shape[0])\n",
        "print(df_teste_models['loan_status'].isnull().sum()/df_teste_models.shape[0])"
      ],
      "metadata": {
        "colab": {
          "base_uri": "https://localhost:8080/"
        },
        "id": "FYqMAlT_jJM7",
        "outputId": "69dbf5d6-3db1-4225-975f-21a65b7b14b5"
      },
      "execution_count": null,
      "outputs": [
        {
          "output_type": "stream",
          "name": "stdout",
          "text": [
            "0.0\n",
            "0.0\n"
          ]
        }
      ]
    },
    {
      "cell_type": "code",
      "source": [
        "display(df_treino_models['loan_status'].value_counts(normalize = True))\n",
        "display(df_teste_models['loan_status'].value_counts(normalize = True))"
      ],
      "metadata": {
        "colab": {
          "base_uri": "https://localhost:8080/",
          "height": 340
        },
        "id": "-iflpPMAEsAy",
        "outputId": "9dd74cd4-396a-4e67-e7dc-8504ba6440b4"
      },
      "execution_count": null,
      "outputs": [
        {
          "output_type": "display_data",
          "data": {
            "text/plain": [
              "loan_status\n",
              "Charged Off    0.500001\n",
              "Fully Paid     0.499999\n",
              "Name: proportion, dtype: float64"
            ],
            "text/html": [
              "<div>\n",
              "<style scoped>\n",
              "    .dataframe tbody tr th:only-of-type {\n",
              "        vertical-align: middle;\n",
              "    }\n",
              "\n",
              "    .dataframe tbody tr th {\n",
              "        vertical-align: top;\n",
              "    }\n",
              "\n",
              "    .dataframe thead th {\n",
              "        text-align: right;\n",
              "    }\n",
              "</style>\n",
              "<table border=\"1\" class=\"dataframe\">\n",
              "  <thead>\n",
              "    <tr style=\"text-align: right;\">\n",
              "      <th></th>\n",
              "      <th>proportion</th>\n",
              "    </tr>\n",
              "    <tr>\n",
              "      <th>loan_status</th>\n",
              "      <th></th>\n",
              "    </tr>\n",
              "  </thead>\n",
              "  <tbody>\n",
              "    <tr>\n",
              "      <th>Charged Off</th>\n",
              "      <td>0.500001</td>\n",
              "    </tr>\n",
              "    <tr>\n",
              "      <th>Fully Paid</th>\n",
              "      <td>0.499999</td>\n",
              "    </tr>\n",
              "  </tbody>\n",
              "</table>\n",
              "</div><br><label><b>dtype:</b> float64</label>"
            ]
          },
          "metadata": {}
        },
        {
          "output_type": "display_data",
          "data": {
            "text/plain": [
              "loan_status\n",
              "Fully Paid     0.5\n",
              "Charged Off    0.5\n",
              "Name: proportion, dtype: float64"
            ],
            "text/html": [
              "<div>\n",
              "<style scoped>\n",
              "    .dataframe tbody tr th:only-of-type {\n",
              "        vertical-align: middle;\n",
              "    }\n",
              "\n",
              "    .dataframe tbody tr th {\n",
              "        vertical-align: top;\n",
              "    }\n",
              "\n",
              "    .dataframe thead th {\n",
              "        text-align: right;\n",
              "    }\n",
              "</style>\n",
              "<table border=\"1\" class=\"dataframe\">\n",
              "  <thead>\n",
              "    <tr style=\"text-align: right;\">\n",
              "      <th></th>\n",
              "      <th>proportion</th>\n",
              "    </tr>\n",
              "    <tr>\n",
              "      <th>loan_status</th>\n",
              "      <th></th>\n",
              "    </tr>\n",
              "  </thead>\n",
              "  <tbody>\n",
              "    <tr>\n",
              "      <th>Fully Paid</th>\n",
              "      <td>0.5</td>\n",
              "    </tr>\n",
              "    <tr>\n",
              "      <th>Charged Off</th>\n",
              "      <td>0.5</td>\n",
              "    </tr>\n",
              "  </tbody>\n",
              "</table>\n",
              "</div><br><label><b>dtype:</b> float64</label>"
            ]
          },
          "metadata": {}
        }
      ]
    },
    {
      "cell_type": "code",
      "execution_count": null,
      "metadata": {
        "id": "DR9LNMwv7ur7"
      },
      "outputs": [],
      "source": [
        "#conversão em classes\n",
        "#class conversation\n",
        "\n",
        "def convert_loan_status(x):\n",
        "\n",
        "  if   x == 'Fully Paid':                      x = 1\n",
        "  elif x == 'Charged Off':                     x = 0\n",
        "\n",
        "  return x"
      ]
    },
    {
      "cell_type": "code",
      "source": [
        "#change the original variable\n",
        "#substitui a coluna original\n",
        "\n",
        "df_treino_models['loan_status'] = df_treino_models['loan_status'].apply(convert_loan_status)\n",
        "df_teste_models['loan_status'] = df_teste_models['loan_status'].apply(convert_loan_status)"
      ],
      "metadata": {
        "id": "OVS8XlkVlYC-"
      },
      "execution_count": null,
      "outputs": []
    },
    {
      "cell_type": "code",
      "source": [
        "display(df_treino_models['loan_status'].value_counts(normalize = True))\n",
        "display(df_teste_models['loan_status'].value_counts( normalize = True))"
      ],
      "metadata": {
        "colab": {
          "base_uri": "https://localhost:8080/",
          "height": 340
        },
        "id": "RCeniiR2HTvX",
        "outputId": "c4f0e140-ceb7-4df1-efd2-6cd28278018c"
      },
      "execution_count": null,
      "outputs": [
        {
          "output_type": "display_data",
          "data": {
            "text/plain": [
              "loan_status\n",
              "0    0.500001\n",
              "1    0.499999\n",
              "Name: proportion, dtype: float64"
            ],
            "text/html": [
              "<div>\n",
              "<style scoped>\n",
              "    .dataframe tbody tr th:only-of-type {\n",
              "        vertical-align: middle;\n",
              "    }\n",
              "\n",
              "    .dataframe tbody tr th {\n",
              "        vertical-align: top;\n",
              "    }\n",
              "\n",
              "    .dataframe thead th {\n",
              "        text-align: right;\n",
              "    }\n",
              "</style>\n",
              "<table border=\"1\" class=\"dataframe\">\n",
              "  <thead>\n",
              "    <tr style=\"text-align: right;\">\n",
              "      <th></th>\n",
              "      <th>proportion</th>\n",
              "    </tr>\n",
              "    <tr>\n",
              "      <th>loan_status</th>\n",
              "      <th></th>\n",
              "    </tr>\n",
              "  </thead>\n",
              "  <tbody>\n",
              "    <tr>\n",
              "      <th>0</th>\n",
              "      <td>0.500001</td>\n",
              "    </tr>\n",
              "    <tr>\n",
              "      <th>1</th>\n",
              "      <td>0.499999</td>\n",
              "    </tr>\n",
              "  </tbody>\n",
              "</table>\n",
              "</div><br><label><b>dtype:</b> float64</label>"
            ]
          },
          "metadata": {}
        },
        {
          "output_type": "display_data",
          "data": {
            "text/plain": [
              "loan_status\n",
              "1    0.5\n",
              "0    0.5\n",
              "Name: proportion, dtype: float64"
            ],
            "text/html": [
              "<div>\n",
              "<style scoped>\n",
              "    .dataframe tbody tr th:only-of-type {\n",
              "        vertical-align: middle;\n",
              "    }\n",
              "\n",
              "    .dataframe tbody tr th {\n",
              "        vertical-align: top;\n",
              "    }\n",
              "\n",
              "    .dataframe thead th {\n",
              "        text-align: right;\n",
              "    }\n",
              "</style>\n",
              "<table border=\"1\" class=\"dataframe\">\n",
              "  <thead>\n",
              "    <tr style=\"text-align: right;\">\n",
              "      <th></th>\n",
              "      <th>proportion</th>\n",
              "    </tr>\n",
              "    <tr>\n",
              "      <th>loan_status</th>\n",
              "      <th></th>\n",
              "    </tr>\n",
              "  </thead>\n",
              "  <tbody>\n",
              "    <tr>\n",
              "      <th>1</th>\n",
              "      <td>0.5</td>\n",
              "    </tr>\n",
              "    <tr>\n",
              "      <th>0</th>\n",
              "      <td>0.5</td>\n",
              "    </tr>\n",
              "  </tbody>\n",
              "</table>\n",
              "</div><br><label><b>dtype:</b> float64</label>"
            ]
          },
          "metadata": {}
        }
      ]
    },
    {
      "cell_type": "markdown",
      "source": [
        "#**Salvar Bases Tratadas**"
      ],
      "metadata": {
        "id": "QcYocZ3gAtG7"
      }
    },
    {
      "cell_type": "code",
      "source": [
        "df_treino_models.to_csv('/content/drive/MyDrive/TCC/1. Base de Dados/dados_tratados_treino/loan_tratada_treino.csv', index = False)\n",
        "df_teste_models.to_csv('/content/drive/MyDrive/TCC/1. Base de Dados/dados_tratados_teste/loan_tratada_teste.csv', index = False)"
      ],
      "metadata": {
        "id": "D1UN_UQSArvj"
      },
      "execution_count": null,
      "outputs": []
    }
  ],
  "metadata": {
    "colab": {
      "provenance": [],
      "toc_visible": true,
      "mount_file_id": "12JYANp8B0FIvk4MtRpMViA36q_5uTtom",
      "authorship_tag": "ABX9TyP4uW9+9cWkT6YjXLAzRkAi",
      "include_colab_link": true
    },
    "kernelspec": {
      "display_name": "Python 3",
      "name": "python3"
    },
    "language_info": {
      "name": "python"
    },
    "vp": {
      "vp_note_display": false,
      "vp_note_width": 0,
      "vp_position": {
        "width": 278
      },
      "vp_menu_width": 273
    }
  },
  "nbformat": 4,
  "nbformat_minor": 0
}