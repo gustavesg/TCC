{
  "cells": [
    {
      "cell_type": "markdown",
      "metadata": {
        "id": "view-in-github",
        "colab_type": "text"
      },
      "source": [
        "<a href=\"https://colab.research.google.com/github/gustavesg/TCC/blob/main/4_Modelos_Tradicionais.ipynb\" target=\"_parent\"><img src=\"https://colab.research.google.com/assets/colab-badge.svg\" alt=\"Open In Colab\"/></a>"
      ]
    },
    {
      "cell_type": "code",
      "execution_count": null,
      "metadata": {
        "id": "Ci72IcTx9V9S",
        "colab": {
          "base_uri": "https://localhost:8080/"
        },
        "outputId": "20b93de1-4f96-474d-b596-1a309633edda"
      },
      "outputs": [
        {
          "output_type": "stream",
          "name": "stdout",
          "text": [
            "Drive already mounted at /content/drive; to attempt to forcibly remount, call drive.mount(\"/content/drive\", force_remount=True).\n"
          ]
        }
      ],
      "source": [
        "#importação drive + bibliotecas\n",
        "\n",
        "import itertools\n",
        "import pandas as pd\n",
        "import numpy as np\n",
        "from sklearn.metrics import f1_score\n",
        "from sklearn.linear_model import LogisticRegression\n",
        "from sklearn.ensemble import RandomForestClassifier\n",
        "import statsmodels.api as sm\n",
        "from sklearn.metrics import accuracy_score, precision_score, recall_score, f1_score, confusion_matrix\n",
        "\n",
        "from google.colab import drive\n",
        "drive.mount('/content/drive')"
      ]
    },
    {
      "cell_type": "code",
      "execution_count": null,
      "metadata": {
        "id": "3eybaQUv9P1t"
      },
      "outputs": [],
      "source": [
        "#importação base de dados\n",
        "\n",
        "#base treino normalizada\n",
        "df_treino = pd.read_csv('/content/drive/MyDrive/TCC/1. Base de Dados/dados_finais_treino/base_final_treino')\n",
        "\n",
        "#base teste normalizada\n",
        "df_teste = pd.read_csv('/content/drive/MyDrive/TCC/1. Base de Dados/dados_finais_teste/base_final_teste')\n",
        "\n",
        "#exclui coluna desnecesária\n",
        "df_treino = df_treino.drop(columns=['Unnamed: 0'])\n",
        "df_teste = df_teste.drop(columns=['Unnamed: 0'])\n",
        "\n"
      ]
    },
    {
      "cell_type": "markdown",
      "metadata": {
        "id": "aalT5aJUi7LS"
      },
      "source": [
        "### **Parâmetro Flexibilidade**"
      ]
    },
    {
      "cell_type": "code",
      "execution_count": null,
      "metadata": {
        "id": "P8tN6R9DjA33"
      },
      "outputs": [],
      "source": [
        "alpha = 0.33"
      ]
    },
    {
      "cell_type": "markdown",
      "metadata": {
        "id": "hVj1UHl3_vsE"
      },
      "source": [
        "### **Regressão Logística**"
      ]
    },
    {
      "cell_type": "code",
      "execution_count": null,
      "metadata": {
        "colab": {
          "base_uri": "https://localhost:8080/"
        },
        "id": "IOxZDcsLsqrx",
        "outputId": "6d54a7ca-9a02-4f55-9e55-de6e869cee75"
      },
      "outputs": [
        {
          "output_type": "stream",
          "name": "stdout",
          "text": [
            "Variável 'int_rate' adicionada com BIC: 410025.8020177276\n",
            "Variável 'dti' adicionada com BIC: 408020.950509354\n",
            "Variável 'avg_cur_bal' adicionada com BIC: 406424.9302449014\n",
            "Variável 'loan_amnt' adicionada com BIC: 405499.33825392555\n",
            "Variável 'total_bc_limit' adicionada com BIC: 404833.2452044925\n",
            "Variável 'annual_inc' adicionada com BIC: 404637.93427121977\n",
            "Variáveis selecionadas: ['int_rate', 'dti', 'avg_cur_bal', 'loan_amnt', 'total_bc_limit', 'annual_inc']\n"
          ]
        }
      ],
      "source": [
        "X_treino = df_treino.drop(columns='loan_status')\n",
        "y_treino = df_treino['loan_status']\n",
        "\n",
        "# declara lista pra todas variáveis + lista pros subconjuntos de variáveis\n",
        "todas_variaveis = list(X_treino.columns)\n",
        "subconjunto_variaveis = []\n",
        "\n",
        "# BIC inicial definido como infinito\n",
        "bic_melhor = np.inf\n",
        "melhor_modelo = None\n",
        "\n",
        "while todas_variaveis:\n",
        "    bic_scores = []\n",
        "    modelos = []\n",
        "\n",
        "    # Testar cada variável não selecionada\n",
        "    for var in todas_variaveis:\n",
        "        subconjunto_teste = subconjunto_variaveis + [var]\n",
        "        X_possivel_treino = sm.add_constant(X_treino[subconjunto_teste])  # Adiciona a constante para o intercepto\n",
        "\n",
        "        # Ajustar o modelo de regressão logística\n",
        "        modelo = sm.Logit(y_treino, X_possivel_treino).fit(disp=0)  # disp=0 para suprimir a saída\n",
        "        bic_score = modelo.bic  # Obter o BIC do modelo\n",
        "\n",
        "        bic_scores.append((var, bic_score))\n",
        "        modelos.append((var, modelo))\n",
        "\n",
        "    # Selecionar a variável com o menor BIC\n",
        "    var_melhor, bic_menor = min(bic_scores, key=lambda x: x[1])\n",
        "\n",
        "    # Se o novo BIC for melhor (menor), adiciona a variável ao modelo\n",
        "    if bic_menor < bic_melhor:\n",
        "        bic_melhor = bic_menor\n",
        "        melhor_modelo = [m[1] for m in modelos if m[0] == var_melhor][0]\n",
        "        subconjunto_variaveis.append(var_melhor)\n",
        "        todas_variaveis.remove(var_melhor)\n",
        "        print(f\"Variável '{var_melhor}' adicionada com BIC: {bic_melhor}\")\n",
        "    else:\n",
        "        break  # Se não houver melhoria no BIC, interrompa o loop\n",
        "\n",
        "print(\"Variáveis selecionadas:\", subconjunto_variaveis)\n"
      ]
    },
    {
      "cell_type": "code",
      "execution_count": null,
      "metadata": {
        "colab": {
          "base_uri": "https://localhost:8080/"
        },
        "id": "bsGID0ARAndZ",
        "outputId": "651ca904-165a-4e70-89cf-1b2d9ca2985b"
      },
      "outputs": [
        {
          "output_type": "stream",
          "name": "stdout",
          "text": [
            "Coeficientes da Regressão Logística:\n",
            "int_rate: -3.014185762570759\n",
            "dti: -1.2044948893415448\n",
            "avg_cur_bal: 0.8611241353114959\n",
            "loan_amnt: -0.9104940302657374\n",
            "total_bc_limit: 0.5461714550435359\n",
            "annual_inc: 0.43124806778098973\n",
            "Optimization terminated successfully.\n",
            "         Current function value: 0.636925\n",
            "         Iterations 5\n",
            "\n",
            "Teste de Wald (Significância dos Coeficientes):\n",
            "                           Logit Regression Results                           \n",
            "==============================================================================\n",
            "Dep. Variable:            loan_status   No. Observations:               317580\n",
            "Model:                          Logit   Df Residuals:                   317573\n",
            "Method:                           MLE   Df Model:                            6\n",
            "Date:                Fri, 22 Nov 2024   Pseudo R-squ.:                 0.08071\n",
            "Time:                        15:08:34   Log-Likelihood:            -2.0227e+05\n",
            "converged:                       True   LL-Null:                   -2.2003e+05\n",
            "Covariance Type:            nonrobust   LLR p-value:                     0.000\n",
            "==================================================================================\n",
            "                     coef    std err          z      P>|z|      [0.025      0.975]\n",
            "----------------------------------------------------------------------------------\n",
            "const              1.2547      0.015     83.622      0.000       1.225       1.284\n",
            "int_rate          -3.0127      0.023   -130.065      0.000      -3.058      -2.967\n",
            "dti               -1.2041      0.029    -41.341      0.000      -1.261      -1.147\n",
            "avg_cur_bal        0.8593      0.022     39.712      0.000       0.817       0.902\n",
            "loan_amnt         -0.9118      0.022    -40.881      0.000      -0.955      -0.868\n",
            "total_bc_limit     0.5460      0.023     23.336      0.000       0.500       0.592\n",
            "annual_inc         0.4318      0.030     14.404      0.000       0.373       0.491\n",
            "==================================================================================\n",
            "\n",
            "F1 Score Ponderado com Pesos Personalizados: 0.6414840930513824\n",
            "Acurácia:  0.637619726604879\n",
            "Precisão:  0.6257925396672138\n",
            "Sensibilidade:  0.6232350914306778\n"
          ]
        }
      ],
      "source": [
        "# Trata casos nulos com a mediana\n",
        "df_treino = df_treino.fillna(df_treino.median())\n",
        "\n",
        "X_treino = df_treino[list(subconjunto_variaveis)]\n",
        "y_treino = df_treino['loan_status']\n",
        "\n",
        "X_teste = df_teste[list(subconjunto_variaveis)]\n",
        "y_teste = df_teste['loan_status']\n",
        "\n",
        "# Declara e treina o modelo de regressão logística\n",
        "model = LogisticRegression()\n",
        "model.fit(X_treino, y_treino)\n",
        "\n",
        "# Predições\n",
        "y_pred = model.predict(X_teste)\n",
        "\n",
        "# Coeficientes do modelo\n",
        "coeficientes = model.coef_[0]\n",
        "print(\"Coeficientes da Regressão Logística:\")\n",
        "for var, coef in zip(subconjunto_variaveis, coeficientes):\n",
        "    print(f\"{var}: {coef}\")\n",
        "\n",
        "# Teste de Wald\n",
        "X_treino_const = sm.add_constant(X_treino)  # Adiciona constante para o teste\n",
        "modelo_stats = sm.Logit(y_treino, X_treino_const).fit()\n",
        "\n",
        "print(\"\\nTeste de Wald (Significância dos Coeficientes):\")\n",
        "print(modelo_stats.summary())\n",
        "\n",
        "# Define os pesos para cada classe\n",
        "pesos = {0: 1 - alpha, 1: alpha}\n",
        "\n",
        "# Calcula métricas\n",
        "f1_class_0 = f1_score(y_teste, y_pred, pos_label=0, average='binary')\n",
        "f1_class_1 = f1_score(y_teste, y_pred, pos_label=1, average='binary')\n",
        "\n",
        "f1_ponderado = (f1_class_0 * pesos[0] + f1_class_1 * pesos[1]) / sum(pesos.values())\n",
        "accuracy = accuracy_score(y_teste, y_pred)\n",
        "precision = precision_score(y_teste, y_pred)\n",
        "recall = recall_score(y_teste, y_pred)\n",
        "\n",
        "print(\"\\nF1 Score Ponderado com Pesos Personalizados:\", f1_ponderado)\n",
        "print(\"Acurácia: \", accuracy)\n",
        "print(\"Precisão: \", precision)\n",
        "print(\"Sensibilidade: \", recall)\n",
        "\n",
        "\n",
        "\n"
      ]
    },
    {
      "cell_type": "code",
      "execution_count": null,
      "metadata": {
        "colab": {
          "base_uri": "https://localhost:8080/"
        },
        "id": "zFfIOzZeElCf",
        "outputId": "30bd3b3e-7398-4a3b-9fbe-b4bf422c80cd"
      },
      "outputs": [
        {
          "output_type": "execute_result",
          "data": {
            "text/plain": [
              "0.48155667834227084"
            ]
          },
          "metadata": {},
          "execution_count": 6
        }
      ],
      "source": [
        "#taxa de aprovação\n",
        "sum(y_pred)/len(y_pred)"
      ]
    },
    {
      "cell_type": "markdown",
      "metadata": {
        "id": "n91UtnMgaRd8"
      },
      "source": [
        "### **Random Forest**"
      ]
    },
    {
      "cell_type": "code",
      "execution_count": null,
      "metadata": {
        "id": "VcHRo-XHaUlP"
      },
      "outputs": [],
      "source": [
        "X_treino = df_treino.drop(columns='loan_status')\n",
        "y_treino = df_treino['loan_status']\n",
        "\n",
        "X_teste = df_teste.drop(columns='loan_status')\n",
        "y_teste = df_teste['loan_status']\n",
        "\n",
        "# Criando e treinando o modelo de Random Forest com pesos nas classes\n",
        "model = RandomForestClassifier(n_estimators=10, random_state=42)\n",
        "model.fit(X_treino, y_treino)\n",
        "\n",
        "# Fazendo previsões\n",
        "y_pred = model.predict(X_teste)\n",
        "\n",
        "#defina os pesos para cada classe\n",
        "pesos = {0: 1- alpha, 1: alpha}\n",
        "\n",
        "# Calcule o F1 Score para cada classe\n",
        "f1_class_0 = f1_score(y_teste, y_pred, pos_label=0, average='binary')\n",
        "f1_class_1 = f1_score(y_teste, y_pred, pos_label=1, average='binary')\n",
        "\n",
        "# Calcule o F1 Score ponderado manualmente\n",
        "f1_ponderado = (f1_class_0 * pesos[0] + f1_class_1 * pesos[1]) / sum(pesos.values())\n",
        "\n",
        "accuracy = accuracy_score(y_teste, y_pred)\n",
        "precision = precision_score(y_teste, y_pred)\n",
        "recall = recall_score(y_teste, y_pred)\n",
        "\n",
        "print(\"F1 Score Ponderado com Pesos Personalizados:\", f1_ponderado)\n",
        "print(\"Acurácia: \", accuracy)\n",
        "print(\"Precisão: \", precision)\n",
        "print(\"Sensibilidade: \", recall)\n"
      ]
    },
    {
      "cell_type": "code",
      "execution_count": null,
      "metadata": {
        "colab": {
          "base_uri": "https://localhost:8080/"
        },
        "id": "GPAYB9PHFJIK",
        "outputId": "576f327c-601a-4550-9668-4384ffe1eb64"
      },
      "outputs": [
        {
          "output_type": "execute_result",
          "data": {
            "text/plain": [
              "0.33857443972598494"
            ]
          },
          "metadata": {},
          "execution_count": 8
        }
      ],
      "source": [
        "#taxa de aprovação\n",
        "sum(y_pred)/len(y_pred)"
      ]
    }
  ],
  "metadata": {
    "colab": {
      "provenance": [],
      "mount_file_id": "1wVfji6JQeEs3sEjZa3-XwUBmHP1XaFuB",
      "authorship_tag": "ABX9TyNapVESXde9G/MoMg9emcCi",
      "include_colab_link": true
    },
    "kernelspec": {
      "display_name": "Python 3",
      "name": "python3"
    },
    "language_info": {
      "name": "python"
    }
  },
  "nbformat": 4,
  "nbformat_minor": 0
}